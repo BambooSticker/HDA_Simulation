{
 "cells": [
  {
   "cell_type": "code",
   "execution_count": 1,
   "id": "3494e8ed-36fc-461a-b265-c73287e86e14",
   "metadata": {},
   "outputs": [],
   "source": [
    "from pyomo.environ import *\n",
    ">>> from pyomo.network import *\n",
    ">>> m = ConcreteModel()\n",
    ">>> m.x = Var()\n",
    ">>> m.y = Var(['a', 'b']) # can be indexed\n",
    ">>> m.z = Var()\n",
    ">>> m.e = 5 * m.z # you can add Pyomo expressions too\n",
    ">>> m.w = Var()\n",
    "\n",
    ">>> m.p = Port()\n",
    ">>> m.p.add(m.x) # implicitly name the port member \"x\"\n",
    ">>> m.p.add(m.y, \"foo\") # name the member \"foo\"\n",
    ">>> m.p.add(m.e, rule=Port.Extensive) # specify a rule\n",
    ">>> m.p.add(m.w, rule=Port.Extensive, write_var_sum=False) # keyword arg"
   ]
  },
  {
   "cell_type": "code",
   "execution_count": 2,
   "id": "c5d305e5-2c67-4c5e-a266-a3a79e72a546",
   "metadata": {},
   "outputs": [
    {
     "name": "stdout",
     "output_type": "stream",
     "text": [
      "p : Size=1, Index=None\n",
      "    Key  : Name : Size : Variable\n",
      "    None :  foo :    2 :        y\n",
      "         :  mon :    1 :      5*z\n",
      "         :    w :    1 :        w\n",
      "         :    x :    1 :        x\n"
     ]
    }
   ],
   "source": [
    "m.p.pprint()"
   ]
  },
  {
   "cell_type": "code",
   "execution_count": null,
   "id": "7c5a1edf-83a2-4deb-b4ab-21fc0a04542c",
   "metadata": {},
   "outputs": [],
   "source": []
  }
 ],
 "metadata": {
  "kernelspec": {
   "display_name": "Python 3 (ipykernel)",
   "language": "python",
   "name": "python3"
  },
  "language_info": {
   "codemirror_mode": {
    "name": "ipython",
    "version": 3
   },
   "file_extension": ".py",
   "mimetype": "text/x-python",
   "name": "python",
   "nbconvert_exporter": "python",
   "pygments_lexer": "ipython3",
   "version": "3.9.18"
  }
 },
 "nbformat": 4,
 "nbformat_minor": 5
}
