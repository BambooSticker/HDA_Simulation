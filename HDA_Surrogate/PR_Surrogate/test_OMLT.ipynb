{
 "cells": [
  {
   "cell_type": "code",
   "execution_count": 1,
   "id": "5016d6cf-f445-4d7f-aff9-779743b7878b",
   "metadata": {},
   "outputs": [
    {
     "name": "stderr",
     "output_type": "stream",
     "text": [
      "2024-04-29 21:49:14.940588: I tensorflow/core/platform/cpu_feature_guard.cc:193] This TensorFlow binary is optimized with oneAPI Deep Neural Network Library (oneDNN) to use the following CPU instructions in performance-critical operations:  SSE4.1 SSE4.2\n",
      "To enable them in other operations, rebuild TensorFlow with the appropriate compiler flags.\n"
     ]
    }
   ],
   "source": [
    "import numpy as np\n",
    "import pandas as pd\n",
    "from datetime import datetime\n",
    "import matplotlib.pylab as plt\n",
    "from pyomo.environ import *\n",
    "from idaes.core.util.model_statistics import degrees_of_freedom\n",
    "from tensorflow.keras.models import Sequential\n",
    "from tensorflow.keras.layers import Dense\n",
    "from omlt import OmltBlock, OffsetScaling\n",
    "from omlt.neuralnet import FullSpaceNNFormulation, NetworkDefinition\n",
    "from idaes.core.surrogate.sampling.scaling import OffsetScaler\n",
    "from omlt.io import load_keras_sequential\n",
    "import warnings\n",
    "from time import time\n",
    "from IPython.display import display \n",
    "from idaes.core import FlowsheetBlock\n",
    "import BT_PR\n",
    "import time\n",
    "from tensorflow.keras.models import load_model\n",
    "\n",
    "compare = {'PR': [],'ANN':[]}"
   ]
  },
  {
   "cell_type": "code",
   "execution_count": 2,
   "id": "904f76e6-0725-4df8-be28-37bea5cad96d",
   "metadata": {},
   "outputs": [
    {
     "name": "stderr",
     "output_type": "stream",
     "text": [
      "2024-04-29 21:49:17.477299: I tensorflow/core/platform/cpu_feature_guard.cc:193] This TensorFlow binary is optimized with oneAPI Deep Neural Network Library (oneDNN) to use the following CPU instructions in performance-critical operations:  SSE4.1 SSE4.2\n",
      "To enable them in other operations, rebuild TensorFlow with the appropriate compiler flags.\n"
     ]
    }
   ],
   "source": [
    "model = load_model('BT_PR_model.h5')\n",
    "train_data = pd.read_csv(\"./data/train_outcome.csv\",index_col = 0)\n",
    "\n",
    "input_data = train_data.iloc[:, :3]\n",
    "output_data = train_data.iloc[:, 3:5]\n",
    "\n",
    "input_labels = input_data.columns\n",
    "output_labels = output_data.columns\n",
    "\n",
    "x = input_data\n",
    "y = output_data\n",
    "\n",
    "input_scaler = OffsetScaler.create_normalizing_scaler(x)\n",
    "output_scaler = OffsetScaler.create_normalizing_scaler(y)\n",
    "\n",
    "offset_inputs = input_scaler.offset_series().to_numpy()\n",
    "factor_inputs = input_scaler.factor_series().to_numpy()\n",
    "offset_outputs = output_scaler.offset_series().to_numpy()\n",
    "factor_outputs = output_scaler.factor_series().to_numpy()\n",
    "\n",
    "scaler = OffsetScaling(offset_inputs=offset_inputs,\n",
    "                    factor_inputs=factor_inputs,\n",
    "                    offset_outputs=offset_outputs,\n",
    "                    factor_outputs=factor_outputs)\n",
    "\n",
    "scaled_input_bounds = {0: (0, 1),\n",
    "                       1: (0, 1),\n",
    "                       2: (0, 1)\n",
    "                      }\n",
    "\n",
    "net = load_keras_sequential(model, scaler, scaled_input_bounds)\n",
    "formulation = FullSpaceNNFormulation(net)"
   ]
  },
  {
   "cell_type": "code",
   "execution_count": 3,
   "id": "bfed500e-8abc-43c4-b152-ded3f48f966f",
   "metadata": {},
   "outputs": [],
   "source": [
    "solver = SolverFactory('ipopt')"
   ]
  },
  {
   "cell_type": "code",
   "execution_count": 4,
   "id": "d8099690-75d3-43f1-bf64-48d0db9b737f",
   "metadata": {},
   "outputs": [],
   "source": [
    "def ANN_simu(T,P,F):\n",
    "    m = ConcreteModel()\n",
    "    m.Phase = Set(initialize=['Liq','Vap'])\n",
    "    m.Comp = Set(initialize=['benzene','toluene'])\n",
    "    m.F101 = Block()\n",
    "    m.F101.Temperature = Var(initialize = 298.5)\n",
    "    m.F101.Pressure = Var(initialize = 101325)\n",
    "    m.F101.Fraction_B = Var(initialize = 0.5)\n",
    "    m.F101.Fraction_T = Var(initialize = 0.5)\n",
    "    m.F101.x = Var(m.Comp,initialize = 0.5)\n",
    "    m.F101.y = Var(m.Comp,initialize = 0.5)\n",
    "    \n",
    "    @m.F101.Constraint()\n",
    "    def mass_inlet(b):\n",
    "        return b.Fraction_B + b.Fraction_T == 1\n",
    "    \n",
    "    @m.F101.Constraint()\n",
    "    def liq_outlet(b):\n",
    "        return sum(b.x[c] for c in m.Comp) == 1\n",
    "    \n",
    "    @m.F101.Constraint()\n",
    "    def vap_outlet(b):\n",
    "        return sum(b.y[c] for c in m.Comp) == 1\n",
    "    \n",
    "    m.F101.VLE = OmltBlock()\n",
    "    \n",
    "    m.F101.VLE.build_formulation(formulation)\n",
    "    \n",
    "    @m.F101.Constraint()\n",
    "    def connect_Temperature(b):\n",
    "        return b.Temperature == b.VLE.inputs[0]\n",
    "    @m.F101.Constraint()\n",
    "    def connect_Pressure(b):\n",
    "        return b.Pressure == b.VLE.inputs[1]\n",
    "    @m.F101.Constraint()\n",
    "    def connect_Fraction_B(b):\n",
    "        return b.Fraction_B == b.VLE.inputs[2]\n",
    "    \n",
    "    @m.F101.Constraint()\n",
    "    def prediction_Liq_B(b):\n",
    "        return b.x['benzene'] == b.VLE.outputs[0]\n",
    "    @m.F101.Constraint()\n",
    "    def prediction_Vap_B(b):\n",
    "        return b.y['benzene'] == b.VLE.outputs[1]\n",
    "    \n",
    "    # 各组分进料\n",
    "    m.F101.Fraction_B.fix(F)\n",
    "    \n",
    "    # 温度压力\n",
    "    m.F101.Pressure.fix(P)\n",
    "    #m.F101.Q.fix(50000)\n",
    "    m.F101.Temperature.fix(T)\n",
    "    \n",
    "    return m"
   ]
  },
  {
   "cell_type": "code",
   "execution_count": 5,
   "id": "3b122bdf-3b2f-4028-b627-9a0b31fa98a4",
   "metadata": {
    "scrolled": true
   },
   "outputs": [],
   "source": [
    "def PR_simu(T,P,F):\n",
    "    '''\n",
    "    T: [350, 400]\n",
    "    P: [1.4E5, 1.6E5]\n",
    "    F: [0.5, 0.9]\n",
    "    '''\n",
    "    PR = []\n",
    "    \n",
    "    m = ConcreteModel()\n",
    "    \n",
    "    m.fs = FlowsheetBlock(dynamic=False)\n",
    "    \n",
    "    m.fs.props = BT_PR.BTParameterBlock(valid_phase=(\"Vap\", \"Liq\"))\n",
    "    \n",
    "    m.fs.state = m.fs.props.build_state_block([0], defined_state=True)\n",
    "    \n",
    "    m.fs.state[0].mole_frac_phase_comp[\"Liq\", \"benzene\"].set_value(0.5)\n",
    "    m.fs.state[0].mole_frac_phase_comp[\"Vap\", \"benzene\"].set_value(0.5)\n",
    "    m.fs.state[0].mole_frac_phase_comp[\"Liq\", \"toluene\"].set_value(0.5)\n",
    "    m.fs.state[0].mole_frac_phase_comp[\"Vap\", \"benzene\"].set_value(0.5)\n",
    "    \n",
    "    m.fs.state[0].flow_mol.fix(100)\n",
    "    m.fs.state[0].mole_frac_comp[\"benzene\"].fix(F)\n",
    "    m.fs.state[0].mole_frac_comp[\"toluene\"].fix(1-F)\n",
    "    m.fs.state[0].temperature.fix(T)\n",
    "    m.fs.state[0].pressure.fix(P)\n",
    "    \n",
    "    # Trigger build of enthalpy and entropy\n",
    "    #m.fs.state[0].enth_mol_phase\n",
    "    #m.fs.state[0].entr_mol_phase\n",
    "\n",
    "    return m"
   ]
  },
  {
   "cell_type": "code",
   "execution_count": 8,
   "id": "f3e14f98-041a-46f5-bc99-b0fc19155a0b",
   "metadata": {},
   "outputs": [
    {
     "name": "stdout",
     "output_type": "stream",
     "text": [
      "2024-04-29 21:49:26 [INFO] idaes.init.fs.state: Initialization complete.\n",
      "2024-04-29 21:49:27 [INFO] idaes.init.fs.state: Initialization complete.\n",
      "2024-04-29 21:49:27 [INFO] idaes.init.fs.state: Initialization complete.\n",
      "2024-04-29 21:49:28 [INFO] idaes.init.fs.state: Initialization complete.\n",
      "2024-04-29 21:49:28 [INFO] idaes.init.fs.state: Initialization complete.\n",
      "2024-04-29 21:49:29 [INFO] idaes.init.fs.state: Initialization complete.\n",
      "2024-04-29 21:49:29 [INFO] idaes.init.fs.state: Initialization complete.\n",
      "2024-04-29 21:49:30 [INFO] idaes.init.fs.state: Initialization complete.\n",
      "2024-04-29 21:49:30 [INFO] idaes.init.fs.state: Initialization complete.\n",
      "2024-04-29 21:49:31 [INFO] idaes.init.fs.state: Initialization complete.\n",
      "2024-04-29 21:49:31 [INFO] idaes.init.fs.state: Initialization complete.\n"
     ]
    }
   ],
   "source": [
    "compare = {'PR':[],'PR_initialize':[],'ANN':[]}\n",
    "P = 1.45E5\n",
    "F = 0.65\n",
    "T_space = np.linspace(350,400,11)\n",
    "\n",
    "for temp in T_space:\n",
    "    T = temp\n",
    "\n",
    "    m = PR_simu(T,P,F)\n",
    "    start_time_PR = time.time()\n",
    "    m.fs.state.initialize()\n",
    "    init_time_PR = time.time()\n",
    "    solver.solve(m)\n",
    "    end_time_PR = time.time()\n",
    "    initialize_time_PR = init_time_PR-start_time_PR\n",
    "    execution_time_PR = end_time_PR - init_time_PR\n",
    "    compare['PR'].append(execution_time_PR)\n",
    "    compare['PR_initialize'].append(initialize_time_PR)\n",
    "    \n",
    "    m = ANN_simu(T,P,F)\n",
    "    start_time_ANN = time.time()\n",
    "    results = solver.solve(m)\n",
    "    end_time_ANN = time.time()\n",
    "    execution_time_ANN = end_time_ANN - start_time_ANN\n",
    "    compare['ANN'].append(execution_time_ANN)"
   ]
  },
  {
   "cell_type": "code",
   "execution_count": 9,
   "id": "37e0d92f-2b11-4697-a878-3cc5d8021a42",
   "metadata": {},
   "outputs": [
    {
     "data": {
      "text/html": [
       "<div>\n",
       "<style scoped>\n",
       "    .dataframe tbody tr th:only-of-type {\n",
       "        vertical-align: middle;\n",
       "    }\n",
       "\n",
       "    .dataframe tbody tr th {\n",
       "        vertical-align: top;\n",
       "    }\n",
       "\n",
       "    .dataframe thead th {\n",
       "        text-align: right;\n",
       "    }\n",
       "</style>\n",
       "<table border=\"1\" class=\"dataframe\">\n",
       "  <thead>\n",
       "    <tr style=\"text-align: right;\">\n",
       "      <th></th>\n",
       "      <th>PR</th>\n",
       "      <th>PR_initialize</th>\n",
       "      <th>ANN</th>\n",
       "    </tr>\n",
       "  </thead>\n",
       "  <tbody>\n",
       "    <tr>\n",
       "      <th>355</th>\n",
       "      <td>10.468316</td>\n",
       "      <td>31.543183</td>\n",
       "      <td>7.814002</td>\n",
       "    </tr>\n",
       "    <tr>\n",
       "      <th>360</th>\n",
       "      <td>10.394788</td>\n",
       "      <td>30.678487</td>\n",
       "      <td>7.761908</td>\n",
       "    </tr>\n",
       "    <tr>\n",
       "      <th>365</th>\n",
       "      <td>10.438395</td>\n",
       "      <td>31.254816</td>\n",
       "      <td>7.524896</td>\n",
       "    </tr>\n",
       "    <tr>\n",
       "      <th>370</th>\n",
       "      <td>10.360599</td>\n",
       "      <td>30.908704</td>\n",
       "      <td>6.795001</td>\n",
       "    </tr>\n",
       "    <tr>\n",
       "      <th>375</th>\n",
       "      <td>10.495400</td>\n",
       "      <td>31.090689</td>\n",
       "      <td>5.405188</td>\n",
       "    </tr>\n",
       "    <tr>\n",
       "      <th>380</th>\n",
       "      <td>10.367107</td>\n",
       "      <td>31.021285</td>\n",
       "      <td>5.432773</td>\n",
       "    </tr>\n",
       "    <tr>\n",
       "      <th>385</th>\n",
       "      <td>10.519814</td>\n",
       "      <td>31.097484</td>\n",
       "      <td>6.643796</td>\n",
       "    </tr>\n",
       "    <tr>\n",
       "      <th>390</th>\n",
       "      <td>10.510969</td>\n",
       "      <td>31.228518</td>\n",
       "      <td>7.226896</td>\n",
       "    </tr>\n",
       "    <tr>\n",
       "      <th>395</th>\n",
       "      <td>10.540009</td>\n",
       "      <td>31.459928</td>\n",
       "      <td>7.526088</td>\n",
       "    </tr>\n",
       "    <tr>\n",
       "      <th>400</th>\n",
       "      <td>11.347413</td>\n",
       "      <td>33.433080</td>\n",
       "      <td>8.223701</td>\n",
       "    </tr>\n",
       "  </tbody>\n",
       "</table>\n",
       "</div>"
      ],
      "text/plain": [
       "            PR  PR_initialize       ANN\n",
       "355  10.468316      31.543183  7.814002\n",
       "360  10.394788      30.678487  7.761908\n",
       "365  10.438395      31.254816  7.524896\n",
       "370  10.360599      30.908704  6.795001\n",
       "375  10.495400      31.090689  5.405188\n",
       "380  10.367107      31.021285  5.432773\n",
       "385  10.519814      31.097484  6.643796\n",
       "390  10.510969      31.228518  7.226896\n",
       "395  10.540009      31.459928  7.526088\n",
       "400  11.347413      33.433080  8.223701"
      ]
     },
     "execution_count": 9,
     "metadata": {},
     "output_type": "execute_result"
    }
   ],
   "source": [
    "Compare = pd.DataFrame(compare).transpose()\n",
    "Compare.columns = [f'{t:0.0f}' for t in T_space]\n",
    "Compare = Compare.iloc[:,1:].transpose()\n",
    "Compare['PR'] = Compare['PR']*100\n",
    "Compare['PR_initialize'] = Compare['PR_initialize']*100\n",
    "Compare['ANN'] = Compare['ANN']*100\n",
    "Compare"
   ]
  },
  {
   "cell_type": "code",
   "execution_count": 21,
   "id": "0aa288a5-4dfe-422a-b288-9a52897c10c9",
   "metadata": {},
   "outputs": [
    {
     "data": {
      "image/png": "[encoded data removed]",
      "text/plain": [
       "<Figure size 600x200 with 1 Axes>"
      ]
     },
     "metadata": {},
     "output_type": "display_data"
    }
   ],
   "source": [
    "T_space = np.linspace(355,400,10)\n",
    "blue = [37/255,40/255,254/255]\n",
    "green = [26/255,198/255,4/255]\n",
    "yellow = [253/255,120/255,6/255]\n",
    "plt.rcParams['font.family']='Times New Roman'\n",
    "fig, ax = plt.subplots(figsize=(6, 2))\n",
    "bar_width = 1.3  # 设置每组bar的宽度\n",
    "offset = 0.65  # 设置两组bar的偏移量\n",
    "\n",
    "#for t in T_space:\n",
    "#    ax.bar(t, Compare['PR'],color='y')\n",
    "#    ax.bar(t, Compare['PR_initialize'],bottom=Compare['PR'],color='b')\n",
    "\n",
    "for i, t in enumerate(T_space):\n",
    "    ax.bar(t - offset, Compare['PR'].iloc[i], width=bar_width, color=blue,label='PR prediction' if i==0 else None)\n",
    "    ax.bar(t - offset, Compare['PR_initialize'].iloc[i], width=bar_width, color=yellow, label='PR initialization' if i==0 else None, bottom=Compare['PR'].iloc[i])\n",
    "    ax.bar(t + offset, Compare['ANN'].iloc[i],width=bar_width, color=green, label='ANN prediction' if i==0 else None)\n",
    "ax.set_xlim([352,403])\n",
    "plt.ylim([0,50])\n",
    "plt.yticks(np.arange(0,46,15))\n",
    "plt.title('Time required to solve 100 BT-flash simulations')\n",
    "plt.ylabel('Time (s)',weight='bold')\n",
    "plt.xlabel('Temperature (K)')\n",
    "ax.set_xticks(T_space)  # 设置x轴刻度\n",
    "ax.legend(bbox_to_anchor=(1, 1.4),ncol=3)  # 显示图例\n",
    "plt.savefig('EXE_time.png',dpi=450,bbox_inches='tight')\n",
    "plt.show()\n",
    "\n",
    "    "
   ]
  },
  {
   "cell_type": "code",
   "execution_count": 26,
   "id": "390345bf-28a2-4e5b-8d7d-b1d345685c65",
   "metadata": {},
   "outputs": [
    {
     "data": {
      "text/plain": [
       "<matplotlib.legend.Legend at 0x7f9721789040>"
      ]
     },
     "execution_count": 26,
     "metadata": {},
     "output_type": "execute_result"
    },
    {
     "data": {
      "image/png": "[encoded data removed]",
      "text/plain": [
       "<Figure size 600x200 with 1 Axes>"
      ]
     },
     "metadata": {},
     "output_type": "display_data"
    }
   ],
   "source": [
    "blue = [37/255,70/255,254/255]\n",
    "yellow = [253/255,120/255,6/255]\n",
    "plt.rcParams['font.family']='Times New Roman'\n",
    "ax = Compare.plot(kind='bar',figsize=(6, 2), color=[blue,yellow])\n",
    "\n",
    "for i in np.arange(10,20,1):\n",
    "    ax.patches[i].set_hatch('///')\n",
    "plt.title('Time required to solve 100 BT-flash simulations')\n",
    "plt.ylabel('Time (s)',weight='bold')\n",
    "plt.xlabel('Temperature (K)')\n",
    "plt.ylim([0,0.52])\n",
    "plt.yticks(np.arange(0,0.46,15))\n",
    "plt.xticks(rotation=0,ha='center', va='top')\n",
    "plt.legend(['PR calculated','ANN predicted'],bbox_to_anchor=(0.82, 1.4),ncol=2)\n",
    "#plt.savefig('EXE_time.png',dpi=450,bbox_inches='tight')"
   ]
  },
  {
   "cell_type": "code",
   "execution_count": 70,
   "id": "f19c6814-adc3-4cd4-b431-a608d0cdc670",
   "metadata": {},
   "outputs": [
    {
     "name": "stdout",
     "output_type": "stream",
     "text": [
      "0\n",
      "2\n",
      "4\n",
      "6\n",
      "8\n",
      "10\n",
      "12\n",
      "14\n",
      "16\n",
      "18\n"
     ]
    }
   ],
   "source": [
    "for i in np.arange(0,20,2):\n",
    "    print(i)"
   ]
  },
  {
   "cell_type": "code",
   "execution_count": null,
   "id": "83214c01-2b92-43c7-b09c-3aa00e91b3c6",
   "metadata": {},
   "outputs": [],
   "source": []
  }
 ],
 "metadata": {
  "kernelspec": {
   "display_name": "Python 3 (ipykernel)",
   "language": "python",
   "name": "python3"
  },
  "language_info": {
   "codemirror_mode": {
    "name": "ipython",
    "version": 3
   },
   "file_extension": ".py",
   "mimetype": "text/x-python",
   "name": "python",
   "nbconvert_exporter": "python",
   "pygments_lexer": "ipython3",
   "version": "3.9.18"
  }
 },
 "nbformat": 4,
 "nbformat_minor": 5
}
