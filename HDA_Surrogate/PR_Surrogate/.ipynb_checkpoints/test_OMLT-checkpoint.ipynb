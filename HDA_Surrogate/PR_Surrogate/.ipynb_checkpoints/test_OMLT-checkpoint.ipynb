{
 "cells": [
  {
   "cell_type": "code",
   "execution_count": 1,
   "id": "5016d6cf-f445-4d7f-aff9-779743b7878b",
   "metadata": {},
   "outputs": [
    {
     "name": "stderr",
     "output_type": "stream",
     "text": [
      "2024-04-24 18:02:05.388478: I tensorflow/core/platform/cpu_feature_guard.cc:193] This TensorFlow binary is optimized with oneAPI Deep Neural Network Library (oneDNN) to use the following CPU instructions in performance-critical operations:  SSE4.1 SSE4.2\n",
      "To enable them in other operations, rebuild TensorFlow with the appropriate compiler flags.\n"
     ]
    }
   ],
   "source": [
    "import numpy as np\n",
    "import pandas as pd\n",
    "from datetime import datetime\n",
    "import matplotlib.pylab as plt\n",
    "from pyomo.environ import *\n",
    "from idaes.core.util.model_statistics import degrees_of_freedom\n",
    "from tensorflow.keras.models import Sequential\n",
    "from tensorflow.keras.layers import Dense\n",
    "from omlt import OmltBlock, OffsetScaling\n",
    "from omlt.neuralnet import FullSpaceNNFormulation, NetworkDefinition\n",
    "from idaes.core.surrogate.sampling.scaling import OffsetScaler\n",
    "from omlt.io import load_keras_sequential\n",
    "import warnings\n",
    "from time import time\n",
    "from IPython.display import display \n",
    "from idaes.core import FlowsheetBlock\n",
    "import BT_PR\n",
    "import time\n",
    "from tensorflow.keras.models import load_model\n",
    "\n",
    "compare = {'PR': [],'ANN':[]}"
   ]
  },
  {
   "cell_type": "code",
   "execution_count": 2,
   "id": "904f76e6-0725-4df8-be28-37bea5cad96d",
   "metadata": {},
   "outputs": [
    {
     "name": "stderr",
     "output_type": "stream",
     "text": [
      "2024-04-24 18:02:08.069297: I tensorflow/core/platform/cpu_feature_guard.cc:193] This TensorFlow binary is optimized with oneAPI Deep Neural Network Library (oneDNN) to use the following CPU instructions in performance-critical operations:  SSE4.1 SSE4.2\n",
      "To enable them in other operations, rebuild TensorFlow with the appropriate compiler flags.\n"
     ]
    }
   ],
   "source": [
    "model = load_model('BT_PR_model.h5')\n",
    "train_data = pd.read_csv(\"./data/train_outcome.csv\",index_col = 0)\n",
    "\n",
    "input_data = train_data.iloc[:, :3]\n",
    "output_data = train_data.iloc[:, 3:5]\n",
    "\n",
    "input_labels = input_data.columns\n",
    "output_labels = output_data.columns\n",
    "\n",
    "x = input_data\n",
    "y = output_data\n",
    "\n",
    "input_scaler = OffsetScaler.create_normalizing_scaler(x)\n",
    "output_scaler = OffsetScaler.create_normalizing_scaler(y)\n",
    "\n",
    "offset_inputs = input_scaler.offset_series().to_numpy()\n",
    "factor_inputs = input_scaler.factor_series().to_numpy()\n",
    "offset_outputs = output_scaler.offset_series().to_numpy()\n",
    "factor_outputs = output_scaler.factor_series().to_numpy()\n",
    "\n",
    "scaler = OffsetScaling(offset_inputs=offset_inputs,\n",
    "                    factor_inputs=factor_inputs,\n",
    "                    offset_outputs=offset_outputs,\n",
    "                    factor_outputs=factor_outputs)\n",
    "\n",
    "scaled_input_bounds = {0: (0, 1),\n",
    "                       1: (0, 1),\n",
    "                       2: (0, 1)\n",
    "                      }\n",
    "\n",
    "net = load_keras_sequential(model, scaler, scaled_input_bounds)\n",
    "formulation = FullSpaceNNFormulation(net)"
   ]
  },
  {
   "cell_type": "code",
   "execution_count": 3,
   "id": "bfed500e-8abc-43c4-b152-ded3f48f966f",
   "metadata": {},
   "outputs": [],
   "source": [
    "solver = SolverFactory('ipopt')\n"
   ]
  },
  {
   "cell_type": "code",
   "execution_count": 4,
   "id": "d8099690-75d3-43f1-bf64-48d0db9b737f",
   "metadata": {},
   "outputs": [],
   "source": [
    "def ANN_simu(T,P,F):\n",
    "    m = ConcreteModel()\n",
    "    m.Phase = Set(initialize=['Liq','Vap'])\n",
    "    m.Comp = Set(initialize=['benzene','toluene'])\n",
    "    m.F101 = Block()\n",
    "    m.F101.Temperature = Var(initialize = 298.5)\n",
    "    m.F101.Pressure = Var(initialize = 101325)\n",
    "    m.F101.Fraction_B = Var(initialize = 0.5)\n",
    "    m.F101.Fraction_T = Var(initialize = 0.5)\n",
    "    m.F101.x = Var(m.Comp,initialize = 0.5)\n",
    "    m.F101.y = Var(m.Comp,initialize = 0.5)\n",
    "    \n",
    "    @m.F101.Constraint()\n",
    "    def mass_inlet(b):\n",
    "        return b.Fraction_B + b.Fraction_T == 1\n",
    "    \n",
    "    @m.F101.Constraint()\n",
    "    def liq_outlet(b):\n",
    "        return sum(b.x[c] for c in m.Comp) == 1\n",
    "    \n",
    "    @m.F101.Constraint()\n",
    "    def vap_outlet(b):\n",
    "        return sum(b.y[c] for c in m.Comp) == 1\n",
    "    \n",
    "    m.F101.VLE = OmltBlock()\n",
    "    \n",
    "    m.F101.VLE.build_formulation(formulation)\n",
    "    \n",
    "    @m.F101.Constraint()\n",
    "    def connect_Temperature(b):\n",
    "        return b.Temperature == b.VLE.inputs[0]\n",
    "    @m.F101.Constraint()\n",
    "    def connect_Pressure(b):\n",
    "        return b.Pressure == b.VLE.inputs[1]\n",
    "    @m.F101.Constraint()\n",
    "    def connect_Fraction_B(b):\n",
    "        return b.Fraction_B == b.VLE.inputs[2]\n",
    "    \n",
    "    @m.F101.Constraint()\n",
    "    def prediction_Liq_B(b):\n",
    "        return b.x['benzene'] == b.VLE.outputs[0]\n",
    "    @m.F101.Constraint()\n",
    "    def prediction_Vap_B(b):\n",
    "        return b.y['benzene'] == b.VLE.outputs[1]\n",
    "    \n",
    "    # 各组分进料\n",
    "    m.F101.Fraction_B.fix(F)\n",
    "    \n",
    "    # 温度压力\n",
    "    m.F101.Pressure.fix(P)\n",
    "    #m.F101.Q.fix(50000)\n",
    "    m.F101.Temperature.fix(T)\n",
    "    \n",
    "    return m"
   ]
  },
  {
   "cell_type": "code",
   "execution_count": 5,
   "id": "3b122bdf-3b2f-4028-b627-9a0b31fa98a4",
   "metadata": {
    "scrolled": true
   },
   "outputs": [],
   "source": [
    "def PR_simu(T,P,F):\n",
    "    '''\n",
    "    T: [350, 400]\n",
    "    P: [1.4E5, 1.6E5]\n",
    "    F: [0.5, 0.9]\n",
    "    '''\n",
    "    PR = []\n",
    "    \n",
    "    m = ConcreteModel()\n",
    "    \n",
    "    m.fs = FlowsheetBlock(dynamic=False)\n",
    "    \n",
    "    m.fs.props = BT_PR.BTParameterBlock(valid_phase=(\"Vap\", \"Liq\"))\n",
    "    \n",
    "    m.fs.state = m.fs.props.build_state_block([0], defined_state=True)\n",
    "    \n",
    "    m.fs.state[0].mole_frac_phase_comp[\"Liq\", \"benzene\"].set_value(0.5)\n",
    "    m.fs.state[0].mole_frac_phase_comp[\"Vap\", \"benzene\"].set_value(0.5)\n",
    "    m.fs.state[0].mole_frac_phase_comp[\"Liq\", \"toluene\"].set_value(0.5)\n",
    "    m.fs.state[0].mole_frac_phase_comp[\"Vap\", \"benzene\"].set_value(0.5)\n",
    "    \n",
    "    m.fs.state[0].flow_mol.fix(100)\n",
    "    m.fs.state[0].mole_frac_comp[\"benzene\"].fix(F)\n",
    "    m.fs.state[0].mole_frac_comp[\"toluene\"].fix(1-F)\n",
    "    m.fs.state[0].temperature.fix(T)\n",
    "    m.fs.state[0].pressure.fix(P)\n",
    "    \n",
    "    # Trigger build of enthalpy and entropy\n",
    "    #m.fs.state[0].enth_mol_phase\n",
    "    #m.fs.state[0].entr_mol_phase\n",
    "\n",
    "    return m"
   ]
  },
  {
   "cell_type": "code",
   "execution_count": 6,
   "id": "f3e14f98-041a-46f5-bc99-b0fc19155a0b",
   "metadata": {},
   "outputs": [
    {
     "name": "stdout",
     "output_type": "stream",
     "text": [
      "2024-04-24 18:02:09 [INFO] idaes.init.fs.state: Initialization complete.\n",
      "2024-04-24 18:02:09 [INFO] idaes.init.fs.state: Initialization complete.\n",
      "2024-04-24 18:02:10 [INFO] idaes.init.fs.state: Initialization complete.\n",
      "2024-04-24 18:02:10 [INFO] idaes.init.fs.state: Initialization complete.\n",
      "2024-04-24 18:02:11 [INFO] idaes.init.fs.state: Initialization complete.\n",
      "2024-04-24 18:02:11 [INFO] idaes.init.fs.state: Initialization complete.\n",
      "2024-04-24 18:02:12 [INFO] idaes.init.fs.state: Initialization complete.\n",
      "2024-04-24 18:02:12 [INFO] idaes.init.fs.state: Initialization complete.\n",
      "2024-04-24 18:02:13 [INFO] idaes.init.fs.state: Initialization complete.\n",
      "2024-04-24 18:02:14 [INFO] idaes.init.fs.state: Initialization complete.\n",
      "2024-04-24 18:02:14 [INFO] idaes.init.fs.state: Initialization complete.\n"
     ]
    }
   ],
   "source": [
    "compare2 = {'PR':[],'ANN':[]}\n",
    "P = 1.45E5\n",
    "F = 0.65\n",
    "T_space = np.linspace(350,400,11)\n",
    "\n",
    "for temp in T_space:\n",
    "    T = temp\n",
    "\n",
    "    m = PR_simu(T,P,F)\n",
    "    start_time_PR = time.time()\n",
    "    m.fs.state.initialize()\n",
    "    solver.solve(m)\n",
    "    end_time_PR = time.time()\n",
    "    execution_time_PR = end_time_PR - start_time_PR\n",
    "    compare['PR'].append(execution_time_PR)\n",
    "    \n",
    "    m = ANN_simu(T,P,F)\n",
    "    start_time_ANN = time.time()\n",
    "    results = solver.solve(m)\n",
    "    end_time_ANN = time.time()\n",
    "    execution_time_ANN = end_time_ANN - start_time_ANN\n",
    "    compare['ANN'].append(execution_time_ANN)"
   ]
  },
  {
   "cell_type": "code",
   "execution_count": 11,
   "id": "37e0d92f-2b11-4697-a878-3cc5d8021a42",
   "metadata": {},
   "outputs": [
    {
     "data": {
      "text/html": [
       "<div>\n",
       "<style scoped>\n",
       "    .dataframe tbody tr th:only-of-type {\n",
       "        vertical-align: middle;\n",
       "    }\n",
       "\n",
       "    .dataframe tbody tr th {\n",
       "        vertical-align: top;\n",
       "    }\n",
       "\n",
       "    .dataframe thead th {\n",
       "        text-align: right;\n",
       "    }\n",
       "</style>\n",
       "<table border=\"1\" class=\"dataframe\">\n",
       "  <thead>\n",
       "    <tr style=\"text-align: right;\">\n",
       "      <th></th>\n",
       "      <th>PR</th>\n",
       "      <th>ANN</th>\n",
       "    </tr>\n",
       "  </thead>\n",
       "  <tbody>\n",
       "    <tr>\n",
       "      <th>355</th>\n",
       "      <td>41.794920</td>\n",
       "      <td>7.900214</td>\n",
       "    </tr>\n",
       "    <tr>\n",
       "      <th>360</th>\n",
       "      <td>41.847301</td>\n",
       "      <td>7.814121</td>\n",
       "    </tr>\n",
       "    <tr>\n",
       "      <th>365</th>\n",
       "      <td>41.996503</td>\n",
       "      <td>7.307100</td>\n",
       "    </tr>\n",
       "    <tr>\n",
       "      <th>370</th>\n",
       "      <td>42.484498</td>\n",
       "      <td>6.769896</td>\n",
       "    </tr>\n",
       "    <tr>\n",
       "      <th>375</th>\n",
       "      <td>42.253709</td>\n",
       "      <td>5.373502</td>\n",
       "    </tr>\n",
       "    <tr>\n",
       "      <th>380</th>\n",
       "      <td>42.258215</td>\n",
       "      <td>5.494595</td>\n",
       "    </tr>\n",
       "    <tr>\n",
       "      <th>385</th>\n",
       "      <td>42.890978</td>\n",
       "      <td>6.732631</td>\n",
       "    </tr>\n",
       "    <tr>\n",
       "      <th>390</th>\n",
       "      <td>42.706370</td>\n",
       "      <td>7.388496</td>\n",
       "    </tr>\n",
       "    <tr>\n",
       "      <th>395</th>\n",
       "      <td>42.695570</td>\n",
       "      <td>7.623601</td>\n",
       "    </tr>\n",
       "    <tr>\n",
       "      <th>400</th>\n",
       "      <td>42.899990</td>\n",
       "      <td>7.806468</td>\n",
       "    </tr>\n",
       "  </tbody>\n",
       "</table>\n",
       "</div>"
      ],
      "text/plain": [
       "            PR       ANN\n",
       "355  41.794920  7.900214\n",
       "360  41.847301  7.814121\n",
       "365  41.996503  7.307100\n",
       "370  42.484498  6.769896\n",
       "375  42.253709  5.373502\n",
       "380  42.258215  5.494595\n",
       "385  42.890978  6.732631\n",
       "390  42.706370  7.388496\n",
       "395  42.695570  7.623601\n",
       "400  42.899990  7.806468"
      ]
     },
     "execution_count": 11,
     "metadata": {},
     "output_type": "execute_result"
    }
   ],
   "source": [
    "Compare = pd.DataFrame(compare).transpose()\n",
    "Compare.columns = [f'{t:0.0f}' for t in T_space]\n",
    "Compare = Compare.iloc[:,1:].transpose()\n",
    "Compare['PR'] = Compare['PR']*100\n",
    "Compare['ANN'] = Compare['ANN']*100\n",
    "Compare"
   ]
  },
  {
   "cell_type": "code",
   "execution_count": 48,
   "id": "390345bf-28a2-4e5b-8d7d-b1d345685c65",
   "metadata": {},
   "outputs": [
    {
     "data": {
      "text/plain": [
       "<matplotlib.legend.Legend at 0x7f935c2c7cd0>"
      ]
     },
     "execution_count": 48,
     "metadata": {},
     "output_type": "execute_result"
    },
    {
     "data": {
      "image/png": "[encoded data removed]",
      "text/plain": [
       "<Figure size 900x300 with 1 Axes>"
      ]
     },
     "metadata": {},
     "output_type": "display_data"
    }
   ],
   "source": [
    "blue = [37/255,0/255,254/255]\n",
    "green = [26/255,198/255,4/255]\n",
    "Compare.plot(kind='bar',figsize=(9, 3),color=[blue,green])\n",
    "plt.title('Time required to solve 100 BT-flash simulations')\n",
    "plt.ylabel('Time (s)')\n",
    "plt.xlabel('Temperature (K)')\n",
    "plt.ylim([0,47])\n",
    "plt.yticks(np.arange(0,46,15))\n",
    "plt.xticks(rotation=0,ha='center', va='top')\n",
    "plt.legend(bbox_to_anchor=(1.01, 1.15),ncol=2,handlelength=0.75, handletextpad=0.4)"
   ]
  },
  {
   "cell_type": "code",
   "execution_count": null,
   "id": "f19c6814-adc3-4cd4-b431-a608d0cdc670",
   "metadata": {},
   "outputs": [],
   "source": []
  }
 ],
 "metadata": {
  "kernelspec": {
   "display_name": "Python 3 (ipykernel)",
   "language": "python",
   "name": "python3"
  },
  "language_info": {
   "codemirror_mode": {
    "name": "ipython",
    "version": 3
   },
   "file_extension": ".py",
   "mimetype": "text/x-python",
   "name": "python",
   "nbconvert_exporter": "python",
   "pygments_lexer": "ipython3",
   "version": "3.9.18"
  }
 },
 "nbformat": 4,
 "nbformat_minor": 5
}
