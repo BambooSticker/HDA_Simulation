{
 "cells": [
  {
   "cell_type": "code",
   "execution_count": 1,
   "id": "edb1e306-e5c2-4422-87f5-67107b2bd080",
   "metadata": {},
   "outputs": [],
   "source": [
    "import numpy as np\n",
    "import matplotlib.pyplot as plt\n",
    "import pandas as pd\n",
    "from pyomo.environ import *\n",
    "from pyomo.network import *\n",
    "from idaes.core.util.model_statistics import degrees_of_freedom\n",
    "from Method import Initialize\n",
    "from Unit_Model import *"
   ]
  },
  {
   "cell_type": "code",
   "execution_count": 2,
   "id": "3e599eab-42e2-4121-a509-af3df3dd75d1",
   "metadata": {},
   "outputs": [],
   "source": [
    "# Create a concrete model\n",
    "m = ConcreteModel()\n",
    "\n",
    "# Define a set for components\n",
    "m.Phase = Set(initialize = ['Liq','Vap'])\n",
    "m.Comp = Set(initialize = ['benzene','toluene','methane','hydrogen'])\n",
    "m.R101 = R101_creater(m)\n",
    "m.H101 = H101_creater(m)\n",
    "m.F101 = F101_creater(m)\n",
    "m.F102 = F102_creater(m)\n",
    "m.M101 = M101_creater(m)\n",
    "m.S101 = S101_creater(m)"
   ]
  },
  {
   "cell_type": "code",
   "execution_count": 3,
   "id": "e0c89b4d-b0f9-4d7b-ad04-14aa73e24c4b",
   "metadata": {},
   "outputs": [],
   "source": [
    "m.s1 = Arc(source=m.H101.Outlet, destination=m.R101.Inlet)\n",
    "m.s2 = Arc(source=m.R101.Outlet, destination=m.F101.Inlet)\n",
    "m.s3 = Arc(source=m.F101.Liq_Outlet, destination=m.F102.Inlet)\n",
    "m.s4 = Arc(source=m.F101.Vap_Outlet, destination=m.S101.Inlet)\n",
    "m.s5 = Arc(source=m.S101.Recycle, destination=m.M101.Recycle_Feed)\n",
    "m.s6 = Arc(source=m.M101.Outlet, destination=m.H101.Inlet)\n",
    "TransformationFactory(\"network.expand_arcs\").apply_to(m)"
   ]
  },
  {
   "cell_type": "code",
   "execution_count": 4,
   "id": "e1635e9e-e657-4373-8e92-bf5dec8eba2c",
   "metadata": {},
   "outputs": [],
   "source": [
    "m.H101.outlet.P.fix(350000)\n",
    "m.H101.outlet.T.fix(600)\n",
    "\n",
    "m.F101.outlet.P.fix(350000)\n",
    "m.F101.outlet.T.fix(325)\n",
    "\n",
    "m.F102.outlet.P.fix(150000)\n",
    "m.F102.outlet.T.fix(375)\n",
    "\n",
    "m.R101.Q.fix(0)"
   ]
  },
  {
   "cell_type": "code",
   "execution_count": 5,
   "id": "f64981a1-5e2d-4be5-834d-2992e7b6003b",
   "metadata": {},
   "outputs": [],
   "source": [
    "# 各组分进料\n",
    "m.M101.inlet_feed['Toluene'].flow['Liq','benzene'].fix(1e-8)\n",
    "m.M101.inlet_feed['Toluene'].flow['Liq','toluene'].fix(0.30)\n",
    "m.M101.inlet_feed['Toluene'].flow['Liq','methane'].fix(1e-8)\n",
    "m.M101.inlet_feed['Toluene'].flow['Liq','hydrogen'].fix(1e-8)\n",
    "m.M101.inlet_feed['Toluene'].flow['Vap','benzene'].fix(1e-8)\n",
    "m.M101.inlet_feed['Toluene'].flow['Vap','toluene'].fix(1e-8)\n",
    "m.M101.inlet_feed['Toluene'].flow['Vap','methane'].fix(1e-8)\n",
    "m.M101.inlet_feed['Toluene'].flow['Vap','hydrogen'].fix(1e-8)\n",
    "m.M101.inlet_feed['Toluene'].T.fix(303.2)\n",
    "m.M101.inlet_feed['Toluene'].P.fix(350000)\n",
    "\n",
    "m.M101.inlet_feed['Hydrogen'].flow['Liq','benzene'].fix(1e-8)\n",
    "m.M101.inlet_feed['Hydrogen'].flow['Liq','toluene'].fix(1e-8)\n",
    "m.M101.inlet_feed['Hydrogen'].flow['Liq','methane'].fix(1e-8)\n",
    "m.M101.inlet_feed['Hydrogen'].flow['Liq','hydrogen'].fix(1e-8)\n",
    "m.M101.inlet_feed['Hydrogen'].flow['Vap','benzene'].fix(1e-8)\n",
    "m.M101.inlet_feed['Hydrogen'].flow['Vap','toluene'].fix(1e-8)\n",
    "m.M101.inlet_feed['Hydrogen'].flow['Vap','methane'].fix(0.02)\n",
    "m.M101.inlet_feed['Hydrogen'].flow['Vap','hydrogen'].fix(0.30)\n",
    "m.M101.inlet_feed['Hydrogen'].T.fix(303.2)\n",
    "m.M101.inlet_feed['Hydrogen'].P.fix(350000)"
   ]
  },
  {
   "cell_type": "code",
   "execution_count": 6,
   "id": "ffc51e0e-03d6-4cf5-8317-0d4098dfba79",
   "metadata": {},
   "outputs": [
    {
     "data": {
      "text/plain": [
       "0"
      ]
     },
     "execution_count": 6,
     "metadata": {},
     "output_type": "execute_result"
    }
   ],
   "source": [
    "degrees_of_freedom(m)"
   ]
  },
  {
   "cell_type": "code",
   "execution_count": 7,
   "id": "1ec602cf-921b-4031-8c59-c19d46469bee",
   "metadata": {},
   "outputs": [],
   "source": [
    "seq = SequentialDecomposition()\n",
    "seq.options.select_tear_method = \"heuristic\"\n",
    "seq.options.tear_method = \"Wegstein\"\n",
    "seq.options.iterLim = 10\n",
    "\n",
    "# Using the SD tool\n",
    "G = seq.create_graph(m)\n",
    "heuristic_tear_set = seq.tear_set_arcs(G, method=\"heuristic\")\n",
    "order = seq.calculation_order(G)\n",
    "\n"
   ]
  },
  {
   "cell_type": "code",
   "execution_count": 8,
   "id": "cd5acc4e-0e24-4452-8cab-3401a519ac81",
   "metadata": {},
   "outputs": [
    {
     "name": "stdout",
     "output_type": "stream",
     "text": [
      "s1\n"
     ]
    }
   ],
   "source": [
    "for o in heuristic_tear_set:\n",
    "    print(o.name)"
   ]
  },
  {
   "cell_type": "code",
   "execution_count": 9,
   "id": "a6ac0896-a34d-46ec-8343-30df309e79f6",
   "metadata": {},
   "outputs": [
    {
     "name": "stdout",
     "output_type": "stream",
     "text": [
      "R101\n",
      "F101\n",
      "F102\n",
      "M101\n",
      "H101\n"
     ]
    }
   ],
   "source": [
    "for o in order:\n",
    "    print(o[0].name)"
   ]
  },
  {
   "cell_type": "code",
   "execution_count": 10,
   "id": "bd4c0ade-0277-44de-bfbd-30ffa3a6c50e",
   "metadata": {},
   "outputs": [
    {
     "name": "stdout",
     "output_type": "stream",
     "text": [
      "Outlet : Size=1, Index=None\n",
      "    Key  : Name : Size : Variable\n",
      "    None :    P :    1 :    M101.outlet.P\n",
      "         :    T :    1 :    M101.outlet.T\n",
      "         : flow :    8 : M101.outlet.flow\n"
     ]
    }
   ],
   "source": [
    "m.M101.Outlet.pprint()"
   ]
  },
  {
   "cell_type": "code",
   "execution_count": 11,
   "id": "15277253-7a30-404a-99ec-6c1735439650",
   "metadata": {},
   "outputs": [],
   "source": [
    "def function(unit):\n",
    "    if 'R' in unit.name:\n",
    "        Initialize(unit,Arc=m.s1)\n",
    "    elif 'F101' in unit.name:\n",
    "        Initialize(unit,Arc=m.s2)\n",
    "    elif 'F102' in unit.name:\n",
    "        Initialize(unit,Arc=m.s3)\n",
    "    elif 'S' in unit.name:\n",
    "        Initialize(unit,Arc=m.s4)\n",
    "    elif 'M' in unit.name:\n",
    "        Initialize(unit,Arc=m.s5)\n",
    "    elif 'H' in unit.name:\n",
    "        Initialize(unit,Arc=m.s6)\n",
    "        \n",
    "    "
   ]
  },
  {
   "cell_type": "code",
   "execution_count": 12,
   "id": "d3d00ce6-e823-4b5a-b66a-aa8f8308fefb",
   "metadata": {},
   "outputs": [
    {
     "data": {
      "text/plain": [
       "298.15"
      ]
     },
     "execution_count": 12,
     "metadata": {},
     "output_type": "execute_result"
    }
   ],
   "source": [
    "value(m.R101.Inlet.T)"
   ]
  },
  {
   "cell_type": "code",
   "execution_count": 13,
   "id": "bcd2ac40-0135-4c69-9cde-840a525629be",
   "metadata": {},
   "outputs": [
    {
     "data": {
      "text/plain": [
       "False"
      ]
     },
     "execution_count": 13,
     "metadata": {},
     "output_type": "execute_result"
    }
   ],
   "source": [
    "m.R101.Inlet.is_extensive('flow')"
   ]
  },
  {
   "cell_type": "code",
   "execution_count": 14,
   "id": "508ba2f7-5c23-4d85-856b-3173ba8bfb8d",
   "metadata": {},
   "outputs": [],
   "source": [
    "tear_guesses = {\n",
    "    'flow': {\n",
    "        (\"Vap\", \"benzene\"): 1e-5,\n",
    "        (\"Vap\", \"toluene\"): 0.3,\n",
    "        (\"Vap\", \"hydrogen\"): 0.30,\n",
    "        (\"Vap\", \"methane\"): 0.02,\n",
    "        (\"Liq\", \"benzene\"): 1e-5,\n",
    "        (\"Liq\", \"toluene\"): 1e-5,\n",
    "        (\"Liq\", \"hydrogen\"): 1e-5,\n",
    "        (\"Liq\", \"methane\"): 1e-5,\n",
    "    },\n",
    "    'T': 600,\n",
    "    'P': 350000,\n",
    "}\n",
    "\n",
    "# Pass the tear_guess to the SD tool\n",
    "seq.set_guesses_for(m.R101.Inlet, tear_guesses)"
   ]
  },
  {
   "cell_type": "code",
   "execution_count": 15,
   "id": "dd66b6e3-24dc-4e6d-b12b-ca0481315836",
   "metadata": {},
   "outputs": [
    {
     "name": "stdout",
     "output_type": "stream",
     "text": [
      "WARNING: Loading a SolverResults object with a warning status into\n",
      "model.name=\"F102\";\n",
      "    - termination condition: infeasible\n",
      "    - message from solver: Ipopt 3.13.2\\x3a Converged to a locally infeasible\n",
      "      point. Problem may be infeasible.\n"
     ]
    }
   ],
   "source": [
    "seq.run(m,function)"
   ]
  },
  {
   "cell_type": "code",
   "execution_count": 16,
   "id": "6ef31ebd-74cb-4f43-b9d4-1c0b9925b81b",
   "metadata": {},
   "outputs": [
    {
     "name": "stdout",
     "output_type": "stream",
     "text": [
      "outlet Flow Rate F101:\n",
      "\t [ Liq , benzene ]:  0.20481274944167296\n",
      "\t [ Liq , toluene ]:  0.06265706175191449\n",
      "\t [ Liq , methane ]:  0.0016094351233751111\n",
      "\t [ Liq , hydrogen ]:  0.00010044843598449738\n",
      "\t [ Vap , benzene ]:  0.14724296553826283\n",
      "\t [ Vap , toluene ]:  0.015428031767176597\n",
      "\t [ Vap , methane ]:  1.263261065263028\n",
      "\t [ Vap , hydrogen ]:  0.3282113757542806\n"
     ]
    }
   ],
   "source": [
    "print('outlet Flow Rate F101:')\n",
    "for p in m.Phase:\n",
    "    for c in m.Comp:\n",
    "        print('\\t [',p,',',c,']: ',value(m.F101.outlet.flow[p,c]))"
   ]
  },
  {
   "cell_type": "code",
   "execution_count": 17,
   "id": "7c13e43c-151a-4f76-b897-9eb1d1b7d32b",
   "metadata": {},
   "outputs": [
    {
     "data": {
      "text/plain": [
       "314.0466483072415"
      ]
     },
     "execution_count": 17,
     "metadata": {},
     "output_type": "execute_result"
    }
   ],
   "source": [
    "value(m.M101.outlet.T)"
   ]
  },
  {
   "cell_type": "code",
   "execution_count": 18,
   "id": "be796324-5077-4449-8b92-75fd9e8b1117",
   "metadata": {},
   "outputs": [
    {
     "name": "stdout",
     "output_type": "stream",
     "text": [
      "total Flow Rate M101:\n",
      "\t [ Liq , benzene ]:  2.7999999999999986e-08\n",
      "\t [ Liq , toluene ]:  0.300000018\n",
      "\t [ Liq , methane ]:  2.7999999999999986e-08\n",
      "\t [ Liq , hydrogen ]:  2.7999999999999986e-08\n",
      "\t [ Vap , benzene ]:  0.11779439243061027\n",
      "\t [ Vap , toluene ]:  0.012342445413741278\n",
      "\t [ Vap , methane ]:  1.0306088622104224\n",
      "\t [ Vap , hydrogen ]:  0.5625691106034245\n"
     ]
    }
   ],
   "source": [
    "print('total Flow Rate M101:')\n",
    "for p in m.Phase:\n",
    "    for c in m.Comp:\n",
    "        print('\\t [',p,',',c,']: ',value(m.M101.outlet.flow[p,c]))"
   ]
  },
  {
   "cell_type": "code",
   "execution_count": 19,
   "id": "c680f98e-6b79-4f70-93e1-889a1a253281",
   "metadata": {},
   "outputs": [
    {
     "data": {
      "text/plain": [
       "0.8088958011139135"
      ]
     },
     "execution_count": 19,
     "metadata": {},
     "output_type": "execute_result"
    }
   ],
   "source": [
    "purity = value(m.F102.outlet.flow['Vap','benzene'])/sum(m.F102.outlet.flow['Vap',c] for c in m.Comp)\n",
    "value(purity)"
   ]
  },
  {
   "cell_type": "code",
   "execution_count": 20,
   "id": "adecef65-4325-4a9b-9d49-56495bb85c7d",
   "metadata": {},
   "outputs": [
    {
     "data": {
      "text/plain": [
       "0"
      ]
     },
     "execution_count": 20,
     "metadata": {},
     "output_type": "execute_result"
    }
   ],
   "source": [
    "degrees_of_freedom(m)"
   ]
  },
  {
   "cell_type": "code",
   "execution_count": 21,
   "id": "0a2a8f00-b529-4a8f-a249-0fb62bd44b98",
   "metadata": {},
   "outputs": [],
   "source": [
    "# 模型求解\n",
    "solver = SolverFactory('ipopt')\n",
    "solver.options['tol'] = 1e-4\n",
    "results = solver.solve(m)\n",
    "#results = solver.solve(m)"
   ]
  },
  {
   "cell_type": "code",
   "execution_count": 9,
   "id": "7b1a8bb8-91f0-41da-9e88-a029c54afcaf",
   "metadata": {},
   "outputs": [
    {
     "name": "stdout",
     "output_type": "stream",
     "text": [
      "R101\n",
      "H101\n",
      "F101\n",
      "s1_expanded\n",
      "s2_expanded\n",
      "R101.inlet\n",
      "R101.outlet\n",
      "H101.inlet\n",
      "H101.outlet\n",
      "F101.inlet\n",
      "F101.outlet\n"
     ]
    }
   ],
   "source": [
    "for Unit in m.component_data_objects(Block, active=True):\n",
    "    print(Unit.name)"
   ]
  },
  {
   "cell_type": "code",
   "execution_count": null,
   "id": "ed7324e4-9d41-447b-b73d-7bd71f83d732",
   "metadata": {},
   "outputs": [],
   "source": []
  }
 ],
 "metadata": {
  "kernelspec": {
   "display_name": "Python 3 (ipykernel)",
   "language": "python",
   "name": "python3"
  },
  "language_info": {
   "codemirror_mode": {
    "name": "ipython",
    "version": 3
   },
   "file_extension": ".py",
   "mimetype": "text/x-python",
   "name": "python",
   "nbconvert_exporter": "python",
   "pygments_lexer": "ipython3",
   "version": "3.9.18"
  }
 },
 "nbformat": 4,
 "nbformat_minor": 5
}
