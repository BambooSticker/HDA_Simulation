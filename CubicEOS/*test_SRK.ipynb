{
 "cells": [
  {
   "cell_type": "code",
   "execution_count": 1,
   "id": "d90e4f45-42b5-4744-83b1-9f25fab71b91",
   "metadata": {},
   "outputs": [],
   "source": [
    "from pyomo.environ import *\n",
    "import os\n",
    "import idaes\n",
    "import numpy as np\n",
    "import matplotlib\n",
    "import matplotlib.pyplot as plt\n",
    "import math\n",
    "from idaes.core.util.math import safe_log\n",
    "from idaes.core.util.model_statistics import degrees_of_freedom\n",
    "from pyomo.util.calc_var_value import calculate_variable_from_constraint"
   ]
  },
  {
   "cell_type": "code",
   "execution_count": 2,
   "id": "6a9d62db-c303-4e04-a29b-4f5c219ef157",
   "metadata": {},
   "outputs": [],
   "source": [
    "# Parameters\n",
    "component_list = [\"benzene\",\"toluene\"]\n",
    "phase_list = [\"Liq\", \"Vap\"]\n",
    "pressure_crit_data = {\"benzene\": 48.9e5, \"toluene\": 41.0e5}\n",
    "temperature_crit_data = {\"benzene\": 562.2, \"toluene\": 591.8}\n",
    "kappa_data = {\n",
    "            (\"benzene\", \"benzene\"): 0.0000,\n",
    "            (\"benzene\", \"toluene\"): 0.0000,\n",
    "            (\"toluene\", \"benzene\"): 0.0000,\n",
    "            (\"toluene\", \"toluene\"): 0.0000,\n",
    "        }\n",
    "omega_data = {\"benzene\": 0.212, \"toluene\": 0.263}\n",
    "R = 8.314462618"
   ]
  },
  {
   "cell_type": "code",
   "execution_count": 3,
   "id": "c99814b9-6dcc-4b11-8a65-fdfb23c5075d",
   "metadata": {},
   "outputs": [],
   "source": [
    "m = ConcreteModel()\n",
    "# define external function for finding cubic roots\n",
    "m.crl = ExternalFunction(\n",
    "    library=os.path.join(idaes.bin_directory, \"cubic_roots.so\"),\n",
    "    function=\"cubic_root_l_ext\",\n",
    ")\n",
    "m.crh = ExternalFunction(\n",
    "    library=os.path.join(idaes.bin_directory, \"cubic_roots.so\"),\n",
    "    function=\"cubic_root_h_ext\",\n",
    ")\n",
    "\n",
    "m.Comp = Set(initialize=component_list)\n",
    "m.Phase = Set(initialize=phase_list)\n",
    "\n",
    "m.Tc = Param(m.Comp,initialize = temperature_crit_data)\n",
    "m.Pc = Param(m.Comp,initialize = pressure_crit_data)\n",
    "m.kappa = Param(m.Comp, m.Comp, initialize = kappa_data)\n",
    "m.omega = Param(m.Comp, initialize = omega_data)\n",
    "\n",
    "# for SRK cEOS\n",
    "m.OmegaA = Param(default=0.42748)\n",
    "m.OmegaB = Param(default=0.08664)\n",
    "m.EoS_u = Param(default=1)\n",
    "m.EoS_w = Param(default=0)\n",
    "m.EoS_p = sqrt(m.EoS_u**2 - 4 * m.EoS_w)\n",
    "def func_fw(m,j):\n",
    "    return 0.48508 + 1.55171 * m.omega[j] - 0.15613 * m.omega[j] ** 2\n",
    "m.fw = Expression(m.Comp, rule = func_fw)\n",
    "\n",
    "m.antoine_coeff_A = Param(m.Comp,mutable=False,\n",
    "                          initialize={\"benzene\": 4.202, \"toluene\": 4.216})\n",
    "\n",
    "m.antoine_coeff_B = Param(m.Comp,mutable=False,\n",
    "                          initialize={\"benzene\": 1322, \"toluene\": 1435})\n",
    "\n",
    "m.antoine_coeff_C = Param(m.Comp,mutable=False,\n",
    "                          initialize={\"benzene\": -38.56, \"toluene\": -43.33})"
   ]
  },
  {
   "cell_type": "code",
   "execution_count": 4,
   "id": "001492dd-7d7c-4d46-9a06-d084c9c59814",
   "metadata": {
    "scrolled": true
   },
   "outputs": [],
   "source": [
    "m.flow_mol = Var(initialize=1.0,domain=NonNegativeReals) # F\n",
    "\n",
    "m.mole_frac_comp = Var(m.Comp, bounds=(0, None), initialize=0.5) # z\n",
    "\n",
    "m.flow_mol_phase = Var(m.Phase, initialize=0.5, domain=NonNegativeReals) # L, V\n",
    "\n",
    "m.mole_frac_phase_comp = Var(m.Phase, m.Comp, initialize=0.5,bounds=(0, None)) # x, y\n",
    "\n",
    "def rule_total_mass_balance(m): # L + V = F\n",
    "    return m.flow_mol_phase[\"Liq\"] + m.flow_mol_phase[\"Vap\"] == m.flow_mol\n",
    "m.total_flow_balance = Constraint(rule=rule_total_mass_balance)\n",
    "\n",
    "def rule_comp_mass_balance(m, c): # L*x + V*y = F*z\n",
    "    return (\n",
    "        m.flow_mol * m.mole_frac_comp[c]\n",
    "        == m.flow_mol_phase[\"Liq\"] * m.mole_frac_phase_comp[\"Liq\", c]\n",
    "        + m.flow_mol_phase[\"Vap\"] * m.mole_frac_phase_comp[\"Vap\", c]\n",
    "    )\n",
    "m.component_flow_balances = Constraint(m.Comp, rule=rule_comp_mass_balance)\n",
    "\n",
    "def rule_mole_frac(m): # sum(x) - sum(y) = 1\n",
    "    return (\n",
    "        sum(m.mole_frac_phase_comp[\"Liq\", c] for c in m.Comp)\n",
    "        - sum(m.mole_frac_phase_comp[\"Vap\", c] for c in m.Comp)\n",
    "        == 0\n",
    "    )\n",
    "m.sum_mole_frac = Constraint(rule=rule_mole_frac)\n",
    "\n",
    "m.T = Var(initialize = 298.15)\n",
    "m.P = Var(initialize = 101325,units=units.Pa)\n",
    "\n",
    "m.temperature_bubble = Var(initialize=400)\n",
    "\n",
    "m._mole_frac_tbub = Var(m.Comp,initialize=1 / len(m.Comp),bounds=(0, None))\n",
    "\n",
    "m.temperature_dew = Var(initialize=400)\n",
    "\n",
    "m._mole_frac_tdew = Var(m.Comp,initialize=1 / len(m.Comp),bounds=(0, None))"
   ]
  },
  {
   "cell_type": "code",
   "execution_count": 5,
   "id": "3d51c4d5-f61f-4f67-95cf-91aa8572343a",
   "metadata": {},
   "outputs": [],
   "source": [
    "# 用逸度估算泡露点时，需要分别计算 泡点/露点温度下 的 气相和液相的逸度\n",
    "#-----------------------液相泡点温度---------------------------\n",
    "def _bubble_temp_liq(m, j):\n",
    "    def a(k):\n",
    "        return (\n",
    "            m.OmegaA * ((R * m.Tc[k]) ** 2 / m.Pc[k])\n",
    "            * ((1 + m.fw[k] * (1 - sqrt(m.temperature_bubble / m.Tc[k]))) ** 2)\n",
    "        )\n",
    "\n",
    "    def b(k):\n",
    "        return (m.OmegaB * R * m.Tc[k] / m.Pc[k])\n",
    "        \n",
    "    am = sum(\n",
    "        sum(\n",
    "            m.mole_frac_comp[i]\n",
    "            * m.mole_frac_comp[j]\n",
    "            * sqrt(a(i) * a(j))\n",
    "            * (1 - m.kappa[i, j])\n",
    "            for j in m.Comp\n",
    "        )\n",
    "        for i in m.Comp\n",
    "    )\n",
    "    bm = sum(m.mole_frac_comp[i] * b(i) for i in m.Comp)\n",
    "\n",
    "    A = am * m.P / (R * m.temperature_bubble) ** 2\n",
    "    B = bm * m.P / (R * m.temperature_bubble)\n",
    "\n",
    "    delta = (\n",
    "        2 * sqrt(a(j)) / am * sum(\n",
    "            m.mole_frac_comp[i] * sqrt(a(i)) * (1 - m.kappa[j, i])\n",
    "            for i in m.Comp\n",
    "        )\n",
    "    )\n",
    "\n",
    "    Z = m.crl.evaluate(args=((-(1+B-m.EoS_u*B)), \n",
    "                             (A-m.EoS_u*B-(m.EoS_u-m.EoS_w)*B**2), \n",
    "                             (-A*B-m.EoS_w*B**2-m.EoS_w*B**3)))\n",
    "\n",
    "    return exp(\n",
    "        (\n",
    "            b(j) / bm * (Z - 1) * (B * m.EoS_p)\n",
    "            - safe_log(Z - B, eps=1e-6) * (B * m.EoS_p)\n",
    "            + A\n",
    "            * (b(j) / bm - delta)\n",
    "            * safe_log(\n",
    "                (2 * Z + B * (m.EoS_u + m.EoS_p))\n",
    "                / (2 * Z + B * (m.EoS_u - m.EoS_p)),\n",
    "                eps=1e-6,\n",
    "            )\n",
    "        )\n",
    "        / (B * m.EoS_p)\n",
    "    )\n",
    "m.bubble_temp_liq = Expression(m.Comp, rule = _bubble_temp_liq)\n",
    "\n",
    "#-----------------------液相露点温度---------------------------\n",
    "def _dew_temp_liq(m, j):\n",
    "    def a(k):\n",
    "        return (\n",
    "            m.OmegaA * ((R * m.Tc[k]) ** 2 / m.Pc[k])\n",
    "            * ((1 + m.fw[k] * (1 - sqrt(m.temperature_dew / m.Tc[k]))) ** 2)\n",
    "        )\n",
    "    def b(k):\n",
    "        return (m.OmegaB * R * m.Tc[k] / m.Pc[k])\n",
    "        \n",
    "    am = sum(\n",
    "        sum(\n",
    "            m._mole_frac_tdew[i]\n",
    "            * m._mole_frac_tdew[j]\n",
    "            * sqrt(a(i) * a(j))\n",
    "            * (1 - m.kappa[i, j])\n",
    "            for j in m.Comp\n",
    "        )\n",
    "        for i in m.Comp\n",
    "    )\n",
    "    bm = sum(m._mole_frac_tdew[i] * b(i) for i in m.Comp)\n",
    "    \n",
    "    A = am * m.P / (R * m.temperature_dew) ** 2\n",
    "    B = bm * m.P / (R * m.temperature_dew)\n",
    "    \n",
    "    delta = (\n",
    "        2 * sqrt(a(j)) / am\n",
    "        * sum(m._mole_frac_tdew[i] * sqrt(a(i)) * (1 - m.kappa[j, i]) for i in m.Comp\n",
    "        )\n",
    "    )\n",
    "    \n",
    "    Z = m.crl.evaluate(args=((-(1+B-m.EoS_u*B)), \n",
    "                             (A-m.EoS_u*B-(m.EoS_u-m.EoS_w)*B**2), \n",
    "                             (-A*B-m.EoS_w*B**2-m.EoS_w*B**3)))\n",
    "\n",
    "    return exp(\n",
    "            (\n",
    "                b(j) / bm * (Z - 1) * (B * m.EoS_p)\n",
    "                - safe_log(Z - B, eps=1e-6) * (B * m.EoS_p)\n",
    "                + A\n",
    "                * (b(j) / bm - delta)\n",
    "                * safe_log(\n",
    "                    (2 * Z + B * (m.EoS_u + m.EoS_p))\n",
    "                    / (2 * Z + B * (m.EoS_u - m.EoS_p)),\n",
    "                    eps=1e-6,\n",
    "                )\n",
    "            )\n",
    "            / (B * m.EoS_p)\n",
    "        )\n",
    "m.dew_temp_liq = Expression(m.Comp, rule = _dew_temp_liq)\n",
    "\n",
    "#-----------------------气相泡点温度---------------------------\n",
    "def _bubble_temp_vap(m, j):\n",
    "    def a(k):\n",
    "        return (\n",
    "            m.OmegaA * ((R * m.Tc[k]) ** 2 / m.Pc[k])\n",
    "            * ((1 + m.fw[k] * (1 - sqrt(m.temperature_bubble / m.Tc[k]))) ** 2)\n",
    "        )\n",
    "    def b(k):\n",
    "        return (m.OmegaB * R * m.Tc[k] / m.Pc[k])\n",
    "        \n",
    "    am = sum(\n",
    "        sum(\n",
    "            m._mole_frac_tbub[i]\n",
    "            * m._mole_frac_tbub[j]\n",
    "            * sqrt(a(i) * a(j))\n",
    "            * (1 - m.kappa[i, j])\n",
    "            for j in m.Comp\n",
    "        )\n",
    "        for i in m.Comp\n",
    "    )\n",
    "    bm = sum(m._mole_frac_tbub[i] * b(i) for i in m.Comp)\n",
    "\n",
    "    A = am * m.P / (R * m.temperature_bubble) ** 2\n",
    "    B = bm * m.P / (R * m.temperature_bubble)\n",
    "\n",
    "    delta = (\n",
    "        2 * sqrt(a(j)) / am\n",
    "        * sum(m._mole_frac_tbub[i] * sqrt(a(i)) * (1 - m.kappa[j, i]) for i in m.Comp)\n",
    "    )\n",
    "\n",
    "    Z = m.crh.evaluate(args=((-(1+B-m.EoS_u*B)), \n",
    "                             (A-m.EoS_u*B-(m.EoS_u-m.EoS_w)*B**2), \n",
    "                             (-A*B-m.EoS_w*B**2-m.EoS_w*B**3)))\n",
    "\n",
    "    return exp(\n",
    "        (\n",
    "            b(j) / bm * (Z - 1) * (B * m.EoS_p)\n",
    "            - safe_log(Z - B, eps=1e-6) * (B * m.EoS_p)\n",
    "            + A\n",
    "            * (b(j) / bm - delta)\n",
    "            * safe_log(\n",
    "                (2 * Z + B * (m.EoS_u + m.EoS_p))\n",
    "                / (2 * Z + B * (m.EoS_u - m.EoS_p)),\n",
    "                eps=1e-6,\n",
    "            )\n",
    "        )\n",
    "        / (B * m.EoS_p)\n",
    "    )\n",
    "m.bubble_temp_vap = Expression(m.Comp, rule = _bubble_temp_vap)\n",
    "    \n",
    "#-----------------------气相露点温度---------------------------\n",
    "def _dew_temp_vap(m, j):\n",
    "    def a(k):\n",
    "        return (\n",
    "            m.OmegaA * ((R * m.Tc[k]) ** 2 / m.Pc[k])\n",
    "            * ((1 + m.fw[k] * (1 - sqrt(m.temperature_dew / m.Tc[k]))) ** 2)\n",
    "        )\n",
    "        \n",
    "    def b(k):\n",
    "        return (m.OmegaB * R * m.Tc[k] / m.Pc[k])\n",
    "\n",
    "    am = sum(\n",
    "        sum(\n",
    "            m.mole_frac_comp[i]\n",
    "            * m.mole_frac_comp[j]\n",
    "            * sqrt(a(i) * a(j))\n",
    "            * (1 - m.kappa[i, j])\n",
    "            for j in m.Comp\n",
    "        )\n",
    "        for i in m.Comp\n",
    "    )\n",
    "    bm = sum(m.mole_frac_comp[i] * b(i) for i in m.Comp)\n",
    "\n",
    "    A = am * m.P / (R * m.temperature_dew) ** 2\n",
    "    B = bm * m.P / (R * m.temperature_dew)\n",
    "\n",
    "    delta = (\n",
    "        2 * sqrt(a(j)) / am\n",
    "        * sum(m.mole_frac_comp[i] * sqrt(a(i)) * (1 - m.kappa[j, i]) for i in m.Comp)\n",
    "    )\n",
    "\n",
    "    Z = m.crh.evaluate(args=((-(1+B-m.EoS_u*B)), \n",
    "                             (A-m.EoS_u*B-(m.EoS_u-m.EoS_w)*B**2), \n",
    "                             (-A*B-m.EoS_w*B**2-m.EoS_w*B**3)))\n",
    "\n",
    "    return exp(\n",
    "        (\n",
    "            b(j) / bm * (Z - 1) * (B * m.EoS_p)\n",
    "            - safe_log(Z - B, eps=1e-6) * (B * m.EoS_p)\n",
    "            + A\n",
    "            * (b(j) / bm - delta)\n",
    "            * safe_log(\n",
    "                (2 * Z + B * (m.EoS_u + m.EoS_p))\n",
    "                / (2 * Z + B * (m.EoS_u - m.EoS_p)),\n",
    "                eps=1e-6,\n",
    "            )\n",
    "        )\n",
    "        / (B * m.EoS_p)\n",
    "    )\n",
    "m.dew_temp_vap = Expression(m.Comp, rule = _dew_temp_vap)\n",
    "\n",
    "######################\n",
    "m._sum_mole_frac_tbub = Constraint(expr=1e3== \\\n",
    "                                   1e3 * sum(m._mole_frac_tbub[j] for j in m.Comp))\n",
    "# ln(xi(T_dew))+ln(f_liq(T_dew)) = ln(xi)+ln(f_vap(T_bub))\n",
    "def rule_bubble_temp(m, j):\n",
    "    return log(m.mole_frac_comp[j]) + log(m.bubble_temp_liq[j]) == \\\n",
    "    log(m._mole_frac_tbub[j]) + log(m.bubble_temp_vap[j])\n",
    "m.eq_temperature_bubble = Constraint(m.Comp, rule=rule_bubble_temp)\n",
    "\n",
    "m._sum_mole_frac_tdew = Constraint(expr=1e3 == \\\n",
    "                                   1e3 * sum(m._mole_frac_tdew[j] for j in m.Comp))\n",
    "# ln(xi)+ln(f_liq(T_bub)) = ln(xi(T_bub))+ln(f_vap(T_dew))\n",
    "def rule_dew_temp(m, j):\n",
    "    return log(m._mole_frac_tdew[j]) + log(m.dew_temp_liq[j]) == \\\n",
    "    log(m.mole_frac_comp[j]) + log(m.dew_temp_vap[j])\n",
    "m.eq_temperature_dew = Constraint(m.Comp, rule=rule_dew_temp)\n",
    "#######################"
   ]
  },
  {
   "cell_type": "code",
   "execution_count": 6,
   "id": "08b856ef-619b-44d6-b41b-2163b108116a",
   "metadata": {},
   "outputs": [],
   "source": [
    "# 算出泡露点后，可以计算 T_eq 并带入计算了\n",
    "# Definition of equilibrium temperature for smooth VLE\n",
    "m._teq = Var(\n",
    "    initialize=m.T.value,\n",
    "    doc=\"Temperature for calculating phase equilibrium\"\n",
    ")\n",
    "m._t1 = Var(\n",
    "    initialize=m.T.value,\n",
    "    doc=\"Intermediate temperature for calculating Teq\"\n",
    ")\n",
    "\n",
    "m.eps_1 = Param(\n",
    "    default=0.01,\n",
    "    mutable=True,\n",
    "    doc=\"Smoothing parameter for Teq\"\n",
    ")\n",
    "m.eps_2 = Param(\n",
    "    default=0.0005,\n",
    "    mutable=True,\n",
    "    doc=\"Smoothing parameter for Teq\"\n",
    ")\n",
    "\n",
    "# PSE paper Eqn 13\n",
    "def rule_t1(b):\n",
    "    return b._t1 == 0.5 * (\n",
    "        b.T + b.temperature_bubble\n",
    "        + sqrt((b.T - b.temperature_bubble) ** 2 + b.eps_1**2)\n",
    "    )\n",
    "m._t1_constraint = Constraint(rule=rule_t1)\n",
    "\n",
    "# PSE paper Eqn 14\n",
    "# TODO : Add option for supercritical extension\n",
    "def rule_teq(b):\n",
    "    return b._teq == 0.5 * (\n",
    "        b._t1 + b.temperature_dew\n",
    "        - sqrt((b._t1 - b.temperature_dew) ** 2 + b.eps_2**2)\n",
    "    )\n",
    "m._teq_constraint = Constraint(rule=rule_teq)"
   ]
  },
  {
   "cell_type": "code",
   "execution_count": 7,
   "id": "3d581354-edcc-492f-9ca8-f7c2364c5fcf",
   "metadata": {},
   "outputs": [],
   "source": [
    "def func_a(m, j):\n",
    "    return (m.OmegaA * ((R * m.Tc[j]) ** 2 / m.Pc[j])\n",
    "        * ((1 + m.fw[j] * (1 - sqrt(m._teq / m.Tc[j]))) #是不是平方？？？\n",
    "            ** 2))\n",
    "m.a = Expression(m.Comp,rule=func_a)\n",
    "\n",
    "def func_b(m, j):\n",
    "    return (\n",
    "        m.OmegaB\n",
    "        * R * m.Tc[j] / m.Pc[j]\n",
    "    )\n",
    "m.b = Expression(m.Comp,rule=func_b)\n",
    "\n",
    "def rule_am(m, p):\n",
    "    return sum(\n",
    "    sum(\n",
    "        m.mole_frac_phase_comp[p, i]\n",
    "        * m.mole_frac_phase_comp[p, j]\n",
    "        * sqrt(m.a[i] * m.a[j])\n",
    "        * (1 - m.kappa[i, j])\n",
    "        for j in m.Comp\n",
    "    )\n",
    "    for i in m.Comp\n",
    "    )\n",
    "m.am = Expression(m.Phase, rule=rule_am)\n",
    "\n",
    "def rule_bm(m, p):\n",
    "    return sum(m.mole_frac_phase_comp[p,i] * m.b[i] for i in m.Comp)\n",
    "m.bm = Expression(m.Phase, rule=rule_bm)\n",
    "\n",
    "def func_A(m,p):\n",
    "    return m.am[p]*m.P/(R*m._teq)**2\n",
    "m.A = Expression(m.Phase, rule=func_A)\n",
    "\n",
    "def func_B(m,p):\n",
    "    return m.bm[p]*m.P/(R*m._teq)\n",
    "m.B = Expression(m.Phase, rule=func_B)"
   ]
  },
  {
   "cell_type": "code",
   "execution_count": 8,
   "id": "e8a3e08a-2060-4e45-88dc-05854609f8c4",
   "metadata": {},
   "outputs": [],
   "source": [
    "# 定义三次方程一般形式的系数\n",
    "def rule_cubic_coef_b(m,p):\n",
    "    return (-(1+m.B[p]-m.EoS_u*m.B[p]))\n",
    "m.cubic_coef_b = Expression(m.Phase,rule=rule_cubic_coef_b)\n",
    "\n",
    "def rule_cubic_coef_c(m,p):\n",
    "    return (m.A[p]-m.EoS_u*m.B[p]-(m.EoS_u-m.EoS_w)*m.B[p]**2)\n",
    "m.cubic_coef_c = Expression(m.Phase,rule=rule_cubic_coef_c)\n",
    "\n",
    "def rule_cubic_coef_d(m,p):\n",
    "    return (-m.A[p]*m.B[p]-m.EoS_w*m.B[p]**2-m.EoS_w*m.B[p]**3)\n",
    "m.cubic_coef_d = Expression(m.Phase,rule=rule_cubic_coef_d)\n",
    "\n",
    "def evaluate_root(m,p):\n",
    "    if p == 'Vap':\n",
    "        return m.crh.evaluate(args=(m.cubic_coef_b[p], m.cubic_coef_c[p], m.cubic_coef_d[p]))\n",
    "    else:\n",
    "        return m.crl.evaluate(args=(m.cubic_coef_b[p], m.cubic_coef_c[p], m.cubic_coef_d[p]))\n",
    "m.external_expr = Expression(m.Phase, rule=evaluate_root)\n",
    "\n",
    "m.Z = Var(m.Phase, initialize = 1)\n",
    "def rule_cubic_Z(m,p):\n",
    "    return m.Z[p] == m.external_expr[p]\n",
    "m.cubic_z = Constraint(m.Phase, rule = rule_cubic_Z)"
   ]
  },
  {
   "cell_type": "code",
   "execution_count": 9,
   "id": "b3ba4cd0-5846-4605-8f4d-fbf7515501e2",
   "metadata": {},
   "outputs": [],
   "source": [
    "# 用压缩因子计算相平衡\n",
    "def rule_delta(m, p, i):\n",
    "    # See pg. 145 in Properties of Gases and Liquids\n",
    "    return (2 * sqrt(m.a[i]) / m.am[p]\n",
    "        * sum(\n",
    "            m.mole_frac_phase_comp[p, j]\n",
    "            * sqrt(m.a[j])\n",
    "            * (1 - m.kappa[i, j])\n",
    "            for j in m.Comp\n",
    "        )\n",
    "    )\n",
    "m.delta = Expression(m.Phase, m.Comp, rule=rule_delta)\n",
    "\n",
    "def ln_fug_coeff_cubic(b, p, j):\n",
    "    # See pg. 145 in Properties of Gases and Liquids\n",
    "    return (\n",
    "            b.b[j] / b.bm[p] * (b.Z[p] - 1) * (b.B[p] * b.EoS_p)\n",
    "            - safe_log(b.Z[p] - b.B[p], eps=1e-6)\n",
    "            * (m.B[p] * m.EoS_p)\n",
    "            + b.A[p]\n",
    "            * (b.b[j] / b.bm[p] - b.delta[p, j])\n",
    "            * safe_log(\n",
    "                (2 * b.Z[p] + b.B[p] * (b.EoS_u + b.EoS_p))\n",
    "                / (2 * b.Z[p] + b.B[p] * (b.EoS_u - b.EoS_p)),\n",
    "                eps=1e-6,\n",
    "            )\n",
    "        ) / (b.B[p] * b.EoS_p) + log(b.mole_frac_phase_comp[p, j])\n",
    "m.ln_fug_coeff = Expression(m.Phase, m.Comp, rule = ln_fug_coeff_cubic)"
   ]
  },
  {
   "cell_type": "code",
   "execution_count": 10,
   "id": "6447b8fd-8752-45c5-bd56-a764ba84e2be",
   "metadata": {},
   "outputs": [],
   "source": [
    "# 相平衡约束\n",
    "def rule_VLE(m,c):\n",
    "    return m.ln_fug_coeff['Vap',c] - m.ln_fug_coeff['Liq',c] ==0\n",
    "m.rule_equilibrium = Constraint(m.Comp, rule = rule_VLE)"
   ]
  },
  {
   "cell_type": "code",
   "execution_count": 11,
   "id": "89d3a4f2-e0f7-489c-9044-1f1ef2e3b0dc",
   "metadata": {},
   "outputs": [],
   "source": [
    "m.flow_mol.fix(100)\n",
    "m.mole_frac_comp[\"benzene\"].fix(0.5)\n",
    "m.mole_frac_comp[\"toluene\"].fix(0.5)\n",
    "m.T.fix(325)\n",
    "m.P.fix(1e5)"
   ]
  },
  {
   "cell_type": "code",
   "execution_count": 12,
   "id": "124a4e46-5df2-4c7b-a224-5d4e41bf9f6b",
   "metadata": {},
   "outputs": [
    {
     "data": {
      "text/plain": [
       "0"
      ]
     },
     "execution_count": 12,
     "metadata": {},
     "output_type": "execute_result"
    }
   ],
   "source": [
    "degrees_of_freedom(m)"
   ]
  },
  {
   "cell_type": "code",
   "execution_count": 13,
   "id": "642bf988-fe7a-43e8-b646-be4e9e10c390",
   "metadata": {},
   "outputs": [],
   "source": [
    "# If present, initialize bubble and dew point calculations\n",
    "# Antoine equation\n",
    "def antoine_P(b, j, T):\n",
    "    return units.convert_value(\n",
    "                value(\n",
    "                    10\n",
    "                    ** (\n",
    "                        b.antoine_coeff_A[j]\n",
    "                        - b.antoine_coeff_B[j]\n",
    "                        / (T + b.antoine_coeff_C[j])\n",
    "                    )\n",
    "                ),\n",
    "                from_units=units.bar,\n",
    "                to_units=units.Pa,\n",
    "            )\n",
    "\n",
    "for k in m.values():\n",
    "    # Bubble temperature initialization\n",
    "    if hasattr(k, \"_mole_frac_tbub\"):\n",
    "        Tbub0 = 0\n",
    "        for j in k.Comp:\n",
    "                Tbub0 += value(\n",
    "                    k.mole_frac_comp[j]\n",
    "                    * (\n",
    "                        k.antoine_coeff_B[j]\n",
    "                        / (\n",
    "                            k.antoine_coeff_A[j]\n",
    "                            - math.log10(\n",
    "                                value(\n",
    "                                    units.convert(\n",
    "                                        k.P, to_units=units.bar\n",
    "                                    )\n",
    "                                )\n",
    "                            )\n",
    "                        )\n",
    "                        - k.antoine_coeff_C[j]\n",
    "                    )\n",
    "                )\n",
    "\n",
    "        err = 1\n",
    "        counter = 0\n",
    "\n",
    "        while err > 1e-2 and counter < 100:\n",
    "            f = value(\n",
    "                sum(\n",
    "                    antoine_P(k, j, Tbub0) * k.mole_frac_comp[j]\n",
    "                    for j in k.Comp\n",
    "                )\n",
    "                - k.P\n",
    "            )\n",
    "            df = value(\n",
    "                sum(\n",
    "                    k.mole_frac_comp[j]\n",
    "                    * k.antoine_coeff_B[j]\n",
    "                    * math.log(10)\n",
    "                    * antoine_P(k, j, Tbub0)\n",
    "                    / (Tbub0 + k.antoine_coeff_C[j]) ** 2\n",
    "                    for j in k.Comp\n",
    "                )\n",
    "            )\n",
    "\n",
    "            if f / df > 20:\n",
    "                Tbub1 = Tbub0 - 20\n",
    "            elif f / df < -20:\n",
    "                Tbub1 = Tbub0 + 20\n",
    "            else:\n",
    "                Tbub1 = Tbub0 - f / df\n",
    "\n",
    "            err = abs(Tbub1 - Tbub0)\n",
    "            Tbub0 = Tbub1\n",
    "            counter += 1\n",
    "\n",
    "        k.temperature_bubble.value = Tbub0\n",
    "\n",
    "        for j in k.Comp:\n",
    "            k._mole_frac_tbub[j].value = value(\n",
    "                k.mole_frac_comp[j] * antoine_P(k, j, Tbub0) / k.P\n",
    "            )\n",
    "\n",
    "    # Dew temperature initialization\n",
    "    if hasattr(k, \"_mole_frac_tdew\"):\n",
    "        Tdew0 = 0\n",
    "        for j in k.Comp:\n",
    "            Tdew0 += value(\n",
    "                k.mole_frac_comp[j]\n",
    "                * (\n",
    "                    k.antoine_coeff_B[j]\n",
    "                    / (\n",
    "                        k.antoine_coeff_A[j]\n",
    "                        - math.log10(\n",
    "                            value(\n",
    "                                units.convert(\n",
    "                                    k.P, to_units=units.bar\n",
    "                                )\n",
    "                            )\n",
    "                        )\n",
    "                    )\n",
    "                    - k.antoine_coeff_C[j]\n",
    "                )\n",
    "            )\n",
    "\n",
    "        err = 1\n",
    "        counter = 0\n",
    "\n",
    "        while err > 1e-2 and counter < 100:\n",
    "            f = value(\n",
    "                k.P\n",
    "                * sum(\n",
    "                    k.mole_frac_comp[j] / antoine_P(k, j, Tdew0)\n",
    "                    for j in k.Comp\n",
    "                )\n",
    "                - 1\n",
    "            )\n",
    "            df = -value(\n",
    "                k.P\n",
    "                * math.log(10)\n",
    "                * sum(\n",
    "                    k.mole_frac_comp[j]\n",
    "                    * k.antoine_coeff_B[j]\n",
    "                    / (\n",
    "                        (Tdew0 + k.antoine_coeff_C[j]) ** 2\n",
    "                        * antoine_P(k, j, Tdew0)\n",
    "                    )\n",
    "                    for j in k.Comp\n",
    "                )\n",
    "            )\n",
    "\n",
    "            if f / df > 20:\n",
    "                Tdew1 = Tdew0 - 20\n",
    "            elif f / df < -20:\n",
    "                Tdew1 = Tdew0 + 20\n",
    "            else:\n",
    "                Tdew1 = Tdew0 - f / df\n",
    "\n",
    "            err = abs(Tdew1 - Tdew0)\n",
    "            Tdew0 = Tdew1\n",
    "            counter += 1\n",
    "\n",
    "        k.temperature_dew.value = Tdew0\n",
    "\n",
    "        for j in k.Comp:\n",
    "            k._mole_frac_tdew[j].value = value(\n",
    "                k.mole_frac_comp[j] * k.P / antoine_P(k, j, Tdew0)\n",
    "            )\n",
    "            \n",
    "m._t1.value = max(m.T.value, m.temperature_bubble.value)\n",
    "m._teq.value = min(m._t1.value, m.temperature_dew.value)"
   ]
  },
  {
   "cell_type": "code",
   "execution_count": 14,
   "id": "35422edd-41d4-4a3d-966b-177106bc3a8d",
   "metadata": {},
   "outputs": [
    {
     "data": {
      "text/plain": [
       "16"
      ]
     },
     "execution_count": 14,
     "metadata": {},
     "output_type": "execute_result"
    }
   ],
   "source": [
    "n = sum(1 for i in m.component_data_objects(Constraint))\n",
    "n"
   ]
  },
  {
   "cell_type": "code",
   "execution_count": 16,
   "id": "4cab9997-81ed-4d63-9bec-aaf034b70896",
   "metadata": {},
   "outputs": [
    {
     "data": {
      "text/plain": [
       "38"
      ]
     },
     "execution_count": 16,
     "metadata": {},
     "output_type": "execute_result"
    }
   ],
   "source": [
    "n = sum(1 for i in m.component_data_objects(Expression))\n",
    "n"
   ]
  },
  {
   "cell_type": "code",
   "execution_count": 27,
   "id": "4e122458-26ff-4ebd-8c3b-9f920b076a87",
   "metadata": {},
   "outputs": [
    {
     "data": {
      "text/plain": [
       "365.12999002186416"
      ]
     },
     "execution_count": 27,
     "metadata": {},
     "output_type": "execute_result"
    }
   ],
   "source": [
    "m.temperature_bubble.value"
   ]
  },
  {
   "cell_type": "code",
   "execution_count": 28,
   "id": "e4f75fd3-6b23-4dc0-a661-8f286adbee43",
   "metadata": {},
   "outputs": [
    {
     "data": {
      "text/plain": [
       "370.79253172765516"
      ]
     },
     "execution_count": 28,
     "metadata": {},
     "output_type": "execute_result"
    }
   ],
   "source": [
    "m.temperature_dew.value"
   ]
  },
  {
   "cell_type": "code",
   "execution_count": 29,
   "id": "8eb3e274-57b3-466d-98e3-2740e7a2dc22",
   "metadata": {},
   "outputs": [
    {
     "data": {
      "text/plain": [
       "365.1299906338022"
      ]
     },
     "execution_count": 29,
     "metadata": {},
     "output_type": "execute_result"
    }
   ],
   "source": [
    "m._teq.value"
   ]
  },
  {
   "cell_type": "code",
   "execution_count": 26,
   "id": "5d4a82d7-f627-4c6a-afbb-af23bef741a8",
   "metadata": {},
   "outputs": [],
   "source": [
    "solver = SolverFactory('ipopt')\n",
    "solver.options['tol'] = 1e-6\n",
    "results = solver.solve(m)"
   ]
  },
  {
   "cell_type": "code",
   "execution_count": 30,
   "id": "d4063b93-3d30-409b-8710-5eca1da2b555",
   "metadata": {},
   "outputs": [
    {
     "name": "stdout",
     "output_type": "stream",
     "text": [
      "0.0044835789433747\n",
      "0.0044835789433747\n",
      "0.9452061339795887\n",
      "0.9452061339795887\n"
     ]
    }
   ],
   "source": [
    "for p in m.Phase:\n",
    "    for c in m.Comp:\n",
    "        print(value(m.Z[p]))"
   ]
  },
  {
   "cell_type": "code",
   "execution_count": 31,
   "id": "a7857fb2-943e-4872-b6e1-ba544019c593",
   "metadata": {},
   "outputs": [
    {
     "name": "stdout",
     "output_type": "stream",
     "text": [
      "flow_mol_phase : Size=2, Index=Phase\n",
      "    Key : Lower : Value             : Upper : Fixed : Stale : Domain\n",
      "    Liq :     0 : 63.21750423196977 :  None : False : False : NonNegativeReals\n",
      "    Vap :     0 : 36.78249576803023 :  None : False : False : NonNegativeReals\n"
     ]
    }
   ],
   "source": [
    "m.flow_mol_phase.pprint()"
   ]
  },
  {
   "cell_type": "code",
   "execution_count": 32,
   "id": "89868256-35d2-49e8-a7ab-69420c766f05",
   "metadata": {},
   "outputs": [
    {
     "name": "stdout",
     "output_type": "stream",
     "text": [
      "mole_frac_phase_comp : Size=4, Index=mole_frac_phase_comp_index\n",
      "    Key                : Lower : Value              : Upper : Fixed : Stale : Domain\n",
      "    ('Liq', 'benzene') :     0 : 0.4261359315114879 :  None : False : False :  Reals\n",
      "    ('Liq', 'toluene') :     0 : 0.5738640684885121 :  None : False : False :  Reals\n",
      "    ('Vap', 'benzene') :     0 : 0.6269490273773447 :  None : False : False :  Reals\n",
      "    ('Vap', 'toluene') :     0 : 0.3730509726226554 :  None : False : False :  Reals\n"
     ]
    }
   ],
   "source": [
    "m.mole_frac_phase_comp.pprint()"
   ]
  },
  {
   "cell_type": "code",
   "execution_count": 33,
   "id": "323bc274-cc0f-4d7e-af20-77bdec568cda",
   "metadata": {},
   "outputs": [
    {
     "name": "stdout",
     "output_type": "stream",
     "text": [
      "mole_frac_comp : Size=2, Index=Comp\n",
      "    Key     : Lower : Value : Upper : Fixed : Stale : Domain\n",
      "    benzene :     0 :   0.5 :  None :  True :  True :  Reals\n",
      "    toluene :     0 :   0.5 :  None :  True :  True :  Reals\n"
     ]
    }
   ],
   "source": [
    "m.mole_frac_comp.pprint()"
   ]
  },
  {
   "cell_type": "code",
   "execution_count": 34,
   "id": "250f9f4f-0597-4a68-be59-f0b26593d57b",
   "metadata": {},
   "outputs": [
    {
     "data": {
      "text/plain": [
       "365.12999002186416"
      ]
     },
     "execution_count": 34,
     "metadata": {},
     "output_type": "execute_result"
    }
   ],
   "source": [
    "value(m.temperature_bubble)"
   ]
  },
  {
   "cell_type": "code",
   "execution_count": 35,
   "id": "779e793c-edb4-42b0-8df4-b28ff5718b59",
   "metadata": {},
   "outputs": [
    {
     "data": {
      "text/plain": [
       "370.79253172765516"
      ]
     },
     "execution_count": 35,
     "metadata": {},
     "output_type": "execute_result"
    }
   ],
   "source": [
    "value(m.temperature_dew)"
   ]
  },
  {
   "cell_type": "code",
   "execution_count": 36,
   "id": "86db68fc-5e85-459a-a4a5-82d719f68ae0",
   "metadata": {},
   "outputs": [
    {
     "data": {
      "text/plain": [
       "365.1299906338022"
      ]
     },
     "execution_count": 36,
     "metadata": {},
     "output_type": "execute_result"
    }
   ],
   "source": [
    "value(m._teq)"
   ]
  },
  {
   "cell_type": "code",
   "execution_count": null,
   "id": "bee51019-93b3-48f7-9bd9-62f3f903daa4",
   "metadata": {},
   "outputs": [],
   "source": []
  }
 ],
 "metadata": {
  "kernelspec": {
   "display_name": "Python 3 (ipykernel)",
   "language": "python",
   "name": "python3"
  },
  "language_info": {
   "codemirror_mode": {
    "name": "ipython",
    "version": 3
   },
   "file_extension": ".py",
   "mimetype": "text/x-python",
   "name": "python",
   "nbconvert_exporter": "python",
   "pygments_lexer": "ipython3",
   "version": "3.9.18"
  }
 },
 "nbformat": 4,
 "nbformat_minor": 5
}
