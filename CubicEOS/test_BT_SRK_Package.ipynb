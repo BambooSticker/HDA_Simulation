{
 "cells": [
  {
   "cell_type": "code",
   "execution_count": 1,
   "id": "372a23e0-b9ca-4cbc-be96-1ceec6140e7d",
   "metadata": {},
   "outputs": [],
   "source": [
    "from pyomo.environ import *\n",
    "import os\n",
    "import idaes\n",
    "import numpy as np\n",
    "import matplotlib\n",
    "import matplotlib.pyplot as plt\n",
    "import math\n",
    "from idaes.core.util.math import safe_log\n",
    "from idaes.core.util.model_statistics import degrees_of_freedom"
   ]
  },
  {
   "cell_type": "code",
   "execution_count": 2,
   "id": "75d83fa2-9c2f-4dee-9dfa-3214a0db22c9",
   "metadata": {},
   "outputs": [],
   "source": [
    "from BT_SRK import BT_SRK\n",
    "from Initialization import Initialization"
   ]
  },
  {
   "cell_type": "code",
   "execution_count": 3,
   "id": "54bb8372-0ebe-48b7-8d5b-e63e6ff59869",
   "metadata": {},
   "outputs": [],
   "source": [
    "m = ConcreteModel()\n",
    "BT_SRK(m)"
   ]
  },
  {
   "cell_type": "code",
   "execution_count": 20,
   "id": "f4464846-4248-4d52-a02f-93f0d42b2689",
   "metadata": {},
   "outputs": [
    {
     "data": {
      "text/plain": [
       "0"
      ]
     },
     "execution_count": 20,
     "metadata": {},
     "output_type": "execute_result"
    }
   ],
   "source": [
    "m.flow_mol.fix(100)\n",
    "m.mole_frac_comp[\"benzene\"].fix(0.65)\n",
    "m.mole_frac_comp[\"toluene\"].fix(0.35)\n",
    "m.T.fix(375)\n",
    "m.P.fix(1.45E5)\n",
    "degrees_of_freedom(m)"
   ]
  },
  {
   "cell_type": "code",
   "execution_count": 22,
   "id": "386eb20a-d784-4b66-a115-5732d0abe2da",
   "metadata": {},
   "outputs": [],
   "source": [
    "m.mi = Expression(expr=(m.mole_frac_comp[\"benzene\"]+m.mole_frac_comp[\"toluene\"]))"
   ]
  },
  {
   "cell_type": "code",
   "execution_count": 14,
   "id": "8820ffeb-c66b-4eca-9cfd-52638781922c",
   "metadata": {},
   "outputs": [
    {
     "data": {
      "text/plain": [
       "374.0363204265849"
      ]
     },
     "execution_count": 14,
     "metadata": {},
     "output_type": "execute_result"
    }
   ],
   "source": [
    "m.temperature_bubble.value"
   ]
  },
  {
   "cell_type": "code",
   "execution_count": 15,
   "id": "69a411d6-91bd-4dee-8244-052a28a127d2",
   "metadata": {},
   "outputs": [
    {
     "data": {
      "text/plain": [
       "380.1905856051003"
      ]
     },
     "execution_count": 15,
     "metadata": {},
     "output_type": "execute_result"
    }
   ],
   "source": [
    "m.temperature_dew.value"
   ]
  },
  {
   "cell_type": "code",
   "execution_count": 16,
   "id": "1a69947f-54f1-4773-ba16-b4f2e83668e8",
   "metadata": {},
   "outputs": [
    {
     "data": {
      "text/plain": [
       "375"
      ]
     },
     "execution_count": 16,
     "metadata": {},
     "output_type": "execute_result"
    }
   ],
   "source": [
    "m._teq.value"
   ]
  },
  {
   "cell_type": "code",
   "execution_count": 17,
   "id": "fbae680f-c2f7-46af-bea3-cfc0f4533a03",
   "metadata": {},
   "outputs": [
    {
     "name": "stdout",
     "output_type": "stream",
     "text": [
      "Ipopt 3.13.2: tol=1e-06\n",
      "\n",
      "\n",
      "******************************************************************************\n",
      "This program contains Ipopt, a library for large-scale nonlinear optimization.\n",
      " Ipopt is released as open source code under the Eclipse Public License (EPL).\n",
      "         For more information visit http://projects.coin-or.org/Ipopt\n",
      "\n",
      "This version of Ipopt was compiled from source code available at\n",
      "    https://github.com/IDAES/Ipopt as part of the Institute for the Design of\n",
      "    Advanced Energy Systems Process Systems Engineering Framework (IDAES PSE\n",
      "    Framework) Copyright (c) 2018-2019. See https://github.com/IDAES/idaes-pse.\n",
      "\n",
      "This version of Ipopt was compiled using HSL, a collection of Fortran codes\n",
      "    for large-scale scientific computation.  All technical papers, sales and\n",
      "    publicity material resulting from use of the HSL codes within IPOPT must\n",
      "    contain the following acknowledgement:\n",
      "        HSL, a collection of Fortran codes for large-scale scientific\n",
      "        computation. See http://www.hsl.rl.ac.uk.\n",
      "******************************************************************************\n",
      "\n",
      "This is Ipopt version 3.13.2, running with linear solver mumps.\n",
      "NOTE: Other linear solvers might be more efficient (see Ipopt documentation).\n",
      "\n",
      "Number of nonzeros in equality constraint Jacobian...:       51\n",
      "Number of nonzeros in inequality constraint Jacobian.:        0\n",
      "Number of nonzeros in Lagrangian Hessian.............:       37\n",
      "\n",
      "Total number of variables............................:       16\n",
      "                     variables with only lower bounds:       10\n",
      "                variables with lower and upper bounds:        0\n",
      "                     variables with only upper bounds:        0\n",
      "Total number of equality constraints.................:       16\n",
      "Total number of inequality constraints...............:        0\n",
      "        inequality constraints with only lower bounds:        0\n",
      "   inequality constraints with lower and upper bounds:        0\n",
      "        inequality constraints with only upper bounds:        0\n",
      "\n",
      "iter    objective    inf_pr   inf_du lg(mu)  ||d||  lg(rg) alpha_du alpha_pr  ls\n",
      "   0  0.0000000e+00 4.50e+01 1.00e+00  -1.0 0.00e+00    -  0.00e+00 0.00e+00   0\n",
      "   1  0.0000000e+00 4.50e+01 7.04e+03  -1.0 2.46e+02    -  2.86e-01 4.03e-05h  1\n",
      "   2r 0.0000000e+00 4.50e+01 1.00e+03   1.7 0.00e+00    -  0.00e+00 2.01e-07R  2\n",
      "   3r 0.0000000e+00 5.34e+00 9.99e+02   1.7 4.31e+04    -  5.90e-04 1.03e-03f  1\n",
      "   4r 0.0000000e+00 5.16e+00 9.90e+02   1.0 3.39e+03    -  9.96e-03 1.56e-03f  1\n",
      "   5r 0.0000000e+00 3.48e+00 7.97e+02   1.0 5.04e+03    -  9.92e-01 8.31e-03f  1\n",
      "   6r 0.0000000e+00 4.32e+00 1.00e+03   1.0 1.83e+02    -  2.01e-01 3.05e-01f  1\n",
      "   7r 0.0000000e+00 2.71e+00 2.96e+02   1.0 1.94e+01    -  1.00e+00 5.59e-01f  1\n",
      "   8r 0.0000000e+00 1.07e+00 1.70e+02   0.3 5.04e+00    -  3.26e-01 9.52e-01f  1\n",
      "   9r 0.0000000e+00 2.99e-01 8.33e+01   0.3 2.56e-01    -  6.83e-01 1.00e+00f  1\n",
      "iter    objective    inf_pr   inf_du lg(mu)  ||d||  lg(rg) alpha_du alpha_pr  ls\n",
      "  10r 0.0000000e+00 3.02e-01 1.18e+01  -0.4 3.24e-01    -  9.61e-01 1.00e+00f  1\n",
      "  11r 0.0000000e+00 3.03e-01 1.50e-01  -1.1 2.20e-01    -  1.00e+00 1.00e+00f  1\n",
      "  12r 0.0000000e+00 3.03e-01 1.02e-01  -2.8 7.64e-02    -  1.00e+00 1.00e+00f  1\n",
      "  13r 0.0000000e+00 3.03e-01 1.49e-02  -4.1 2.65e-03    -  1.00e+00 1.00e+00f  1\n",
      "  14r 0.0000000e+00 3.03e-01 2.52e-08  -4.1 1.37e-06    -  1.00e+00 1.00e+00h  1\n",
      "  15r 0.0000000e+00 3.03e-01 3.46e-03  -6.2 3.66e-05    -  1.00e+00 1.00e+00f  1\n",
      "\n",
      "Number of Iterations....: 15\n",
      "\n",
      "                                   (scaled)                 (unscaled)\n",
      "Objective...............:   0.0000000000000000e+00    0.0000000000000000e+00\n",
      "Dual infeasibility......:   3.5115965948020713e-04    3.5115965948020713e-04\n",
      "Constraint violation....:   3.0288120704238597e-01    3.0288120704238597e-01\n",
      "Complementarity.........:   6.0897953302237405e-07    6.0897953302237405e-07\n",
      "Overall NLP error.......:   3.0288120704238597e-01    3.0288120704238597e-01\n",
      "\n",
      "\n",
      "Number of objective function evaluations             = 19\n",
      "Number of objective gradient evaluations             = 4\n",
      "Number of equality constraint evaluations            = 19\n",
      "Number of inequality constraint evaluations          = 0\n",
      "Number of equality constraint Jacobian evaluations   = 18\n",
      "Number of inequality constraint Jacobian evaluations = 0\n",
      "Number of Lagrangian Hessian evaluations             = 16\n",
      "Total CPU secs in IPOPT (w/o function evaluations)   =      0.005\n",
      "Total CPU secs in NLP function evaluations           =      0.001\n",
      "\n",
      "EXIT: Converged to a point of local infeasibility. Problem may be infeasible.\n",
      "WARNING: Loading a SolverResults object with a warning status into\n",
      "model.name=\"unknown\";\n",
      "    - termination condition: infeasible\n",
      "    - message from solver: Ipopt 3.13.2\\x3a Converged to a locally infeasible\n",
      "      point. Problem may be infeasible.\n"
     ]
    }
   ],
   "source": [
    "solver = SolverFactory('ipopt')\n",
    "solver.options['tol'] = 1e-6\n",
    "results = solver.solve(m,tee = True)"
   ]
  },
  {
   "cell_type": "code",
   "execution_count": 18,
   "id": "ea486e10-cbd7-4363-8d49-f4c46710e966",
   "metadata": {},
   "outputs": [
    {
     "name": "stdout",
     "output_type": "stream",
     "text": [
      "flow_mol_phase : Size=2, Index=Phase\n",
      "    Key : Lower : Value                 : Upper : Fixed : Stale : Domain\n",
      "    Liq :     0 : 3.024698795744313e-07 :  None : False : False : NonNegativeReals\n",
      "    Vap :     0 :     99.99999969753792 :  None : False : False : NonNegativeReals\n"
     ]
    }
   ],
   "source": [
    "m.flow_mol_phase.pprint()"
   ]
  },
  {
   "cell_type": "code",
   "execution_count": 19,
   "id": "dbf5f6a1-200b-492b-91ff-74875789fc27",
   "metadata": {},
   "outputs": [
    {
     "name": "stdout",
     "output_type": "stream",
     "text": [
      "mole_frac_phase_comp : Size=4, Index=mole_frac_phase_comp_index\n",
      "    Key                : Lower : Value               : Upper : Fixed : Stale : Domain\n",
      "    ('Liq', 'benzene') :     0 : 0.40667617614820306 :  None : False : False :  Reals\n",
      "    ('Liq', 'toluene') :     0 : 0.29044261772530244 :  None : False : False :  Reals\n",
      "    ('Vap', 'benzene') :     0 :  0.6500000007358516 :  None : False : False :  Reals\n",
      "    ('Vap', 'toluene') :     0 : 0.35000000018003985 :  None : False : False :  Reals\n"
     ]
    }
   ],
   "source": [
    "m.mole_frac_phase_comp.pprint()"
   ]
  },
  {
   "cell_type": "code",
   "execution_count": null,
   "id": "4a1e1b2d-1aee-4da7-a006-74a397f1df6c",
   "metadata": {},
   "outputs": [],
   "source": []
  },
  {
   "cell_type": "code",
   "execution_count": null,
   "id": "72710247-2713-4c68-a808-489df70e1dc9",
   "metadata": {},
   "outputs": [],
   "source": []
  }
 ],
 "metadata": {
  "kernelspec": {
   "display_name": "Python 3 (ipykernel)",
   "language": "python",
   "name": "python3"
  },
  "language_info": {
   "codemirror_mode": {
    "name": "ipython",
    "version": 3
   },
   "file_extension": ".py",
   "mimetype": "text/x-python",
   "name": "python",
   "nbconvert_exporter": "python",
   "pygments_lexer": "ipython3",
   "version": "3.9.18"
  }
 },
 "nbformat": 4,
 "nbformat_minor": 5
}
