{
 "cells": [
  {
   "cell_type": "code",
   "execution_count": 1,
   "id": "d90e4f45-42b5-4744-83b1-9f25fab71b91",
   "metadata": {},
   "outputs": [],
   "source": [
    "from pyomo.environ import *\n",
    "import os\n",
    "import idaes\n",
    "import numpy as np\n",
    "import matplotlib\n",
    "import matplotlib.pyplot as plt\n",
    "import math\n",
    "from idaes.core.util.math import safe_log\n",
    "from idaes.core.util.model_statistics import degrees_of_freedom"
   ]
  },
  {
   "cell_type": "code",
   "execution_count": 2,
   "id": "6a9d62db-c303-4e04-a29b-4f5c219ef157",
   "metadata": {},
   "outputs": [],
   "source": [
    "# Parameters\n",
    "component_list = [\"benzene\",\"toluene\"]\n",
    "phase_list = [\"Liq\", \"Vap\"]\n",
    "pressure_crit_data = {\"benzene\": 48.9e5, \"toluene\": 41.0e5}\n",
    "temperature_crit_data = {\"benzene\": 562.2, \"toluene\": 591.8}\n",
    "kappa_data = {\n",
    "            (\"benzene\", \"benzene\"): 0.0000,\n",
    "            (\"benzene\", \"toluene\"): 0.0000,\n",
    "            (\"toluene\", \"benzene\"): 0.0000,\n",
    "            (\"toluene\", \"toluene\"): 0.0000,\n",
    "        }\n",
    "omega_data = {\"benzene\": 0.212, \"toluene\": 0.263}\n",
    "R = 8.314462618"
   ]
  },
  {
   "cell_type": "code",
   "execution_count": 3,
   "id": "c99814b9-6dcc-4b11-8a65-fdfb23c5075d",
   "metadata": {},
   "outputs": [],
   "source": [
    "m = ConcreteModel()\n",
    "# define external function for finding cubic roots\n",
    "m.crl = ExternalFunction(\n",
    "    library=os.path.join(idaes.bin_directory, \"cubic_roots.so\"),\n",
    "    function=\"cubic_root_l_ext\",\n",
    ")\n",
    "m.crh = ExternalFunction(\n",
    "    library=os.path.join(idaes.bin_directory, \"cubic_roots.so\"),\n",
    "    function=\"cubic_root_h_ext\",\n",
    ")"
   ]
  },
  {
   "cell_type": "code",
   "execution_count": 4,
   "id": "001492dd-7d7c-4d46-9a06-d084c9c59814",
   "metadata": {},
   "outputs": [],
   "source": [
    "m.Comp = Set(initialize=component_list)\n",
    "m.Phase = Set(initialize=phase_list)\n",
    "\n",
    "m.flow_mol = Var(initialize=1.0,domain=NonNegativeReals) # F\n",
    "\n",
    "m.mole_frac_comp = Var(m.Comp, bounds=(0, None), initialize=0.5) # z\n",
    "\n",
    "m.flow_mol_phase = Var(m.Phase, initialize=0.5, domain=NonNegativeReals) # L, V\n",
    "\n",
    "m.mole_frac_phase_comp = Var(m.Phase, m.Comp, initialize=0.5,bounds=(0, None)) # x, y\n",
    "\n",
    "def rule_total_mass_balance(m): # L + V = F\n",
    "    return m.flow_mol_phase[\"Liq\"] + m.flow_mol_phase[\"Vap\"] == m.flow_mol\n",
    "m.total_flow_balance = Constraint(rule=rule_total_mass_balance)\n",
    "\n",
    "def rule_comp_mass_balance(m, c): # L*x + V*y = F*z\n",
    "    return (\n",
    "        m.flow_mol * m.mole_frac_comp[c]\n",
    "        == m.flow_mol_phase[\"Liq\"] * m.mole_frac_phase_comp[\"Liq\", c]\n",
    "        + m.flow_mol_phase[\"Vap\"] * m.mole_frac_phase_comp[\"Vap\", c]\n",
    "    )\n",
    "m.component_flow_balances = Constraint(m.Comp, rule=rule_comp_mass_balance)\n",
    "\n",
    "def rule_mole_frac(m): # sum(x) - sum(y) = 1\n",
    "    return (\n",
    "        sum(m.mole_frac_phase_comp[\"Liq\", c] for c in m.Comp)\n",
    "        - sum(m.mole_frac_phase_comp[\"Vap\", c] for c in m.Comp)\n",
    "        == 0\n",
    "    )\n",
    "m.sum_mole_frac = Constraint(rule=rule_mole_frac)\n",
    "\n",
    "m.T = Var(initialize = 298.15)\n",
    "m.P = Var(initialize = 101325)\n",
    "\n",
    "m.Tc = Param(m.Comp,initialize = temperature_crit_data)\n",
    "m.Pc = Param(m.Comp,initialize = pressure_crit_data)\n",
    "m.kappa = Param(m.Comp, m.Comp, initialize = kappa_data)\n",
    "m.omega = Param(m.Comp, initialize = omega_data)\n",
    "\n",
    "# for SRK cEOS\n",
    "m.OmegaA = Param(default=0.45724)\n",
    "m.OmegaB = Param(default=0.07780)\n",
    "m.EoS_u = Param(default=2)\n",
    "m.EoS_w = Param(default=-1)\n",
    "m.EoS_p = sqrt(m.EoS_u**2 - 4 * m.EoS_w)\n",
    "\n",
    "def func_fw(m,j):\n",
    "    return 0.37464 + 1.54226 * m.omega[j] - 0.26992 * m.omega[j] ** 2\n",
    "m.fw = Param(m.Comp, initialize = func_fw)\n",
    "\n",
    "def func_a(m, j):\n",
    "    return (m.OmegaA * ((R * m.Tc[j]) ** 2 / m.Pc[j])\n",
    "        * ((1 + m.fw[j] * (1 - sqrt(m.T / m.Tc[j]))) #是不是平方？？？\n",
    "            ** 2))\n",
    "m.a = Expression(m.Comp,rule=func_a)\n",
    "\n",
    "def func_b(m, j):\n",
    "    return (\n",
    "        m.OmegaB\n",
    "        * R * m.Tc[j] / m.Pc[j]\n",
    "    )\n",
    "m.b = Param(m.Comp,initialize=func_b)\n",
    "\n",
    "def rule_am(m, p):\n",
    "    return sum(\n",
    "    sum(\n",
    "        m.mole_frac_phase_comp[p, i]\n",
    "        * m.mole_frac_phase_comp[p, j]\n",
    "        * sqrt(m.a[i] * m.a[j])\n",
    "        * (1 - m.kappa[i, j])\n",
    "        for j in m.Comp\n",
    "    )\n",
    "    for i in m.Comp\n",
    "    )\n",
    "m.am = Expression(m.Phase, rule=rule_am)\n",
    "\n",
    "def rule_bm(m, p):\n",
    "    return sum(m.mole_frac_phase_comp[p,i] * m.b[i] for i in m.Comp)\n",
    "m.bm = Expression(m.Phase, rule=rule_bm)\n",
    "\n",
    "def func_A(m,p):\n",
    "    return m.am[p]*m.P/(R*m.T)**2\n",
    "m.A = Expression(m.Phase, rule=func_A)\n",
    "\n",
    "def func_B(m,p):\n",
    "    return m.bm[p]*m.P/(R*m.T)\n",
    "m.B = Expression(m.Phase, rule=func_B)"
   ]
  },
  {
   "cell_type": "code",
   "execution_count": 5,
   "id": "e8a3e08a-2060-4e45-88dc-05854609f8c4",
   "metadata": {},
   "outputs": [],
   "source": [
    "# 定义三次方程一般形式的系数\n",
    "def rule_cubic_coef_b(m,p):\n",
    "    return (-(1+m.B[p]-m.EoS_u*m.B[p]))\n",
    "m.cubic_coef_b = Expression(m.Phase,rule=rule_cubic_coef_b)\n",
    "\n",
    "def rule_cubic_coef_c(m,p):\n",
    "    return (m.A[p]-m.EoS_u*m.B[p]-(m.EoS_u-m.EoS_w)*m.B[p]**2)\n",
    "m.cubic_coef_c = Expression(m.Phase,rule=rule_cubic_coef_c)\n",
    "\n",
    "def rule_cubic_coef_d(m,p):\n",
    "    return (-m.A[p]*m.B[p]-m.EoS_w*m.B[p]**2-m.EoS_w*m.B[p]**3)\n",
    "m.cubic_coef_d = Expression(m.Phase,rule=rule_cubic_coef_d)\n",
    "\n",
    "def evaluate_root(m,p):\n",
    "    if p == 'Vap':\n",
    "        return m.crh.evaluate(args=(m.cubic_coef_b[p], m.cubic_coef_c[p], m.cubic_coef_d[p]))\n",
    "    else:\n",
    "        return m.crl.evaluate(args=(m.cubic_coef_b[p], m.cubic_coef_c[p], m.cubic_coef_d[p]))\n",
    "m.external_expr = Expression(m.Phase, rule=evaluate_root)\n",
    "\n",
    "m.Z = Var(m.Phase, initialize = 1)\n",
    "def rule_cubic_Z(m,p):\n",
    "    return m.Z[p] == m.external_expr[p]\n",
    "m.cubic_z = Constraint(m.Phase, rule = rule_cubic_Z)"
   ]
  },
  {
   "cell_type": "code",
   "execution_count": 6,
   "id": "b3ba4cd0-5846-4605-8f4d-fbf7515501e2",
   "metadata": {},
   "outputs": [],
   "source": [
    "# 用压缩因子计算相平衡\n",
    "def rule_delta(m, p, i):\n",
    "    # See pg. 145 in Properties of Gases and Liquids\n",
    "    return (2 * sqrt(m.a[i]) / m.am[p]\n",
    "        * sum(\n",
    "            m.mole_frac_phase_comp[p, j]\n",
    "            * sqrt(m.a[j])\n",
    "            * (1 - m.kappa[i, j])\n",
    "            for j in m.Comp\n",
    "        )\n",
    "    )\n",
    "m.delta = Expression(m.Phase, m.Comp, rule=rule_delta)\n",
    "\n",
    "def ln_fug_coeff_cubic(b, p, j):\n",
    "    # See pg. 145 in Properties of Gases and Liquids\n",
    "    return (\n",
    "            b.b[j] / b.bm[p] * (b.Z[p] - 1) * (b.B[p] * b.EoS_p)\n",
    "            - safe_log(b.Z[p] - b.B[p], eps=1e-6)\n",
    "            * (m.B[p] * m.EoS_p)\n",
    "            + b.A[p]\n",
    "            * (b.b[j] / b.bm[p] - b.delta[p, j])\n",
    "            * safe_log(\n",
    "                (2 * b.Z[p] + b.B[p] * (b.EoS_u + b.EoS_p))\n",
    "                / (2 * b.Z[p] + b.B[p] * (b.EoS_u - b.EoS_p)),\n",
    "                eps=1e-6,\n",
    "            )\n",
    "        ) / (b.B[p] * b.EoS_p) + log(b.mole_frac_phase_comp[p, j])\n",
    "m.ln_fug_coeff = Expression(m.Phase, m.Comp, rule = ln_fug_coeff_cubic)"
   ]
  },
  {
   "cell_type": "code",
   "execution_count": 7,
   "id": "6447b8fd-8752-45c5-bd56-a764ba84e2be",
   "metadata": {},
   "outputs": [],
   "source": [
    "# 相平衡约束\n",
    "def rule_VLE(m,c):\n",
    "    return m.ln_fug_coeff['Vap',c] == m.ln_fug_coeff['Liq',c]\n",
    "m.rule_equilibrium = Constraint(m.Comp, rule = rule_VLE)"
   ]
  },
  {
   "cell_type": "code",
   "execution_count": 8,
   "id": "89d3a4f2-e0f7-489c-9044-1f1ef2e3b0dc",
   "metadata": {},
   "outputs": [],
   "source": [
    "m.flow_mol.fix(100)\n",
    "m.mole_frac_comp[\"benzene\"].fix(0.5)\n",
    "m.mole_frac_comp[\"toluene\"].fix(0.5)\n",
    "m.T.fix(368)\n",
    "m.P.fix(1e5)"
   ]
  },
  {
   "cell_type": "code",
   "execution_count": 9,
   "id": "124a4e46-5df2-4c7b-a224-5d4e41bf9f6b",
   "metadata": {},
   "outputs": [
    {
     "data": {
      "text/plain": [
       "0"
      ]
     },
     "execution_count": 9,
     "metadata": {},
     "output_type": "execute_result"
    }
   ],
   "source": [
    "degrees_of_freedom(m)"
   ]
  },
  {
   "cell_type": "code",
   "execution_count": 10,
   "id": "5d4a82d7-f627-4c6a-afbb-af23bef741a8",
   "metadata": {},
   "outputs": [
    {
     "name": "stdout",
     "output_type": "stream",
     "text": [
      "Ipopt 3.13.2: tol=1e-06\n",
      "\n",
      "\n",
      "******************************************************************************\n",
      "This program contains Ipopt, a library for large-scale nonlinear optimization.\n",
      " Ipopt is released as open source code under the Eclipse Public License (EPL).\n",
      "         For more information visit http://projects.coin-or.org/Ipopt\n",
      "\n",
      "This version of Ipopt was compiled from source code available at\n",
      "    https://github.com/IDAES/Ipopt as part of the Institute for the Design of\n",
      "    Advanced Energy Systems Process Systems Engineering Framework (IDAES PSE\n",
      "    Framework) Copyright (c) 2018-2019. See https://github.com/IDAES/idaes-pse.\n",
      "\n",
      "This version of Ipopt was compiled using HSL, a collection of Fortran codes\n",
      "    for large-scale scientific computation.  All technical papers, sales and\n",
      "    publicity material resulting from use of the HSL codes within IPOPT must\n",
      "    contain the following acknowledgement:\n",
      "        HSL, a collection of Fortran codes for large-scale scientific\n",
      "        computation. See http://www.hsl.rl.ac.uk.\n",
      "******************************************************************************\n",
      "\n",
      "This is Ipopt version 3.13.2, running with linear solver mumps.\n",
      "NOTE: Other linear solvers might be more efficient (see Ipopt documentation).\n",
      "\n",
      "Number of nonzeros in equality constraint Jacobian...:       28\n",
      "Number of nonzeros in inequality constraint Jacobian.:        0\n",
      "Number of nonzeros in Lagrangian Hessian.............:       16\n",
      "\n",
      "Total number of variables............................:        8\n",
      "                     variables with only lower bounds:        6\n",
      "                variables with lower and upper bounds:        0\n",
      "                     variables with only upper bounds:        0\n",
      "Total number of equality constraints.................:        8\n",
      "Total number of inequality constraints...............:        0\n",
      "        inequality constraints with only lower bounds:        0\n",
      "   inequality constraints with lower and upper bounds:        0\n",
      "        inequality constraints with only upper bounds:        0\n",
      "\n",
      "iter    objective    inf_pr   inf_du lg(mu)  ||d||  lg(rg) alpha_du alpha_pr  ls\n",
      "   0  0.0000000e+00 9.90e+01 1.00e+00  -1.0 0.00e+00    -  0.00e+00 0.00e+00   0\n",
      "   1  0.0000000e+00 5.46e-01 1.12e+09  -1.0 4.95e+01    -  9.92e-03 1.00e+00f  1\n",
      "   2  0.0000000e+00 5.39e-01 1.10e+09  -1.0 1.17e+02    -  3.16e-01 1.33e-02h  6\n",
      "   3  0.0000000e+00 5.32e-01 1.09e+09  -1.0 1.11e+02    -  1.00e+00 1.35e-02h  6\n",
      "   4  0.0000000e+00 5.25e-01 1.07e+09  -1.0 1.05e+02    -  5.23e-01 1.38e-02h  6\n",
      "   5  0.0000000e+00 5.17e-01 1.06e+09  -1.0 9.99e+01    -  1.00e+00 1.41e-02h  6\n",
      "   6  0.0000000e+00 5.10e-01 1.04e+09  -1.0 9.46e+01    -  5.82e-01 1.44e-02h  6\n",
      "   7  0.0000000e+00 5.02e-01 1.03e+09  -1.0 8.95e+01    -  1.00e+00 1.48e-02h  6\n",
      "   8  0.0000000e+00 4.94e-01 1.01e+09  -1.0 8.45e+01    -  6.83e-01 1.52e-02h  6\n",
      "   9  0.0000000e+00 4.87e-01 9.95e+08  -1.0 7.97e+01    -  1.00e+00 1.56e-02h  6\n",
      "iter    objective    inf_pr   inf_du lg(mu)  ||d||  lg(rg) alpha_du alpha_pr  ls\n",
      "  10  0.0000000e+00 4.79e-01 9.79e+08  -1.0 7.51e+01    -  8.01e-01 1.60e-02h  6\n",
      "  11  0.0000000e+00 2.11e-01 8.58e+07  -1.0 7.06e+01    -  1.00e+00 1.00e+00H  1\n",
      "  12  0.0000000e+00 7.70e-03 3.73e+06  -1.0 4.47e+00    -  1.00e+00 1.00e+00h  1\n",
      "  13  0.0000000e+00 2.87e-06 4.92e+02  -1.0 6.03e-02    -  1.00e+00 1.00e+00h  1\n",
      "  14  0.0000000e+00 9.24e-14 3.65e-05  -1.0 2.04e-05    -  1.00e+00 1.00e+00h  1\n",
      "\n",
      "Number of Iterations....: 14\n",
      "\n",
      "                                   (scaled)                 (unscaled)\n",
      "Objective...............:   0.0000000000000000e+00    0.0000000000000000e+00\n",
      "Dual infeasibility......:   0.0000000000000000e+00    0.0000000000000000e+00\n",
      "Constraint violation....:   9.2370555648813024e-14    9.2370555648813024e-14\n",
      "Complementarity.........:   0.0000000000000000e+00    0.0000000000000000e+00\n",
      "Overall NLP error.......:   9.2370555648813024e-14    9.2370555648813024e-14\n",
      "\n",
      "\n",
      "Number of objective function evaluations             = 94\n",
      "Number of objective gradient evaluations             = 15\n",
      "Number of equality constraint evaluations            = 94\n",
      "Number of inequality constraint evaluations          = 0\n",
      "Number of equality constraint Jacobian evaluations   = 15\n",
      "Number of inequality constraint Jacobian evaluations = 0\n",
      "Number of Lagrangian Hessian evaluations             = 14\n",
      "Total CPU secs in IPOPT (w/o function evaluations)   =      0.003\n",
      "Total CPU secs in NLP function evaluations           =      0.001\n",
      "\n",
      "EXIT: Optimal Solution Found.\n"
     ]
    }
   ],
   "source": [
    "solver = SolverFactory('ipopt')\n",
    "solver.options['tol'] = 1e-6\n",
    "results = solver.solve(m,tee=True)"
   ]
  },
  {
   "cell_type": "code",
   "execution_count": 11,
   "id": "d4063b93-3d30-409b-8710-5eca1da2b555",
   "metadata": {},
   "outputs": [
    {
     "name": "stdout",
     "output_type": "stream",
     "text": [
      "0.003983679341526769\n",
      "0.003983679341526769\n",
      "0.9441927576897298\n",
      "0.9441927576897298\n"
     ]
    }
   ],
   "source": [
    "for p in m.Phase:\n",
    "    for c in m.Comp:\n",
    "        print(value(m.Z[p]))"
   ]
  },
  {
   "cell_type": "code",
   "execution_count": 12,
   "id": "a7857fb2-943e-4872-b6e1-ba544019c593",
   "metadata": {},
   "outputs": [
    {
     "name": "stdout",
     "output_type": "stream",
     "text": [
      "flow_mol_phase : Size=2, Index=Phase\n",
      "    Key : Lower : Value              : Upper : Fixed : Stale : Domain\n",
      "    Liq :     0 : 13.606764528661463 :  None : False : False : NonNegativeReals\n",
      "    Vap :     0 :  86.39323547133854 :  None : False : False : NonNegativeReals\n"
     ]
    }
   ],
   "source": [
    "m.flow_mol_phase.pprint()"
   ]
  },
  {
   "cell_type": "code",
   "execution_count": 13,
   "id": "89868256-35d2-49e8-a7ab-69420c766f05",
   "metadata": {},
   "outputs": [
    {
     "name": "stdout",
     "output_type": "stream",
     "text": [
      "mole_frac_phase_comp : Size=4, Index=mole_frac_phase_comp_index\n",
      "    Key                : Lower : Value              : Upper : Fixed : Stale : Domain\n",
      "    ('Liq', 'benzene') :     0 : 0.3323159828713967 :  None : False : False :  Reals\n",
      "    ('Liq', 'toluene') :     0 : 0.6676840171286033 :  None : False : False :  Reals\n",
      "    ('Vap', 'benzene') :     0 : 0.5264099026253737 :  None : False : False :  Reals\n",
      "    ('Vap', 'toluene') :     0 : 0.4735900973746263 :  None : False : False :  Reals\n"
     ]
    }
   ],
   "source": [
    "m.mole_frac_phase_comp.pprint()"
   ]
  },
  {
   "cell_type": "code",
   "execution_count": 14,
   "id": "323bc274-cc0f-4d7e-af20-77bdec568cda",
   "metadata": {},
   "outputs": [
    {
     "name": "stdout",
     "output_type": "stream",
     "text": [
      "mole_frac_comp : Size=2, Index=Comp\n",
      "    Key     : Lower : Value : Upper : Fixed : Stale : Domain\n",
      "    benzene :     0 :   0.5 :  None :  True :  True :  Reals\n",
      "    toluene :     0 :   0.5 :  None :  True :  True :  Reals\n"
     ]
    }
   ],
   "source": [
    "m.mole_frac_comp.pprint()"
   ]
  },
  {
   "cell_type": "code",
   "execution_count": null,
   "id": "250f9f4f-0597-4a68-be59-f0b26593d57b",
   "metadata": {},
   "outputs": [],
   "source": []
  }
 ],
 "metadata": {
  "kernelspec": {
   "display_name": "Python 3 (ipykernel)",
   "language": "python",
   "name": "python3"
  },
  "language_info": {
   "codemirror_mode": {
    "name": "ipython",
    "version": 3
   },
   "file_extension": ".py",
   "mimetype": "text/x-python",
   "name": "python",
   "nbconvert_exporter": "python",
   "pygments_lexer": "ipython3",
   "version": "3.9.18"
  }
 },
 "nbformat": 4,
 "nbformat_minor": 5
}
