{
 "cells": [
  {
   "cell_type": "code",
   "execution_count": 1,
   "id": "edb1e306-e5c2-4422-87f5-67107b2bd080",
   "metadata": {},
   "outputs": [],
   "source": [
    "import numpy as np\n",
    "import matplotlib.pyplot as plt\n",
    "import pandas as pd\n",
    "from pyomo.environ import *\n",
    "from pyomo.network import *\n",
    "from idaes.core.util.model_statistics import degrees_of_freedom\n",
    "from Method import *\n",
    "from Unit_Model import *"
   ]
  },
  {
   "cell_type": "code",
   "execution_count": 2,
   "id": "3e599eab-42e2-4121-a509-af3df3dd75d1",
   "metadata": {},
   "outputs": [],
   "source": [
    "# Create a concrete model\n",
    "m = ConcreteModel()\n",
    "\n",
    "# Define a set for components\n",
    "m.Phase = Set(initialize = ['Liq','Vap'])\n",
    "m.Comp = Set(initialize = ['benzene','toluene','methane','hydrogen'])\n",
    "\n",
    "# construct every unit operation\n",
    "m.R101 = R101_creater(m)\n",
    "m.H101 = H101_creater(m)\n",
    "m.F101 = F101_creater(m)\n",
    "m.F102 = F102_creater(m)\n",
    "m.M101 = M101_creater(m)\n",
    "m.S101 = S101_creater(m)"
   ]
  },
  {
   "cell_type": "markdown",
   "id": "1df20138-b292-4188-b39d-1989e27f6520",
   "metadata": {},
   "source": [
    "![](HDA_flowsheet.png) "
   ]
  },
  {
   "cell_type": "code",
   "execution_count": 3,
   "id": "e0c89b4d-b0f9-4d7b-ad04-14aa73e24c4b",
   "metadata": {},
   "outputs": [],
   "source": [
    "# Add the Arc to connect\n",
    "m.s4 = Arc(source=m.H101.Outlet, destination=m.R101.Inlet)\n",
    "m.s5 = Arc(source=m.R101.Outlet, destination=m.F101.Inlet)\n",
    "m.s9 = Arc(source=m.F101.Liq_Outlet, destination=m.F102.Inlet)\n",
    "m.s6 = Arc(source=m.F101.Vap_Outlet, destination=m.S101.Inlet)\n",
    "m.s7 = Arc(source=m.S101.Recycle, destination=m.M101.Recycle_Feed)\n",
    "m.s3 = Arc(source=m.M101.Outlet, destination=m.H101.Inlet)\n",
    "TransformationFactory(\"network.expand_arcs\").apply_to(m)"
   ]
  },
  {
   "cell_type": "code",
   "execution_count": 4,
   "id": "e1635e9e-e657-4373-8e92-bf5dec8eba2c",
   "metadata": {},
   "outputs": [],
   "source": [
    "# Setting for heater\n",
    "m.H101.outlet.P.fix(350000)\n",
    "m.H101.outlet.T.fix(600)\n",
    "\n",
    "# Setting for flash vessel\n",
    "m.F101.outlet.P.fix(350000)\n",
    "m.F101.outlet.T.fix(325)\n",
    "\n",
    "m.F102.outlet.P.fix(150000)\n",
    "m.F102.outlet.T.fix(375)\n",
    "\n",
    "# Setting for reactor heat duty\n",
    "m.R101.Q.fix(0)"
   ]
  },
  {
   "cell_type": "code",
   "execution_count": 5,
   "id": "f64981a1-5e2d-4be5-834d-2992e7b6003b",
   "metadata": {},
   "outputs": [],
   "source": [
    "# two inlet feeds set\n",
    "m.M101.inlet_feed['Toluene'].flow['Liq','benzene'].fix(1e-8)\n",
    "m.M101.inlet_feed['Toluene'].flow['Liq','toluene'].fix(0.30)\n",
    "m.M101.inlet_feed['Toluene'].flow['Liq','methane'].fix(1e-8)\n",
    "m.M101.inlet_feed['Toluene'].flow['Liq','hydrogen'].fix(1e-8)\n",
    "m.M101.inlet_feed['Toluene'].flow['Vap','benzene'].fix(1e-8)\n",
    "m.M101.inlet_feed['Toluene'].flow['Vap','toluene'].fix(1e-8)\n",
    "m.M101.inlet_feed['Toluene'].flow['Vap','methane'].fix(1e-8)\n",
    "m.M101.inlet_feed['Toluene'].flow['Vap','hydrogen'].fix(1e-8)\n",
    "m.M101.inlet_feed['Toluene'].T.fix(303.2)\n",
    "m.M101.inlet_feed['Toluene'].P.fix(350000)\n",
    "\n",
    "m.M101.inlet_feed['Hydrogen'].flow['Liq','benzene'].fix(1e-8)\n",
    "m.M101.inlet_feed['Hydrogen'].flow['Liq','toluene'].fix(1e-8)\n",
    "m.M101.inlet_feed['Hydrogen'].flow['Liq','methane'].fix(1e-8)\n",
    "m.M101.inlet_feed['Hydrogen'].flow['Liq','hydrogen'].fix(1e-8)\n",
    "m.M101.inlet_feed['Hydrogen'].flow['Vap','benzene'].fix(1e-8)\n",
    "m.M101.inlet_feed['Hydrogen'].flow['Vap','toluene'].fix(1e-8)\n",
    "m.M101.inlet_feed['Hydrogen'].flow['Vap','methane'].fix(0.02)\n",
    "m.M101.inlet_feed['Hydrogen'].flow['Vap','hydrogen'].fix(0.30)\n",
    "m.M101.inlet_feed['Hydrogen'].T.fix(303.2)\n",
    "m.M101.inlet_feed['Hydrogen'].P.fix(350000)"
   ]
  },
  {
   "cell_type": "code",
   "execution_count": 6,
   "id": "ffc51e0e-03d6-4cf5-8317-0d4098dfba79",
   "metadata": {},
   "outputs": [
    {
     "data": {
      "text/plain": [
       "0"
      ]
     },
     "execution_count": 6,
     "metadata": {},
     "output_type": "execute_result"
    }
   ],
   "source": [
    "# Check the DOF of the whole model\n",
    "degrees_of_freedom(m)"
   ]
  },
  {
   "cell_type": "code",
   "execution_count": 7,
   "id": "d44ad967-77e7-4fdd-bca3-132bf0b6e923",
   "metadata": {},
   "outputs": [],
   "source": [
    "# set cooling cost for F101 & R101\n",
    "m.cooling_cost = Expression(\n",
    "    expr=0.212e-7 * (-m.F101.Q) + 0.212e-7 * (-m.R101.Q)\n",
    ")"
   ]
  },
  {
   "cell_type": "code",
   "execution_count": 8,
   "id": "4387c678-3384-4294-8011-2f5189e588a2",
   "metadata": {},
   "outputs": [],
   "source": [
    "# set heating cost for H101 & F102\n",
    "m.heating_cost = Expression(\n",
    "    expr=2.2e-7 * m.H101.Q + 1.9e-7 * m.F102.Q\n",
    ")"
   ]
  },
  {
   "cell_type": "code",
   "execution_count": 9,
   "id": "3d7078ee-0e63-4891-a70d-0fef0f18eb39",
   "metadata": {},
   "outputs": [],
   "source": [
    "m.operating_cost = Expression(\n",
    "    expr=(3600 * 8000 * (m.heating_cost + m.cooling_cost))\n",
    ")"
   ]
  },
  {
   "cell_type": "code",
   "execution_count": 10,
   "id": "1ec602cf-921b-4031-8c59-c19d46469bee",
   "metadata": {},
   "outputs": [],
   "source": [
    "# Initialization with Sequential Decomposition method\n",
    "seq = SequentialDecomposition()\n",
    "seq.options.select_tear_method = \"heuristic\" \n",
    "seq.options.tear_method = \"Wegstein\"\n",
    "seq.options.iterLim = 10\n",
    "\n",
    "# which stream to tear / what's the calculation order\n",
    "G = seq.create_graph(m)\n",
    "heuristic_tear_set = seq.tear_set_arcs(G, method=\"heuristic\")\n",
    "order = seq.calculation_order(G)"
   ]
  },
  {
   "cell_type": "code",
   "execution_count": 11,
   "id": "cd5acc4e-0e24-4452-8cab-3401a519ac81",
   "metadata": {},
   "outputs": [
    {
     "name": "stdout",
     "output_type": "stream",
     "text": [
      "Tear Stream: s4\n"
     ]
    }
   ],
   "source": [
    "for o in heuristic_tear_set:\n",
    "    print(\"Tear Stream:\",o.name)"
   ]
  },
  {
   "cell_type": "code",
   "execution_count": 12,
   "id": "a6ac0896-a34d-46ec-8343-30df309e79f6",
   "metadata": {},
   "outputs": [
    {
     "name": "stdout",
     "output_type": "stream",
     "text": [
      "Calculation Order: ['R101', 'F101', 'F102', 'M101', 'H101']\n"
     ]
    }
   ],
   "source": [
    "cal_order = []\n",
    "for o in order:\n",
    "    cal_order.append(o[0].name)\n",
    "print(\"Calculation Order:\",cal_order)"
   ]
  },
  {
   "cell_type": "code",
   "execution_count": 13,
   "id": "15277253-7a30-404a-99ec-6c1735439650",
   "metadata": {},
   "outputs": [],
   "source": [
    "# Initialization function for each unit\n",
    "def function(unit):\n",
    "    if 'R' in unit.name:\n",
    "        Initialize(unit,Arc=m.s4)\n",
    "    elif 'F101' in unit.name:\n",
    "        Initialize(unit,Arc=m.s5)\n",
    "    elif 'F102' in unit.name:\n",
    "        Initialize(unit,Arc=m.s9)\n",
    "    elif 'S' in unit.name:\n",
    "        Initialize(unit,Arc=m.s6)\n",
    "    elif 'M' in unit.name:\n",
    "        Initialize(unit,Arc=m.s7)\n",
    "    elif 'H' in unit.name:\n",
    "        Initialize(unit,Arc=m.s3)"
   ]
  },
  {
   "cell_type": "code",
   "execution_count": 14,
   "id": "508ba2f7-5c23-4d85-856b-3173ba8bfb8d",
   "metadata": {},
   "outputs": [],
   "source": [
    "# guess for tear stream (s1: H101 -> R101)\n",
    "tear_guesses = {\n",
    "    'flow': {\n",
    "        (\"Vap\", \"benzene\"): 1e-5,\n",
    "        (\"Vap\", \"toluene\"): 0.3,\n",
    "        (\"Vap\", \"hydrogen\"): 0.30,\n",
    "        (\"Vap\", \"methane\"): 0.02,\n",
    "        (\"Liq\", \"benzene\"): 1e-5,\n",
    "        (\"Liq\", \"toluene\"): 1e-5,\n",
    "        (\"Liq\", \"hydrogen\"): 1e-5,\n",
    "        (\"Liq\", \"methane\"): 1e-5,\n",
    "    },\n",
    "    'T': 600,\n",
    "    'P': 350000,\n",
    "}\n",
    "\n",
    "# Pass the tear_guess to the SD tool\n",
    "seq.set_guesses_for(m.R101.Inlet, tear_guesses)"
   ]
  },
  {
   "cell_type": "code",
   "execution_count": 15,
   "id": "dd66b6e3-24dc-4e6d-b12b-ca0481315836",
   "metadata": {
    "scrolled": true
   },
   "outputs": [
    {
     "name": "stdout",
     "output_type": "stream",
     "text": [
      "Initialization complete for 'R101'! \n",
      "Initialization complete for 'F101'! \n",
      "WARNING: Loading a SolverResults object with a warning status into\n",
      "model.name=\"F102\";\n",
      "    - termination condition: infeasible\n",
      "    - message from solver: Ipopt 3.13.2\\x3a Converged to a locally infeasible\n",
      "      point. Problem may be infeasible.\n",
      "Initialization complete for 'F102'! \n",
      "Initialization complete for 'S101'! \n",
      "Initialization complete for 'M101'! \n",
      "Initialization complete for 'H101'! \n",
      "Initialization complete for 'R101'! \n",
      "Initialization complete for 'F101'! \n",
      "Initialization complete for 'S101'! \n",
      "Initialization complete for 'M101'! \n",
      "Initialization complete for 'H101'! \n",
      "Initialization complete for 'R101'! \n",
      "Initialization complete for 'F101'! \n",
      "Initialization complete for 'S101'! \n",
      "Initialization complete for 'M101'! \n",
      "Initialization complete for 'H101'! \n",
      "Initialization complete for 'R101'! \n",
      "Initialization complete for 'F101'! \n",
      "Initialization complete for 'S101'! \n",
      "Initialization complete for 'M101'! \n",
      "Initialization complete for 'H101'! \n",
      "Initialization complete for 'R101'! \n",
      "Initialization complete for 'F101'! \n",
      "Initialization complete for 'S101'! \n",
      "Initialization complete for 'M101'! \n",
      "Initialization complete for 'H101'! \n",
      "Initialization complete for 'R101'! \n",
      "Initialization complete for 'F101'! \n",
      "Initialization complete for 'S101'! \n",
      "Initialization complete for 'M101'! \n",
      "Initialization complete for 'H101'! \n",
      "Initialization complete for 'R101'! \n",
      "Initialization complete for 'F101'! \n",
      "Initialization complete for 'S101'! \n",
      "Initialization complete for 'M101'! \n",
      "Initialization complete for 'H101'! \n",
      "Initialization complete for 'R101'! \n",
      "Initialization complete for 'F101'! \n",
      "Initialization complete for 'S101'! \n",
      "Initialization complete for 'M101'! \n",
      "Initialization complete for 'H101'! \n",
      "Initialization complete for 'F102'! \n"
     ]
    }
   ],
   "source": [
    "seq.run(m,function)"
   ]
  },
  {
   "cell_type": "code",
   "execution_count": 16,
   "id": "adecef65-4325-4a9b-9d49-56495bb85c7d",
   "metadata": {},
   "outputs": [
    {
     "data": {
      "text/plain": [
       "0"
      ]
     },
     "execution_count": 16,
     "metadata": {},
     "output_type": "execute_result"
    }
   ],
   "source": [
    "degrees_of_freedom(m)"
   ]
  },
  {
   "cell_type": "code",
   "execution_count": 17,
   "id": "0a2a8f00-b529-4a8f-a249-0fb62bd44b98",
   "metadata": {},
   "outputs": [],
   "source": [
    "# 模型求解\n",
    "solver = SolverFactory('ipopt')\n",
    "solver.options['tol'] = 1e-4\n",
    "results = solver.solve(m)\n",
    "#results = solver.solve(m)"
   ]
  },
  {
   "cell_type": "code",
   "execution_count": 18,
   "id": "855aa82f-02fb-4d26-a4fc-97617cfb02da",
   "metadata": {},
   "outputs": [
    {
     "name": "stdout",
     "output_type": "stream",
     "text": [
      "operating cost = $ 384318.87799340446\n",
      "\n",
      "Product flow rate and purity in F102\n",
      "\t [ Liq , benzene ]:  0.05193292452806948\n",
      "\t [ Liq , toluene ]:  0.028248209882799004\n",
      "\t [ Liq , methane ]:  1.59529904482609e-06\n",
      "\t [ Liq , hydrogen ]:  3.328792920914294e-08\n",
      "\t [ Vap , benzene ]:  0.1528760358941503\n",
      "\t [ Vap , toluene ]:  0.0344093189602969\n",
      "\t [ Vap , methane ]:  0.001607822015417737\n",
      "\t [ Vap , hydrogen ]:  0.00010042591065256723\n",
      "\n"
     ]
    },
    {
     "ename": "AttributeError",
     "evalue": "'ConcreteModel' object has no attribute 'purity'",
     "output_type": "error",
     "traceback": [
      "\u001b[0;31m---------------------------------------------------------------------------\u001b[0m",
      "\u001b[0;31mAttributeError\u001b[0m                            Traceback (most recent call last)",
      "Cell \u001b[0;32mIn[18], line 10\u001b[0m\n\u001b[1;32m      7\u001b[0m         \u001b[38;5;28mprint\u001b[39m(\u001b[38;5;124m'\u001b[39m\u001b[38;5;130;01m\\t\u001b[39;00m\u001b[38;5;124m [\u001b[39m\u001b[38;5;124m'\u001b[39m,p,\u001b[38;5;124m'\u001b[39m\u001b[38;5;124m,\u001b[39m\u001b[38;5;124m'\u001b[39m,c,\u001b[38;5;124m'\u001b[39m\u001b[38;5;124m]: \u001b[39m\u001b[38;5;124m'\u001b[39m,value(m\u001b[38;5;241m.\u001b[39mF102\u001b[38;5;241m.\u001b[39moutlet\u001b[38;5;241m.\u001b[39mflow[p,c]))\n\u001b[1;32m      9\u001b[0m \u001b[38;5;28mprint\u001b[39m()\n\u001b[0;32m---> 10\u001b[0m \u001b[38;5;28mprint\u001b[39m(\u001b[38;5;124m\"\u001b[39m\u001b[38;5;124mbenzene purity = \u001b[39m\u001b[38;5;124m\"\u001b[39m, value(\u001b[43mm\u001b[49m\u001b[38;5;241;43m.\u001b[39;49m\u001b[43mpurity\u001b[49m))\n\u001b[1;32m     12\u001b[0m \u001b[38;5;28mprint\u001b[39m()\n\u001b[1;32m     13\u001b[0m \u001b[38;5;28mprint\u001b[39m(\u001b[38;5;124m\"\u001b[39m\u001b[38;5;124mOverhead loss in F101\u001b[39m\u001b[38;5;124m\"\u001b[39m, )\n",
      "File \u001b[0;32m~/anaconda3/envs/idaes-pse/lib/python3.9/site-packages/pyomo/core/base/block.py:559\u001b[0m, in \u001b[0;36m_BlockData.__getattr__\u001b[0;34m(self, val)\u001b[0m\n\u001b[1;32m    556\u001b[0m     \u001b[38;5;28;01mreturn\u001b[39;00m _component_decorator(\u001b[38;5;28mself\u001b[39m, ModelComponentFactory\u001b[38;5;241m.\u001b[39mget_class(val))\n\u001b[1;32m    557\u001b[0m \u001b[38;5;66;03m# Since the base classes don't support getattr, we can just\u001b[39;00m\n\u001b[1;32m    558\u001b[0m \u001b[38;5;66;03m# throw the \"normal\" AttributeError\u001b[39;00m\n\u001b[0;32m--> 559\u001b[0m \u001b[38;5;28;01mraise\u001b[39;00m \u001b[38;5;167;01mAttributeError\u001b[39;00m(\n\u001b[1;32m    560\u001b[0m     \u001b[38;5;124m\"\u001b[39m\u001b[38;5;124m'\u001b[39m\u001b[38;5;132;01m%s\u001b[39;00m\u001b[38;5;124m'\u001b[39m\u001b[38;5;124m object has no attribute \u001b[39m\u001b[38;5;124m'\u001b[39m\u001b[38;5;132;01m%s\u001b[39;00m\u001b[38;5;124m'\u001b[39m\u001b[38;5;124m\"\u001b[39m \u001b[38;5;241m%\u001b[39m (\u001b[38;5;28mself\u001b[39m\u001b[38;5;241m.\u001b[39m\u001b[38;5;18m__class__\u001b[39m\u001b[38;5;241m.\u001b[39m\u001b[38;5;18m__name__\u001b[39m, val)\n\u001b[1;32m    561\u001b[0m )\n",
      "\u001b[0;31mAttributeError\u001b[0m: 'ConcreteModel' object has no attribute 'purity'"
     ]
    }
   ],
   "source": [
    "print(\"operating cost = $\", value(m.operating_cost))\n",
    "\n",
    "print()\n",
    "print(\"Product flow rate and purity in F102\")\n",
    "for p in m.Phase:\n",
    "    for c in m.Comp:\n",
    "        print('\\t [',p,',',c,']: ',value(m.F102.outlet.flow[p,c]))\n",
    "\n",
    "print()\n",
    "print(\"benzene purity = \", value(m.purity))\n",
    "\n",
    "print()\n",
    "print(\"Overhead loss in F101\", )\n",
    "for p in m.Phase:\n",
    "    for c in m.Comp:\n",
    "        print('\\t [',p,',',c,']: ',value(m.F101.outlet.flow[p,c]))"
   ]
  },
  {
   "cell_type": "code",
   "execution_count": 19,
   "id": "ed7324e4-9d41-447b-b73d-7bd71f83d732",
   "metadata": {},
   "outputs": [
    {
     "name": "stdout",
     "output_type": "stream",
     "text": [
      "operating cost = $ 384318.87799340446\n"
     ]
    }
   ],
   "source": [
    "print(\"operating cost = $\", value(m.operating_cost))"
   ]
  },
  {
   "cell_type": "code",
   "execution_count": 20,
   "id": "26f02ab3-2a26-48f1-982c-cdc12ef31e7e",
   "metadata": {},
   "outputs": [],
   "source": [
    "m.objective = Objective(expr=m.operating_cost)"
   ]
  },
  {
   "cell_type": "code",
   "execution_count": 21,
   "id": "6c69b379-2122-4b7d-add1-29991877310b",
   "metadata": {},
   "outputs": [],
   "source": [
    "m.H101.Outlet.T.unfix()\n",
    "m.R101.Q.unfix()\n",
    "m.F101.Vap_Outlet.T.unfix()\n",
    "m.F102.Vap_Outlet.T.unfix()"
   ]
  },
  {
   "cell_type": "code",
   "execution_count": 22,
   "id": "e8cf3b6c-6b3c-48c4-9631-3f4f6aa8b9cc",
   "metadata": {},
   "outputs": [],
   "source": [
    "m.F102.Vap_Outlet.P.unfix()"
   ]
  },
  {
   "cell_type": "code",
   "execution_count": 23,
   "id": "51033517-1130-48da-921e-9542b7246067",
   "metadata": {},
   "outputs": [],
   "source": [
    "m.H101.Outlet.T.setlb(500)\n",
    "m.H101.Outlet.T.setub(600)\n",
    "\n",
    "m.R101.Outlet.T.setlb(600)\n",
    "m.R101.Outlet.T.setub(800)\n",
    "\n",
    "m.F101.Vap_Outlet.T.setlb(298.0)\n",
    "m.F101.Vap_Outlet.T.setub(450.0)\n",
    "m.F102.Vap_Outlet.T.setlb(298.0)\n",
    "m.F102.Vap_Outlet.T.setub(450.0)\n",
    "m.F102.Vap_Outlet.P.setlb(115000)\n",
    "m.F102.Vap_Outlet.P.setub(165000)"
   ]
  },
  {
   "cell_type": "code",
   "execution_count": 24,
   "id": "e08176f9-3978-4864-ba66-901e9706d359",
   "metadata": {},
   "outputs": [],
   "source": [
    "m.overhead_loss = Constraint(\n",
    "    expr=m.S101.Purge.flow['Vap','benzene']/m.R101.Outlet.flow['Vap','benzene']<=0.05\n",
    ")"
   ]
  },
  {
   "cell_type": "code",
   "execution_count": 32,
   "id": "9dac63c6-6ae7-42fd-ac54-53bdf139d04a",
   "metadata": {},
   "outputs": [
    {
     "data": {
      "text/plain": [
       "0.05000000991257592"
      ]
     },
     "execution_count": 32,
     "metadata": {},
     "output_type": "execute_result"
    }
   ],
   "source": [
    "value(m.S101.Purge.flow['Vap','benzene']/m.R101.Outlet.flow['Vap','benzene'])"
   ]
  },
  {
   "cell_type": "code",
   "execution_count": 25,
   "id": "e9c0d9e0-4c0b-42a8-a57d-3aa500685697",
   "metadata": {},
   "outputs": [],
   "source": [
    "m.product_flow = Constraint(\n",
    "    expr=m.F102.Vap_Outlet.flow[\"Vap\", \"benzene\"] >= 0.15\n",
    ")"
   ]
  },
  {
   "cell_type": "code",
   "execution_count": 26,
   "id": "46c39163-e45a-49e9-9176-93bf160a0cc5",
   "metadata": {},
   "outputs": [],
   "source": [
    "m.purity = m.F102.outlet.flow['Vap','benzene']/sum(m.F102.outlet.flow['Vap',c] for c in m.Comp)\n",
    "m.product_purity = Constraint(expr=m.purity >= 0.80)"
   ]
  },
  {
   "cell_type": "code",
   "execution_count": 27,
   "id": "53a19b10-d27a-49cc-a723-61b23f29866e",
   "metadata": {},
   "outputs": [
    {
     "name": "stdout",
     "output_type": "stream",
     "text": [
      "Ipopt 3.13.2: tol=0.0001\n",
      "\n",
      "\n",
      "******************************************************************************\n",
      "This program contains Ipopt, a library for large-scale nonlinear optimization.\n",
      " Ipopt is released as open source code under the Eclipse Public License (EPL).\n",
      "         For more information visit http://projects.coin-or.org/Ipopt\n",
      "\n",
      "This version of Ipopt was compiled from source code available at\n",
      "    https://github.com/IDAES/Ipopt as part of the Institute for the Design of\n",
      "    Advanced Energy Systems Process Systems Engineering Framework (IDAES PSE\n",
      "    Framework) Copyright (c) 2018-2019. See https://github.com/IDAES/idaes-pse.\n",
      "\n",
      "This version of Ipopt was compiled using HSL, a collection of Fortran codes\n",
      "    for large-scale scientific computation.  All technical papers, sales and\n",
      "    publicity material resulting from use of the HSL codes within IPOPT must\n",
      "    contain the following acknowledgement:\n",
      "        HSL, a collection of Fortran codes for large-scale scientific\n",
      "        computation. See http://www.hsl.rl.ac.uk.\n",
      "******************************************************************************\n",
      "\n",
      "This is Ipopt version 3.13.2, running with linear solver mumps.\n",
      "NOTE: Other linear solvers might be more efficient (see Ipopt documentation).\n",
      "\n",
      "Number of nonzeros in equality constraint Jacobian...:      880\n",
      "Number of nonzeros in inequality constraint Jacobian.:        7\n",
      "Number of nonzeros in Lagrangian Hessian.............:      991\n",
      "\n",
      "Total number of variables............................:      317\n",
      "                     variables with only lower bounds:        0\n",
      "                variables with lower and upper bounds:      143\n",
      "                     variables with only upper bounds:        0\n",
      "Total number of equality constraints.................:      312\n",
      "Total number of inequality constraints...............:        3\n",
      "        inequality constraints with only lower bounds:        2\n",
      "   inequality constraints with lower and upper bounds:        0\n",
      "        inequality constraints with only upper bounds:        1\n",
      "\n",
      "iter    objective    inf_pr   inf_du lg(mu)  ||d||  lg(rg) alpha_du alpha_pr  ls\n",
      "   0  3.8431888e+05 1.92e+07 6.34e+00  -1.0 0.00e+00    -  0.00e+00 0.00e+00   0\n",
      "   1  3.8034657e+05 1.91e+07 1.64e+03  -1.0 4.78e+06    -  9.30e-04 1.38e-03f  1\n",
      "   2  3.7474992e+05 1.91e+07 1.64e+03  -1.0 1.65e+07    -  4.40e-05 9.33e-05f  1\n",
      "   3  3.7357317e+05 1.91e+07 1.64e+03  -1.0 1.93e+07    -  1.17e-04 1.68e-05f  1\n",
      "   4  2.7701893e+05 1.91e+07 2.18e+03  -1.0 1.80e+07    -  9.70e-03 1.47e-03f  1\n",
      "   5  2.7623306e+05 1.89e+07 2.25e+05  -1.0 2.24e+05    -  8.71e-01 8.69e-03f  1\n",
      "   6  2.7825897e+05 1.45e+07 1.85e+05  -1.0 4.33e+05    -  9.15e-01 2.17e-01h  1\n",
      "   7  2.7827920e+05 1.44e+07 1.80e+05  -1.0 7.61e+05    -  7.62e-01 2.97e-03h  1\n",
      "   8  2.7898530e+05 1.13e+07 1.41e+05  -1.0 7.01e+06    -  1.97e-01 2.18e-01h  1\n",
      "   9  2.7941742e+05 7.89e+06 9.83e+04  -1.0 9.26e+06    -  2.93e-01 3.02e-01h  1\n",
      "iter    objective    inf_pr   inf_du lg(mu)  ||d||  lg(rg) alpha_du alpha_pr  ls\n",
      "  10  2.7941906e+05 7.87e+06 1.05e+05  -1.0 8.57e+06    -  9.89e-01 3.69e-03h  1\n",
      "  11  2.8328905e+05 1.37e+06 9.64e+03  -1.0 3.58e+06    -  9.71e-01 9.08e-01h  1\n",
      "  12  2.8410133e+05 5.61e+04 2.24e+02  -1.0 5.46e+05    -  9.89e-01 9.81e-01h  1\n",
      "  13  2.8411659e+05 4.26e+02 1.80e+02  -1.0 1.20e+04    -  9.96e-01 9.92e-01h  1\n",
      "  14  2.8411638e+05 1.41e-04 3.10e-01  -1.7 1.64e+02    -  1.00e+00 1.00e+00h  1\n",
      "  15  2.8411630e+05 1.72e-06 1.80e-01  -5.0 4.49e+01    -  1.00e+00 1.00e+00f  1\n",
      "  16  2.8411630e+05 1.01e-04 1.19e-10  -5.0 1.85e-01    -  1.00e+00 1.00e+00h  1\n",
      "  17  2.8411630e+05 2.24e-08 1.36e-10  -5.0 1.80e-07    -  1.00e+00 1.00e+00h  1\n",
      "\n",
      "Number of Iterations....: 17\n",
      "\n",
      "                                   (scaled)                 (unscaled)\n",
      "Objective...............:   2.8411630351219635e+05    2.8411630351219635e+05\n",
      "Dual infeasibility......:   1.3622301660037369e-10    1.3622301660037369e-10\n",
      "Constraint violation....:   1.1111348879793229e-11    2.2351741790771484e-08\n",
      "Complementarity.........:   9.0909094259603103e-06    9.0909094259603103e-06\n",
      "Overall NLP error.......:   7.1618835903541671e-07    9.0909094259603103e-06\n",
      "\n",
      "\n",
      "Number of objective function evaluations             = 18\n",
      "Number of objective gradient evaluations             = 18\n",
      "Number of equality constraint evaluations            = 18\n",
      "Number of inequality constraint evaluations          = 18\n",
      "Number of equality constraint Jacobian evaluations   = 18\n",
      "Number of inequality constraint Jacobian evaluations = 18\n",
      "Number of Lagrangian Hessian evaluations             = 17\n",
      "Total CPU secs in IPOPT (w/o function evaluations)   =      0.011\n",
      "Total CPU secs in NLP function evaluations           =      0.002\n",
      "\n",
      "EXIT: Optimal Solution Found.\n"
     ]
    }
   ],
   "source": [
    "results = solver.solve(m, tee=True)"
   ]
  },
  {
   "cell_type": "code",
   "execution_count": 28,
   "id": "11a4486e-aff2-4730-92d7-82c0bb3ca763",
   "metadata": {},
   "outputs": [
    {
     "name": "stdout",
     "output_type": "stream",
     "text": [
      "operating cost = $ 284116.3035121963\n",
      "\n",
      "Product flow rate and purity in F102\n",
      "\t [ Liq , benzene ]:  0.06503357074199978\n",
      "\t [ Liq , toluene ]:  0.035921963573496994\n",
      "\t [ Liq , methane ]:  2.185530006892592e-06\n",
      "\t [ Liq , hydrogen ]:  4.143060353953594e-08\n",
      "\t [ Vap , benzene ]:  0.14999999003701064\n",
      "\t [ Vap , toluene ]:  0.03325268265493508\n",
      "\t [ Vap , methane ]:  0.002087410346900943\n",
      "\t [ Vap , hydrogen ]:  0.0001251648068191856\n",
      "\n",
      "benzene purity =  0.8087768020121621\n",
      "\n",
      "Overhead loss in F101\n",
      "\t [ Liq , benzene ]:  0.21503355077901043\n",
      "\t [ Liq , toluene ]:  0.06917463622843208\n",
      "\t [ Liq , methane ]:  0.002089585876907835\n",
      "\t [ Liq , hydrogen ]:  0.00012519623742272511\n",
      "\t [ Vap , benzene ]:  0.07167786587332738\n",
      "\t [ Vap , toluene ]:  0.007281729089459883\n",
      "\t [ Vap , methane ]:  1.236397640383841\n",
      "\t [ Vap , hydrogen ]:  0.352528929044507\n"
     ]
    }
   ],
   "source": [
    "print(\"operating cost = $\", value(m.operating_cost))\n",
    "\n",
    "print()\n",
    "print(\"Product flow rate and purity in F102\")\n",
    "for p in m.Phase:\n",
    "    for c in m.Comp:\n",
    "        print('\\t [',p,',',c,']: ',value(m.F102.outlet.flow[p,c]))\n",
    "\n",
    "print()\n",
    "print(\"benzene purity = \", value(m.purity))\n",
    "\n",
    "print()\n",
    "print(\"Overhead loss in F101\", )\n",
    "for p in m.Phase:\n",
    "    for c in m.Comp:\n",
    "        print('\\t [',p,',',c,']: ',value(m.F101.outlet.flow[p,c]))"
   ]
  },
  {
   "cell_type": "code",
   "execution_count": 29,
   "id": "54f51a08-e0f1-4e49-9aee-c6084f59b598",
   "metadata": {},
   "outputs": [
    {
     "name": "stdout",
     "output_type": "stream",
     "text": [
      "Optimal Values\n",
      "\n",
      "H101 outlet temperature =  500.0 K\n",
      "\n",
      "R101 outlet temperature =  697.486695484181 K\n",
      "\n",
      "F101 outlet temperature =  308.3442636224523 K\n",
      "\n",
      "F102 outlet temperature =  365.5876719613391 K\n",
      "F102 outlet pressure =  115000.0 Pa\n"
     ]
    }
   ],
   "source": [
    "print(\"Optimal Values\")\n",
    "print()\n",
    "\n",
    "print(\"H101 outlet temperature = \", value(m.H101.Outlet.T), \"K\")\n",
    "\n",
    "print()\n",
    "print(\"R101 outlet temperature = \", value(m.R101.Outlet.T), \"K\")\n",
    "\n",
    "print()\n",
    "print(\"F101 outlet temperature = \", value(m.F101.Vap_Outlet.T), \"K\")\n",
    "\n",
    "print()\n",
    "print(\"F102 outlet temperature = \", value(m.F102.Vap_Outlet.T), \"K\")\n",
    "print(\"F102 outlet pressure = \", value(m.F102.Vap_Outlet.P), \"Pa\")"
   ]
  },
  {
   "cell_type": "code",
   "execution_count": 30,
   "id": "f8321755-0780-465f-8be7-709dc9ff7176",
   "metadata": {},
   "outputs": [
    {
     "name": "stdout",
     "output_type": "stream",
     "text": [
      "Costs in $1000:\n"
     ]
    },
    {
     "data": {
      "image/png": "[encoded data removed]",
      "text/plain": [
       "<Figure size 640x480 with 1 Axes>"
      ]
     },
     "metadata": {},
     "output_type": "display_data"
    }
   ],
   "source": [
    "# Compare operating costs (per year)\n",
    "\n",
    "operation_cost = {\n",
    "    \"cooling\": value(3600 * 8000 * m.cooling_cost / 1e3),\n",
    "    \"heating\": value(3600 * 8000 * m.heating_cost / 1e3),\n",
    "}\n",
    "\n",
    "\n",
    "hda_opdf = pd.DataFrame(\n",
    "    list(operation_cost.items()), columns=[\"Utilities\", \"Two Flash\"]\n",
    ").set_index(\"Utilities\")\n",
    "\n",
    "opcosts = hda_opdf.transpose()\n",
    "\n",
    "print(\"Costs in $1000:\")\n",
    "#display(opcosts)  # view dataframe before plotting\n",
    "\n",
    "opplot = opcosts.plot(\n",
    "    kind=\"bar\", stacked=True, title=\"HDA Operating Costs\", ylabel=\"$1000/year\"\n",
    ")"
   ]
  },
  {
   "cell_type": "code",
   "execution_count": 55,
   "id": "6492a45d-844f-4d5e-9fc5-4408c0c453be",
   "metadata": {},
   "outputs": [
    {
     "name": "stdout",
     "output_type": "stream",
     "text": [
      "Help on function display in module pyomo.core.base.misc:\n",
      "\n",
      "display(obj, ostream=None)\n",
      "    Display data in a Pyomo object\n",
      "\n"
     ]
    }
   ],
   "source": [
    "help(display)"
   ]
  },
  {
   "cell_type": "code",
   "execution_count": 31,
   "id": "4462ccfe-1441-4f0a-b3c0-87a5effe30e0",
   "metadata": {},
   "outputs": [
    {
     "data": {
      "image/png": "[encoded data removed]",
      "text/plain": [
       "<Figure size 640x480 with 1 Axes>"
      ]
     },
     "metadata": {},
     "output_type": "display_data"
    }
   ],
   "source": [
    "# 数据(优化前)\n",
    "heat_duty = [abs(0.212e-7 * (-value(m.F101.Q))), abs(1.9e-7 * value(m.F102.Q)), \n",
    "             abs(2.2e-7 * value(m.H101.Q)), abs(0.212e-7 * (-value(m.R101.Q)))]\n",
    "labels = [m.F101.name, m.F102.name, m.H101.name, m.R101.name]\n",
    "\n",
    "# 饼状图\n",
    "plt.pie(heat_duty, labels=labels, autopct='%1.2f%%')\n",
    "plt.axis('equal')  # 保持长宽比相等\n",
    "plt.show()"
   ]
  },
  {
   "cell_type": "code",
   "execution_count": 32,
   "id": "e791107f-7d52-4974-9169-536886bbcec8",
   "metadata": {},
   "outputs": [
    {
     "data": {
      "image/png": "[encoded data removed]",
      "text/plain": [
       "<Figure size 640x480 with 1 Axes>"
      ]
     },
     "metadata": {},
     "output_type": "display_data"
    }
   ],
   "source": [
    "# 数据\n",
    "heat_duty = [abs(0.212e-7 * (-value(m.F101.Q))), abs(1.9e-7 * value(m.F102.Q)), \n",
    "             abs(2.2e-7 * value(m.H101.Q)), abs(0.212e-7 * (-value(m.R101.Q)))]\n",
    "labels = [m.F101.name, m.F102.name, m.H101.name, m.R101.name]\n",
    "\n",
    "# 饼状图\n",
    "plt.pie(heat_duty, labels=labels, autopct='%1.2f%%')\n",
    "plt.axis('equal')  # 保持长宽比相等\n",
    "plt.show()"
   ]
  },
  {
   "cell_type": "code",
   "execution_count": 9,
   "id": "527f0376-e526-4bc2-a990-59c45f45a063",
   "metadata": {},
   "outputs": [
    {
     "name": "stdout",
     "output_type": "stream",
     "text": [
      "原始DataFrame：\n",
      "   A  B  C\n",
      "0  1  4  7\n",
      "1  2  5  8\n",
      "2  3  6  9\n"
     ]
    }
   ],
   "source": [
    "# 创建一个示例DataFrame\n",
    "data = {\n",
    "    'A': [1, 2, 3],\n",
    "    'B': [4, 5, 6],\n",
    "    'C': [7, 8, 9]\n",
    "}\n",
    "df = pd.DataFrame(data)\n",
    "\n",
    "print('原始DataFrame：')\n",
    "print(df)\n",
    "\n",
    "# 创建一个空的数据行\n",
    "empty_row = pd.DataFrame([[None, None, None]], columns=['A', 'B', 'C'])\n",
    "\n",
    "# 计算空行插入位置\n",
    "middle_index = int(len(df) / 2)\n",
    "\n",
    "# 使用concat方法将空行插入到DataFrame中间位置\n",
    "df = pd.concat([df.iloc[:middle_index], empty_row, df.iloc[middle_index:]], ignore_index=True)"
   ]
  },
  {
   "cell_type": "code",
   "execution_count": 10,
   "id": "b3d67636-6396-4761-81bd-73ae44fbc9a8",
   "metadata": {},
   "outputs": [
    {
     "data": {
      "text/html": [
       "<div>\n",
       "<style scoped>\n",
       "    .dataframe tbody tr th:only-of-type {\n",
       "        vertical-align: middle;\n",
       "    }\n",
       "\n",
       "    .dataframe tbody tr th {\n",
       "        vertical-align: top;\n",
       "    }\n",
       "\n",
       "    .dataframe thead th {\n",
       "        text-align: right;\n",
       "    }\n",
       "</style>\n",
       "<table border=\"1\" class=\"dataframe\">\n",
       "  <thead>\n",
       "    <tr style=\"text-align: right;\">\n",
       "      <th></th>\n",
       "      <th>A</th>\n",
       "      <th>B</th>\n",
       "      <th>C</th>\n",
       "    </tr>\n",
       "  </thead>\n",
       "  <tbody>\n",
       "    <tr>\n",
       "      <th>0</th>\n",
       "      <td>1</td>\n",
       "      <td>4</td>\n",
       "      <td>7</td>\n",
       "    </tr>\n",
       "    <tr>\n",
       "      <th>1</th>\n",
       "      <td>None</td>\n",
       "      <td>None</td>\n",
       "      <td>None</td>\n",
       "    </tr>\n",
       "    <tr>\n",
       "      <th>2</th>\n",
       "      <td>2</td>\n",
       "      <td>5</td>\n",
       "      <td>8</td>\n",
       "    </tr>\n",
       "    <tr>\n",
       "      <th>3</th>\n",
       "      <td>3</td>\n",
       "      <td>6</td>\n",
       "      <td>9</td>\n",
       "    </tr>\n",
       "  </tbody>\n",
       "</table>\n",
       "</div>"
      ],
      "text/plain": [
       "      A     B     C\n",
       "0     1     4     7\n",
       "1  None  None  None\n",
       "2     2     5     8\n",
       "3     3     6     9"
      ]
     },
     "execution_count": 10,
     "metadata": {},
     "output_type": "execute_result"
    }
   ],
   "source": [
    "df"
   ]
  },
  {
   "cell_type": "code",
   "execution_count": null,
   "id": "5c989bc5-7924-4cf4-afa4-e5f52af6a6cf",
   "metadata": {},
   "outputs": [],
   "source": []
  }
 ],
 "metadata": {
  "kernelspec": {
   "display_name": "Python 3 (ipykernel)",
   "language": "python",
   "name": "python3"
  },
  "language_info": {
   "codemirror_mode": {
    "name": "ipython",
    "version": 3
   },
   "file_extension": ".py",
   "mimetype": "text/x-python",
   "name": "python",
   "nbconvert_exporter": "python",
   "pygments_lexer": "ipython3",
   "version": "3.9.18"
  }
 },
 "nbformat": 4,
 "nbformat_minor": 5
}
