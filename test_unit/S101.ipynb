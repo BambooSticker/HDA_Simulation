{
 "cells": [
  {
   "cell_type": "code",
   "execution_count": 1,
   "id": "ae8227e5-f738-4d6d-9f21-17860da603ab",
   "metadata": {},
   "outputs": [],
   "source": [
    "import numpy as np\n",
    "import matplotlib.pyplot as plt\n",
    "import pandas as pd\n",
    "from pyomo.environ import *\n",
    "from idaes.core.util.misc import extract_data\n",
    "import pyomo.environ as pyo\n",
    "from pyomo.util.calc_var_value import calculate_variable_from_constraint\n",
    "from State_Block import Create_State_Block\n",
    "from idaes.core.util.model_statistics import degrees_of_freedom\n",
    "from Unit_Model import S101_creater\n",
    "from Method import Initialize"
   ]
  },
  {
   "cell_type": "code",
   "execution_count": 2,
   "id": "dd901719-b89a-4fdb-95a0-b299950703bd",
   "metadata": {},
   "outputs": [],
   "source": [
    "# Create a concrete model\n",
    "m = ConcreteModel()\n",
    "# Define a set for components\n",
    "m.Phase = Set(initialize = ['Liq','Vap'])\n",
    "m.Comp = Set(initialize = ['benzene','toluene','methane','hydrogen'])\n",
    "m.S101 = S101_creater(m)"
   ]
  },
  {
   "cell_type": "code",
   "execution_count": 3,
   "id": "0f701259-c5e0-45c9-91b8-ca8b2f6f31a2",
   "metadata": {},
   "outputs": [],
   "source": [
    "# 各组分进料\n",
    "m.S101.inlet.flow['Liq','benzene'].fix(1.0000e-08)\n",
    "m.S101.inlet.flow['Liq','toluene'].fix(1.0000e-08)\n",
    "m.S101.inlet.flow['Liq','methane'].fix(1.0000e-08)\n",
    "m.S101.inlet.flow['Liq','hydrogen'].fix(1.0000e-08)\n",
    "m.S101.inlet.flow['Vap','benzene'].fix(0.14915)\n",
    "m.S101.inlet.flow['Vap','toluene'].fix(0.015610)\n",
    "m.S101.inlet.flow['Vap','methane'].fix(1.2721)\n",
    "m.S101.inlet.flow['Vap','hydrogen'].fix(0.32821)\n",
    "\n",
    "# 温度压力\n",
    "m.S101.inlet.P.fix(350000)\n",
    "m.S101.inlet.T.fix(325)\n"
   ]
  },
  {
   "cell_type": "code",
   "execution_count": 4,
   "id": "63f6934f-4bb5-4bd3-97c3-b80f1323a0cd",
   "metadata": {},
   "outputs": [
    {
     "data": {
      "text/plain": [
       "0"
      ]
     },
     "execution_count": 4,
     "metadata": {},
     "output_type": "execute_result"
    }
   ],
   "source": [
    "degrees_of_freedom(m.S101)"
   ]
  },
  {
   "cell_type": "code",
   "execution_count": 5,
   "id": "137d11b3-8a2a-4cdb-a4b4-7284a5bbc3c0",
   "metadata": {},
   "outputs": [
    {
     "name": "stdout",
     "output_type": "stream",
     "text": [
      "Ipopt 3.13.2: tol=0.001\n",
      "\n",
      "\n",
      "******************************************************************************\n",
      "This program contains Ipopt, a library for large-scale nonlinear optimization.\n",
      " Ipopt is released as open source code under the Eclipse Public License (EPL).\n",
      "         For more information visit http://projects.coin-or.org/Ipopt\n",
      "\n",
      "This version of Ipopt was compiled from source code available at\n",
      "    https://github.com/IDAES/Ipopt as part of the Institute for the Design of\n",
      "    Advanced Energy Systems Process Systems Engineering Framework (IDAES PSE\n",
      "    Framework) Copyright (c) 2018-2019. See https://github.com/IDAES/idaes-pse.\n",
      "\n",
      "This version of Ipopt was compiled using HSL, a collection of Fortran codes\n",
      "    for large-scale scientific computation.  All technical papers, sales and\n",
      "    publicity material resulting from use of the HSL codes within IPOPT must\n",
      "    contain the following acknowledgement:\n",
      "        HSL, a collection of Fortran codes for large-scale scientific\n",
      "        computation. See http://www.hsl.rl.ac.uk.\n",
      "******************************************************************************\n",
      "\n",
      "This is Ipopt version 3.13.2, running with linear solver mumps.\n",
      "NOTE: Other linear solvers might be more efficient (see Ipopt documentation).\n",
      "\n",
      "Number of nonzeros in equality constraint Jacobian...:       65\n",
      "Number of nonzeros in inequality constraint Jacobian.:        0\n",
      "Number of nonzeros in Lagrangian Hessian.............:       13\n",
      "\n",
      "Total number of variables............................:       49\n",
      "                     variables with only lower bounds:        0\n",
      "                variables with lower and upper bounds:       15\n",
      "                     variables with only upper bounds:        0\n",
      "Total number of equality constraints.................:       49\n",
      "Total number of inequality constraints...............:        0\n",
      "        inequality constraints with only lower bounds:        0\n",
      "   inequality constraints with lower and upper bounds:        0\n",
      "        inequality constraints with only upper bounds:        0\n",
      "\n",
      "iter    objective    inf_pr   inf_du lg(mu)  ||d||  lg(rg) alpha_du alpha_pr  ls\n",
      "   0  0.0000000e+00 7.00e+08 0.00e+00  -1.0 0.00e+00    -  0.00e+00 0.00e+00   0\n",
      "   1  0.0000000e+00 6.40e+08 2.21e+04  -1.0 1.17e+06    -  1.01e-01 8.60e-02h  1\n",
      "   2  0.0000000e+00 6.40e+06 1.50e+06  -1.0 6.40e+05    -  1.36e-01 9.90e-01h  1\n",
      "   3  0.0000000e+00 6.39e+04 5.22e+05  -1.0 3.81e+06    -  1.45e-01 9.90e-01h  1\n",
      "   4  0.0000000e+00 5.23e+02 1.06e+05  -1.0 1.67e+07    -  2.08e-01 9.92e-01h  1\n",
      "   5  0.0000000e+00 1.42e+02 6.23e+05  -1.0 4.48e+07    -  3.16e-01 1.00e+00h  1\n",
      "   6  0.0000000e+00 4.30e+01 2.16e+06  -1.0 6.45e+07    -  5.41e-01 1.00e+00h  1\n",
      "   7  0.0000000e+00 5.35e+00 2.55e+05  -1.0 3.88e+07    -  8.82e-01 1.00e+00h  1\n",
      "   8  0.0000000e+00 9.67e-02 4.00e+03  -1.0 6.26e+06    -  9.84e-01 1.00e+00h  1\n",
      "   9  0.0000000e+00 3.24e-05 4.00e+01  -1.0 1.17e+05    -  9.90e-01 1.00e+00h  1\n",
      "\n",
      "Number of Iterations....: 9\n",
      "\n",
      "                                   (scaled)                 (unscaled)\n",
      "Objective...............:   0.0000000000000000e+00    0.0000000000000000e+00\n",
      "Dual infeasibility......:   0.0000000000000000e+00    0.0000000000000000e+00\n",
      "Constraint violation....:   3.2373685300512989e-05    3.2373685300512989e-05\n",
      "Complementarity.........:   0.0000000000000000e+00    0.0000000000000000e+00\n",
      "Overall NLP error.......:   3.2373685300512989e-05    3.2373685300512989e-05\n",
      "\n",
      "\n",
      "Number of objective function evaluations             = 10\n",
      "Number of objective gradient evaluations             = 10\n",
      "Number of equality constraint evaluations            = 10\n",
      "Number of inequality constraint evaluations          = 0\n",
      "Number of equality constraint Jacobian evaluations   = 10\n",
      "Number of inequality constraint Jacobian evaluations = 0\n",
      "Number of Lagrangian Hessian evaluations             = 9\n",
      "Total CPU secs in IPOPT (w/o function evaluations)   =      0.002\n",
      "Total CPU secs in NLP function evaluations           =      0.000\n",
      "\n",
      "EXIT: Optimal Solution Found.\n"
     ]
    }
   ],
   "source": [
    "# 模型求解\n",
    "solver = pyo.SolverFactory('ipopt')\n",
    "solver.options['tol'] = 1e-3\n",
    "#results = solver.solve(m)\n",
    "results = solver.solve(m,tee=True)"
   ]
  },
  {
   "cell_type": "code",
   "execution_count": 6,
   "id": "84c27dcd-76e9-441f-99ec-0c73d7e6a8f5",
   "metadata": {},
   "outputs": [
    {
     "name": "stdout",
     "output_type": "stream",
     "text": [
      "purge Flow Rate S101:\n",
      "\t [ Liq , benzene ]:  2e-09\n",
      "\t [ Liq , toluene ]:  2e-09\n",
      "\t [ Liq , methane ]:  2e-09\n",
      "\t [ Liq , hydrogen ]:  2e-09\n",
      "\t [ Vap , benzene ]:  0.029830000000000002\n",
      "\t [ Vap , toluene ]:  0.003122\n",
      "\t [ Vap , methane ]:  0.25442000000000004\n",
      "\t [ Vap , hydrogen ]:  0.065642\n"
     ]
    }
   ],
   "source": [
    "print('purge Flow Rate S101:')\n",
    "for p in m.Phase:\n",
    "    for c in m.Comp:\n",
    "        print('\\t [',p,',',c,']: ',value(m.S101.Purge.flow[p,c]))"
   ]
  },
  {
   "cell_type": "code",
   "execution_count": 7,
   "id": "36b00011-0aec-4f4e-8302-dd2d7f02f5fb",
   "metadata": {},
   "outputs": [
    {
     "name": "stdout",
     "output_type": "stream",
     "text": [
      "recycle Flow Rate S101:\n",
      "\t [ Liq , benzene ]:  8e-09\n",
      "\t [ Liq , toluene ]:  8e-09\n",
      "\t [ Liq , methane ]:  8e-09\n",
      "\t [ Liq , hydrogen ]:  8e-09\n",
      "\t [ Vap , benzene ]:  0.11932000000000001\n",
      "\t [ Vap , toluene ]:  0.012488\n",
      "\t [ Vap , methane ]:  1.0176800000000001\n",
      "\t [ Vap , hydrogen ]:  0.262568\n"
     ]
    }
   ],
   "source": [
    "print('recycle Flow Rate S101:')\n",
    "for p in m.Phase:\n",
    "    for c in m.Comp:\n",
    "        print('\\t [',p,',',c,']: ',value(m.S101.Recycle.flow[p,c]))"
   ]
  },
  {
   "cell_type": "code",
   "execution_count": null,
   "id": "2aab51c8-8174-4e0f-85f9-aed38070b130",
   "metadata": {},
   "outputs": [],
   "source": []
  }
 ],
 "metadata": {
  "kernelspec": {
   "display_name": "Python 3 (ipykernel)",
   "language": "python",
   "name": "python3"
  },
  "language_info": {
   "codemirror_mode": {
    "name": "ipython",
    "version": 3
   },
   "file_extension": ".py",
   "mimetype": "text/x-python",
   "name": "python",
   "nbconvert_exporter": "python",
   "pygments_lexer": "ipython3",
   "version": "3.9.18"
  }
 },
 "nbformat": 4,
 "nbformat_minor": 5
}
