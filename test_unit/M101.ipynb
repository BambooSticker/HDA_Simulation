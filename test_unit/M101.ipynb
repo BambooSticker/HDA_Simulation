{
 "cells": [
  {
   "cell_type": "code",
   "execution_count": 1,
   "id": "29160dd0-fc69-4f74-8f14-b7277cccde64",
   "metadata": {},
   "outputs": [],
   "source": [
    "import numpy as np\n",
    "import matplotlib.pyplot as plt\n",
    "import pandas as pd\n",
    "from pyomo.environ import *\n",
    "from idaes.core.util.misc import extract_data\n",
    "import pyomo.environ as pyo\n",
    "from pyomo.util.calc_var_value import calculate_variable_from_constraint\n",
    "from State_Block import Create_State_Block\n",
    "from idaes.core.util.model_statistics import degrees_of_freedom\n",
    "from Unit_Model import M101_creater\n",
    "from Method import Initialize\n",
    "from pyomo.network import *\n",
    "from State_Block_for_Mixer import Create_State_Block_for_Mixer"
   ]
  },
  {
   "cell_type": "code",
   "execution_count": 2,
   "id": "d2c6c37c-acf2-416a-9c28-e02b12b9040b",
   "metadata": {},
   "outputs": [],
   "source": [
    "# Create a concrete model\n",
    "m = ConcreteModel()\n",
    "# Define a set for components\n",
    "m.Phase = Set(initialize = ['Liq','Vap'])\n",
    "m.Comp = Set(initialize = ['benzene','toluene','methane','hydrogen'])"
   ]
  },
  {
   "cell_type": "code",
   "execution_count": 3,
   "id": "18610d52-56e9-4675-90ff-03d1ce14494e",
   "metadata": {},
   "outputs": [],
   "source": [
    "m.M101 = M101_creater(m)"
   ]
  },
  {
   "cell_type": "code",
   "execution_count": 4,
   "id": "fb37d794-f95f-4c69-a81f-45fb2c14edb1",
   "metadata": {},
   "outputs": [],
   "source": [
    "# 各组分进料\n",
    "m.M101.inlet_feed['Toluene'].flow['Liq','benzene'].fix(1e-8)\n",
    "m.M101.inlet_feed['Toluene'].flow['Liq','toluene'].fix(0.30)\n",
    "m.M101.inlet_feed['Toluene'].flow['Liq','methane'].fix(1e-8)\n",
    "m.M101.inlet_feed['Toluene'].flow['Liq','hydrogen'].fix(1e-8)\n",
    "m.M101.inlet_feed['Toluene'].flow['Vap','benzene'].fix(1e-8)\n",
    "m.M101.inlet_feed['Toluene'].flow['Vap','toluene'].fix(1e-8)\n",
    "m.M101.inlet_feed['Toluene'].flow['Vap','methane'].fix(1e-8)\n",
    "m.M101.inlet_feed['Toluene'].flow['Vap','hydrogen'].fix(1e-8)\n",
    "m.M101.inlet_feed['Toluene'].T.fix(303.2)\n",
    "m.M101.inlet_feed['Toluene'].P.fix(350000)\n",
    "\n",
    "m.M101.inlet_feed['Hydrogen'].flow['Liq','benzene'].fix(1e-8)\n",
    "m.M101.inlet_feed['Hydrogen'].flow['Liq','toluene'].fix(1e-8)\n",
    "m.M101.inlet_feed['Hydrogen'].flow['Liq','methane'].fix(1e-8)\n",
    "m.M101.inlet_feed['Hydrogen'].flow['Liq','hydrogen'].fix(1e-8)\n",
    "m.M101.inlet_feed['Hydrogen'].flow['Vap','benzene'].fix(1e-8)\n",
    "m.M101.inlet_feed['Hydrogen'].flow['Vap','toluene'].fix(1e-8)\n",
    "m.M101.inlet_feed['Hydrogen'].flow['Vap','methane'].fix(0.02)\n",
    "m.M101.inlet_feed['Hydrogen'].flow['Vap','hydrogen'].fix(0.30)\n",
    "m.M101.inlet_feed['Hydrogen'].T.fix(303.2)\n",
    "m.M101.inlet_feed['Hydrogen'].P.fix(350000)\n",
    "\n",
    "m.M101.inlet_feed['Recycle'].flow['Liq','benzene'].fix(1e-8)\n",
    "m.M101.inlet_feed['Recycle'].flow['Liq','toluene'].fix(1e-8)\n",
    "m.M101.inlet_feed['Recycle'].flow['Liq','methane'].fix(1e-8)\n",
    "m.M101.inlet_feed['Recycle'].flow['Liq','hydrogen'].fix(1e-8)\n",
    "m.M101.inlet_feed['Recycle'].flow['Vap','benzene'].fix(0.11932)\n",
    "m.M101.inlet_feed['Recycle'].flow['Vap','toluene'].fix(0.012488)\n",
    "m.M101.inlet_feed['Recycle'].flow['Vap','methane'].fix(1.0177)\n",
    "m.M101.inlet_feed['Recycle'].flow['Vap','hydrogen'].fix(0.26257)\n",
    "m.M101.inlet_feed['Recycle'].T.fix(325.00)\n",
    "m.M101.inlet_feed['Recycle'].P.fix(350000)"
   ]
  },
  {
   "cell_type": "code",
   "execution_count": 5,
   "id": "9bc6e2ca-e95c-426f-985b-fa0cb4d9ae42",
   "metadata": {},
   "outputs": [
    {
     "data": {
      "text/plain": [
       "0"
      ]
     },
     "execution_count": 5,
     "metadata": {},
     "output_type": "execute_result"
    }
   ],
   "source": [
    "degrees_of_freedom(m)"
   ]
  },
  {
   "cell_type": "code",
   "execution_count": 6,
   "id": "7e625280-e831-4d54-920f-8ba497cb1abf",
   "metadata": {},
   "outputs": [],
   "source": [
    "# 模型求解\n",
    "solver = pyo.SolverFactory('ipopt')\n",
    "results = solver.solve(m)"
   ]
  },
  {
   "cell_type": "code",
   "execution_count": 7,
   "id": "df17d3bb-6c8b-424a-8fc4-02488ac1b314",
   "metadata": {},
   "outputs": [
    {
     "name": "stdout",
     "output_type": "stream",
     "text": [
      "outlet : Size=1, Index=None, Active=True\n",
      "    4 Set Declarations\n",
      "        Comp : Size=1, Index=None, Ordered=Insertion\n",
      "            Key  : Dimen : Domain : Size : Members\n",
      "            None :     1 :    Any :    4 : {'benzene', 'toluene', 'methane', 'hydrogen'}\n",
      "        Phase : Size=1, Index=None, Ordered=Insertion\n",
      "            Key  : Dimen : Domain : Size : Members\n",
      "            None :     1 :    Any :    2 : {'Liq', 'Vap'}\n",
      "        enth_mol_phase_comp_index : Size=1, Index=None, Ordered=True\n",
      "            Key  : Dimen : Domain                             : Size : Members\n",
      "            None :     2 : M101.outlet.Phase*M101.outlet.Comp :    8 : {('Liq', 'benzene'), ('Liq', 'toluene'), ('Liq', 'methane'), ('Liq', 'hydrogen'), ('Vap', 'benzene'), ('Vap', 'toluene'), ('Vap', 'methane'), ('Vap', 'hydrogen')}\n",
      "        flow_index : Size=1, Index=None, Ordered=True\n",
      "            Key  : Dimen : Domain                             : Size : Members\n",
      "            None :     2 : M101.outlet.Phase*M101.outlet.Comp :    8 : {('Liq', 'benzene'), ('Liq', 'toluene'), ('Liq', 'methane'), ('Liq', 'hydrogen'), ('Vap', 'benzene'), ('Vap', 'toluene'), ('Vap', 'methane'), ('Vap', 'hydrogen')}\n",
      "\n",
      "    4 Var Declarations\n",
      "        P : Size=1, Index=None\n",
      "            Key  : Lower : Value    : Upper         : Fixed : Stale : Domain\n",
      "            None :   100 : 350000.0 : 10000000000.0 : False : False :  Reals\n",
      "        T : Size=1, Index=None\n",
      "            Key  : Lower : Value             : Upper : Fixed : Stale : Domain\n",
      "            None :    25 : 314.0862699663759 :  1200 : False : False :  Reals\n",
      "        enth_mol_phase_comp : Phase-component molar specific enthalpies\n",
      "            Size=8, Index=M101.outlet.enth_mol_phase_comp_index\n",
      "            Key                 : Lower : Value                : Upper : Fixed : Stale : Domain\n",
      "             ('Liq', 'benzene') :  None :    2194.370472950575 :  None : False : False :  Reals\n",
      "            ('Liq', 'hydrogen') :  None : 0.004589532008289506 :  None : False : False :  Reals\n",
      "             ('Liq', 'methane') :  None : 0.004589532008289506 :  None : False : False :  Reals\n",
      "             ('Liq', 'toluene') :  None :   2527.6841220978145 :  None : False : False :  Reals\n",
      "             ('Vap', 'benzene') :  None :   35223.274347877916 :  None : False : False :  Reals\n",
      "            ('Vap', 'hydrogen') :  None :   460.62174232747526 :  None : False : False :  Reals\n",
      "             ('Vap', 'methane') :  None :    573.7843926728273 :  None : False : False :  Reals\n",
      "             ('Vap', 'toluene') :  None :     39983.5802451861 :  None : False : False :  Reals\n",
      "        flow : Size=8, Index=M101.outlet.flow_index\n",
      "            Key                 : Lower : Value                  : Upper : Fixed : Stale : Domain\n",
      "             ('Liq', 'benzene') : 1e-12 : 2.9999999471738364e-08 :     5 : False : False :  Reals\n",
      "            ('Liq', 'hydrogen') : 1e-12 :  3.000000004132858e-08 :     5 : False : False :  Reals\n",
      "             ('Liq', 'methane') : 1e-12 :  3.000000004132858e-08 :     5 : False : False :  Reals\n",
      "             ('Liq', 'toluene') : 1e-12 :     0.3000000200009588 :     5 : False : False :  Reals\n",
      "             ('Vap', 'benzene') : 1e-12 :    0.11932001999857494 :     5 : False : False :  Reals\n",
      "            ('Vap', 'hydrogen') : 1e-12 :     0.5625700100000979 :     5 : False : False :  Reals\n",
      "             ('Vap', 'methane') : 1e-12 :     1.0377000100000002 :     5 : False : False :  Reals\n",
      "             ('Vap', 'toluene') : 1e-12 :   0.012488019843348502 :     5 : False : False :  Reals\n",
      "\n",
      "    8 Expression Declarations\n",
      "        enth_mol_liq : Size=1, Index=None\n",
      "            Key  : Expression\n",
      "            None : M101.outlet.enth_mol_phase_comp[Liq,benzene]*(M101.outlet.flow[Liq,benzene]/(M101.outlet.flow[Liq,benzene] + M101.outlet.flow[Liq,toluene] + M101.outlet.flow[Liq,methane] + M101.outlet.flow[Liq,hydrogen])) + M101.outlet.enth_mol_phase_comp[Liq,toluene]*(M101.outlet.flow[Liq,toluene]/(M101.outlet.flow[Liq,benzene] + M101.outlet.flow[Liq,toluene] + M101.outlet.flow[Liq,methane] + M101.outlet.flow[Liq,hydrogen])) + M101.outlet.enth_mol_phase_comp[Liq,methane]*(M101.outlet.flow[Liq,methane]/(M101.outlet.flow[Liq,benzene] + M101.outlet.flow[Liq,toluene] + M101.outlet.flow[Liq,methane] + M101.outlet.flow[Liq,hydrogen])) + M101.outlet.enth_mol_phase_comp[Liq,hydrogen]*(M101.outlet.flow[Liq,hydrogen]/(M101.outlet.flow[Liq,benzene] + M101.outlet.flow[Liq,toluene] + M101.outlet.flow[Liq,methane] + M101.outlet.flow[Liq,hydrogen]))\n",
      "        enth_mol_vap : Size=1, Index=None\n",
      "            Key  : Expression\n",
      "            None : M101.outlet.enth_mol_phase_comp[Vap,benzene]*(M101.outlet.flow[Vap,benzene]/(M101.outlet.flow[Vap,benzene] + M101.outlet.flow[Vap,toluene] + M101.outlet.flow[Vap,methane] + M101.outlet.flow[Vap,hydrogen])) + M101.outlet.enth_mol_phase_comp[Vap,toluene]*(M101.outlet.flow[Vap,toluene]/(M101.outlet.flow[Vap,benzene] + M101.outlet.flow[Vap,toluene] + M101.outlet.flow[Vap,methane] + M101.outlet.flow[Vap,hydrogen])) + M101.outlet.enth_mol_phase_comp[Vap,methane]*(M101.outlet.flow[Vap,methane]/(M101.outlet.flow[Vap,benzene] + M101.outlet.flow[Vap,toluene] + M101.outlet.flow[Vap,methane] + M101.outlet.flow[Vap,hydrogen])) + M101.outlet.enth_mol_phase_comp[Vap,hydrogen]*(M101.outlet.flow[Vap,hydrogen]/(M101.outlet.flow[Vap,benzene] + M101.outlet.flow[Vap,toluene] + M101.outlet.flow[Vap,methane] + M101.outlet.flow[Vap,hydrogen]))\n",
      "        flow_phase : Size=2, Index=M101.outlet.Phase\n",
      "            Key : Expression\n",
      "            Liq : M101.outlet.flow[Liq,benzene] + M101.outlet.flow[Liq,toluene] + M101.outlet.flow[Liq,methane] + M101.outlet.flow[Liq,hydrogen]\n",
      "            Vap : M101.outlet.flow[Vap,benzene] + M101.outlet.flow[Vap,toluene] + M101.outlet.flow[Vap,methane] + M101.outlet.flow[Vap,hydrogen]\n",
      "        total_enth : Size=1, Index=None\n",
      "            Key  : Expression\n",
      "            None : (M101.outlet.enth_mol_phase_comp[Liq,benzene]*(M101.outlet.flow[Liq,benzene]/(M101.outlet.flow[Liq,benzene] + M101.outlet.flow[Liq,toluene] + M101.outlet.flow[Liq,methane] + M101.outlet.flow[Liq,hydrogen])) + M101.outlet.enth_mol_phase_comp[Liq,toluene]*(M101.outlet.flow[Liq,toluene]/(M101.outlet.flow[Liq,benzene] + M101.outlet.flow[Liq,toluene] + M101.outlet.flow[Liq,methane] + M101.outlet.flow[Liq,hydrogen])) + M101.outlet.enth_mol_phase_comp[Liq,methane]*(M101.outlet.flow[Liq,methane]/(M101.outlet.flow[Liq,benzene] + M101.outlet.flow[Liq,toluene] + M101.outlet.flow[Liq,methane] + M101.outlet.flow[Liq,hydrogen])) + M101.outlet.enth_mol_phase_comp[Liq,hydrogen]*(M101.outlet.flow[Liq,hydrogen]/(M101.outlet.flow[Liq,benzene] + M101.outlet.flow[Liq,toluene] + M101.outlet.flow[Liq,methane] + M101.outlet.flow[Liq,hydrogen])))*(M101.outlet.flow[Liq,benzene] + M101.outlet.flow[Liq,toluene] + M101.outlet.flow[Liq,methane] + M101.outlet.flow[Liq,hydrogen]) + (M101.outlet.enth_mol_phase_comp[Vap,benzene]*(M101.outlet.flow[Vap,benzene]/(M101.outlet.flow[Vap,benzene] + M101.outlet.flow[Vap,toluene] + M101.outlet.flow[Vap,methane] + M101.outlet.flow[Vap,hydrogen])) + M101.outlet.enth_mol_phase_comp[Vap,toluene]*(M101.outlet.flow[Vap,toluene]/(M101.outlet.flow[Vap,benzene] + M101.outlet.flow[Vap,toluene] + M101.outlet.flow[Vap,methane] + M101.outlet.flow[Vap,hydrogen])) + M101.outlet.enth_mol_phase_comp[Vap,methane]*(M101.outlet.flow[Vap,methane]/(M101.outlet.flow[Vap,benzene] + M101.outlet.flow[Vap,toluene] + M101.outlet.flow[Vap,methane] + M101.outlet.flow[Vap,hydrogen])) + M101.outlet.enth_mol_phase_comp[Vap,hydrogen]*(M101.outlet.flow[Vap,hydrogen]/(M101.outlet.flow[Vap,benzene] + M101.outlet.flow[Vap,toluene] + M101.outlet.flow[Vap,methane] + M101.outlet.flow[Vap,hydrogen])))*(M101.outlet.flow[Vap,benzene] + M101.outlet.flow[Vap,toluene] + M101.outlet.flow[Vap,methane] + M101.outlet.flow[Vap,hydrogen])\n",
      "        total_flow : Size=4, Index=M101.outlet.Comp\n",
      "            Key      : Expression\n",
      "             benzene : M101.outlet.flow[Liq,benzene] + M101.outlet.flow[Vap,benzene]\n",
      "            hydrogen : M101.outlet.flow[Liq,hydrogen] + M101.outlet.flow[Vap,hydrogen]\n",
      "             methane : M101.outlet.flow[Liq,methane] + M101.outlet.flow[Vap,methane]\n",
      "             toluene : M101.outlet.flow[Liq,toluene] + M101.outlet.flow[Vap,toluene]\n",
      "        x : Size=4, Index=M101.outlet.Comp\n",
      "            Key      : Expression\n",
      "             benzene : M101.outlet.flow[Liq,benzene]/(M101.outlet.flow[Liq,benzene] + M101.outlet.flow[Liq,toluene] + M101.outlet.flow[Liq,methane] + M101.outlet.flow[Liq,hydrogen])\n",
      "            hydrogen : M101.outlet.flow[Liq,hydrogen]/(M101.outlet.flow[Liq,benzene] + M101.outlet.flow[Liq,toluene] + M101.outlet.flow[Liq,methane] + M101.outlet.flow[Liq,hydrogen])\n",
      "             methane : M101.outlet.flow[Liq,methane]/(M101.outlet.flow[Liq,benzene] + M101.outlet.flow[Liq,toluene] + M101.outlet.flow[Liq,methane] + M101.outlet.flow[Liq,hydrogen])\n",
      "             toluene : M101.outlet.flow[Liq,toluene]/(M101.outlet.flow[Liq,benzene] + M101.outlet.flow[Liq,toluene] + M101.outlet.flow[Liq,methane] + M101.outlet.flow[Liq,hydrogen])\n",
      "        y : Size=4, Index=M101.outlet.Comp\n",
      "            Key      : Expression\n",
      "             benzene : M101.outlet.flow[Vap,benzene]/(M101.outlet.flow[Vap,benzene] + M101.outlet.flow[Vap,toluene] + M101.outlet.flow[Vap,methane] + M101.outlet.flow[Vap,hydrogen])\n",
      "            hydrogen : M101.outlet.flow[Vap,hydrogen]/(M101.outlet.flow[Vap,benzene] + M101.outlet.flow[Vap,toluene] + M101.outlet.flow[Vap,methane] + M101.outlet.flow[Vap,hydrogen])\n",
      "             methane : M101.outlet.flow[Vap,methane]/(M101.outlet.flow[Vap,benzene] + M101.outlet.flow[Vap,toluene] + M101.outlet.flow[Vap,methane] + M101.outlet.flow[Vap,hydrogen])\n",
      "             toluene : M101.outlet.flow[Vap,toluene]/(M101.outlet.flow[Vap,benzene] + M101.outlet.flow[Vap,toluene] + M101.outlet.flow[Vap,methane] + M101.outlet.flow[Vap,hydrogen])\n",
      "        z : Size=4, Index=M101.outlet.Comp\n",
      "            Key      : Expression\n",
      "             benzene : (M101.outlet.flow[Liq,benzene] + M101.outlet.flow[Vap,benzene])/(M101.outlet.flow[Liq,benzene] + M101.outlet.flow[Liq,toluene] + M101.outlet.flow[Liq,methane] + M101.outlet.flow[Liq,hydrogen] + M101.outlet.flow[Vap,benzene] + M101.outlet.flow[Vap,toluene] + M101.outlet.flow[Vap,methane] + M101.outlet.flow[Vap,hydrogen])\n",
      "            hydrogen : (M101.outlet.flow[Liq,hydrogen] + M101.outlet.flow[Vap,hydrogen])/(M101.outlet.flow[Liq,benzene] + M101.outlet.flow[Liq,toluene] + M101.outlet.flow[Liq,methane] + M101.outlet.flow[Liq,hydrogen] + M101.outlet.flow[Vap,benzene] + M101.outlet.flow[Vap,toluene] + M101.outlet.flow[Vap,methane] + M101.outlet.flow[Vap,hydrogen])\n",
      "             methane : (M101.outlet.flow[Liq,methane] + M101.outlet.flow[Vap,methane])/(M101.outlet.flow[Liq,benzene] + M101.outlet.flow[Liq,toluene] + M101.outlet.flow[Liq,methane] + M101.outlet.flow[Liq,hydrogen] + M101.outlet.flow[Vap,benzene] + M101.outlet.flow[Vap,toluene] + M101.outlet.flow[Vap,methane] + M101.outlet.flow[Vap,hydrogen])\n",
      "             toluene : (M101.outlet.flow[Liq,toluene] + M101.outlet.flow[Vap,toluene])/(M101.outlet.flow[Liq,benzene] + M101.outlet.flow[Liq,toluene] + M101.outlet.flow[Liq,methane] + M101.outlet.flow[Liq,hydrogen] + M101.outlet.flow[Vap,benzene] + M101.outlet.flow[Vap,toluene] + M101.outlet.flow[Vap,methane] + M101.outlet.flow[Vap,hydrogen])\n",
      "\n",
      "    16 Declarations: Phase Comp flow_index flow T P total_flow z x y flow_phase enth_mol_phase_comp_index enth_mol_phase_comp enth_mol_liq enth_mol_vap total_enth\n"
     ]
    }
   ],
   "source": [
    "m.M101.outlet.pprint()"
   ]
  },
  {
   "cell_type": "code",
   "execution_count": null,
   "id": "87c745f8-3a49-492f-9552-f30326155443",
   "metadata": {},
   "outputs": [],
   "source": []
  }
 ],
 "metadata": {
  "kernelspec": {
   "display_name": "Python 3 (ipykernel)",
   "language": "python",
   "name": "python3"
  },
  "language_info": {
   "codemirror_mode": {
    "name": "ipython",
    "version": 3
   },
   "file_extension": ".py",
   "mimetype": "text/x-python",
   "name": "python",
   "nbconvert_exporter": "python",
   "pygments_lexer": "ipython3",
   "version": "3.9.18"
  }
 },
 "nbformat": 4,
 "nbformat_minor": 5
}
